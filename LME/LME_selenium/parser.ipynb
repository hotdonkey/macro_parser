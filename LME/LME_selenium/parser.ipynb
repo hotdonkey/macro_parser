{
 "cells": [
  {
   "cell_type": "code",
   "execution_count": 31,
   "metadata": {},
   "outputs": [],
   "source": [
    "from selenium import webdriver\n",
    "from selenium.webdriver.chrome.service import Service\n",
    "\n",
    "import pandas as pd\n",
    "from bs4 import BeautifulSoup\n",
    "\n",
    "from selenium.webdriver.common.keys import Keys\n",
    "from selenium.webdriver.common.by import By\n",
    "from selenium.webdriver.support.ui import WebDriverWait\n",
    "from selenium.webdriver.support import expected_conditions as EC\n",
    "\n",
    "import time"
   ]
  },
  {
   "cell_type": "code",
   "execution_count": 32,
   "metadata": {},
   "outputs": [],
   "source": [
    "service = Service()  # (executable_path='./chromedriver_mac_arm64/chromedriver')\n",
    "driver = webdriver.Chrome(service=service)"
   ]
  },
  {
   "cell_type": "code",
   "execution_count": 33,
   "metadata": {},
   "outputs": [
    {
     "name": "stdout",
     "output_type": "stream",
     "text": [
      "Message: \n",
      "Stacktrace:\n",
      "0   chromedriver                        0x0000000100758510 chromedriver + 4310288\n",
      "1   chromedriver                        0x00000001007504bc chromedriver + 4277436\n",
      "2   chromedriver                        0x0000000100383b6c chromedriver + 293740\n",
      "3   chromedriver                        0x00000001003c9040 chromedriver + 577600\n",
      "4   chromedriver                        0x0000000100403e60 chromedriver + 818784\n",
      "5   chromedriver                        0x00000001003bcfd0 chromedriver + 528336\n",
      "6   chromedriver                        0x00000001003bde7c chromedriver + 532092\n",
      "7   chromedriver                        0x000000010071e834 chromedriver + 4073524\n",
      "8   chromedriver                        0x00000001007227fc chromedriver + 4089852\n",
      "9   chromedriver                        0x0000000100722c58 chromedriver + 4090968\n",
      "10  chromedriver                        0x00000001007288f8 chromedriver + 4114680\n",
      "11  chromedriver                        0x0000000100723234 chromedriver + 4092468\n",
      "12  chromedriver                        0x00000001006fd604 chromedriver + 3937796\n",
      "13  chromedriver                        0x000000010073fee8 chromedriver + 4210408\n",
      "14  chromedriver                        0x0000000100740064 chromedriver + 4210788\n",
      "15  chromedriver                        0x0000000100750134 chromedriver + 4276532\n",
      "16  libsystem_pthread.dylib             0x0000000188027034 _pthread_start + 136\n",
      "17  libsystem_pthread.dylib             0x0000000188021e3c thread_start + 8\n",
      "\n"
     ]
    }
   ],
   "source": [
    "try:\n",
    "    driver.maximize_window()\n",
    "    driver.get('https://www.cbr.ru/currency_base/dynamics/?UniDbQuery.Posted=True&UniDbQuery.so=1&UniDbQuery.mode=1&UniDbQuery.date_req1=&UniDbQuery.date_req2=&UniDbQuery.VAL_NM_RQ=R01235&UniDbQuery.From=01.01.2023&UniDbQuery.To=31.12.2023')\n",
    "\n",
    "    html = driver.page_source\n",
    "\n",
    "    soup = BeautifulSoup.find_all(attrs={\"class\": {\"tbody\"}})\n",
    "    df = pd.DataFrame(soup)\n",
    "\n",
    "    time.sleep(10)\n",
    "\n",
    "\n",
    "except Exception as error:\n",
    "    print(error)\n",
    "\n",
    "\n",
    "finally:\n",
    "    driver.close()\n",
    "    driver.quit()"
   ]
  },
  {
   "cell_type": "code",
   "execution_count": null,
   "metadata": {},
   "outputs": [],
   "source": [
    "soup = BeautifulSoup(html, \"html.parser\")\n",
    "table = soup.find(\"tbody\")"
   ]
  },
  {
   "cell_type": "code",
   "execution_count": null,
   "metadata": {},
   "outputs": [],
   "source": []
  }
 ],
 "metadata": {
  "kernelspec": {
   "display_name": "Python 3",
   "language": "python",
   "name": "python3"
  },
  "language_info": {
   "codemirror_mode": {
    "name": "ipython",
    "version": 3
   },
   "file_extension": ".py",
   "mimetype": "text/x-python",
   "name": "python",
   "nbconvert_exporter": "python",
   "pygments_lexer": "ipython3",
   "version": "3.11.4"
  }
 },
 "nbformat": 4,
 "nbformat_minor": 2
}
