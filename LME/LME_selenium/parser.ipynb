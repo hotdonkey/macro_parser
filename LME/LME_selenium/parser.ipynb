{
 "cells": [
  {
   "cell_type": "code",
   "execution_count": 1,
   "metadata": {},
   "outputs": [],
   "source": [
    "from selenium import webdriver\n",
    "from selenium.webdriver.chrome.service import Service\n",
    "\n",
    "import pandas as pd\n",
    "from bs4 import BeautifulSoup\n",
    "import requests\n",
    "\n",
    "from selenium.webdriver.common.keys import Keys\n",
    "from selenium.webdriver.common.by import By\n",
    "from selenium.webdriver.support.ui import WebDriverWait\n",
    "from selenium.webdriver.support import expected_conditions as EC\n",
    "\n",
    "import time"
   ]
  },
  {
   "cell_type": "code",
   "execution_count": 2,
   "metadata": {},
   "outputs": [],
   "source": [
    "service = Service()  # (executable_path='./chromedriver_mac_arm64/chromedriver')\n",
    "driver = webdriver.Chrome(service=service)"
   ]
  },
  {
   "cell_type": "code",
   "execution_count": 3,
   "metadata": {},
   "outputs": [],
   "source": [
    "url = 'https://www.lme.com/Metals/Non-ferrous#tabIndex=1'"
   ]
  },
  {
   "cell_type": "code",
   "execution_count": 4,
   "metadata": {},
   "outputs": [
    {
     "name": "stdout",
     "output_type": "stream",
     "text": [
      "Tag.find_all() missing 1 required positional argument: 'self'\n"
     ]
    }
   ],
   "source": [
    "try:\n",
    "    driver.maximize_window()\n",
    "    #driver.get('https://www.cbr.ru/currency_base/dynamics/?UniDbQuery.Posted=True&UniDbQuery.so=1&UniDbQuery.mode=1&UniDbQuery.date_req1=&UniDbQuery.date_req2=&UniDbQuery.VAL_NM_RQ=R01235&UniDbQuery.From=01.01.2023&UniDbQuery.To=31.12.2023')\n",
    "    driver.get(url=url)\n",
    "    \n",
    "    html = driver.page_source\n",
    "\n",
    "    soup = BeautifulSoup.find_all(attrs={\"class\": {\"tbody\"}})\n",
    "    df = pd.DataFrame(soup)\n",
    "\n",
    "    time.sleep(10)\n",
    "\n",
    "\n",
    "except Exception as error:\n",
    "    print(error)\n",
    "\n",
    "\n",
    "finally:\n",
    "    driver.close()\n",
    "    driver.quit()"
   ]
  },
  {
   "cell_type": "code",
   "execution_count": null,
   "metadata": {},
   "outputs": [],
   "source": [
    "soup = BeautifulSoup(html, \"html.parser\")\n",
    "table = soup.find(\"tbody\")"
   ]
  },
  {
   "cell_type": "code",
   "execution_count": 2,
   "metadata": {},
   "outputs": [],
   "source": [
    "url = 'https://www.lme.com/Metals/Non-ferrous/LME-Aluminium#Trading+day+summary'\n",
    "\n",
    "service = Service()\n",
    "driver = webdriver.Chrome(service=service)\n",
    "\n",
    "try:\n",
    "    driver.maximize_window()\n",
    "    driver.get(url=url)\n",
    "    \n",
    "    # Define the JavaScript code to scroll to the bottom of the page\n",
    "    scroll_to_bottom = \"window.scrollTo(0, document.body.scrollHeight);\"\n",
    "\n",
    "    # Execute the JavaScript code\n",
    "    #driver.execute_script(scroll_to_bottom)\n",
    "    \n",
    "    driver.execute_script(\"window.scrollTo(0, window.scrollY + window.innerHeight);\")\n",
    "    driver.execute_script(\"window.scrollTo(0, window.scrollY + window.innerHeight);\")\n",
    "    time.sleep(5)\n",
    "    \n",
    "    html_code = driver.page_source\n",
    "    \n",
    "    with open(\"page.html\", \"w\", encoding=\"utf-8\") as file:\n",
    "        file.write(html_code)\n",
    "\n",
    "\n",
    "except Exception as error:\n",
    "    print(error)\n",
    "\n",
    "\n",
    "finally:\n",
    "    driver.close()\n",
    "    driver.quit()"
   ]
  },
  {
   "cell_type": "code",
   "execution_count": 46,
   "metadata": {},
   "outputs": [
    {
     "data": {
      "text/plain": [
       "[]"
      ]
     },
     "execution_count": 46,
     "metadata": {},
     "output_type": "execute_result"
    }
   ],
   "source": []
  },
  {
   "cell_type": "code",
   "execution_count": 47,
   "metadata": {},
   "outputs": [],
   "source": [
    "url = 'https://www.lme.com/api/trading-data/metal-block?datasourceIds=1b72897c-6a30-480c-a74a-cfc2faaaff16&datasourceIds=fc09fcde-6438-4834-9221-98da9ed54eea&datasourceIds=b411edcc-fc99-4da8-ba18-da82b8a5dad4&datasourceIds=6326cb5f-0770-4ba6-a3b4-871ecf0566f7&datasourceIds=14f25c1d-fd36-459d-a228-e088180bfb75&datasourceIds=1dcd0785-8af8-4df3-aae0-084e9a686654&datasourceIds=4b9fe162-6e23-4566-ba72-6f798c10c605&datasourceIds=e7c48262-7026-401e-8e12-3311783bf629'"
   ]
  },
  {
   "cell_type": "code",
   "execution_count": 49,
   "metadata": {},
   "outputs": [],
   "source": [
    "service = Service()\n",
    "driver = webdriver.Chrome(service=service)\n",
    "\n",
    "try:\n",
    "    driver.maximize_window()\n",
    "    driver.get(url=url)\n",
    "    \n",
    "    # Получить HTML-содержимое страницы\n",
    "    page_source = driver.page_source\n",
    "    \n",
    "    time.sleep(15)\n",
    "\n",
    "\n",
    "except Exception as error:\n",
    "    print(error)\n",
    "\n"
   ]
  },
  {
   "cell_type": "code",
   "execution_count": 50,
   "metadata": {},
   "outputs": [
    {
     "data": {
      "text/plain": [
       "'<html lang=\"en-US\" class=\"lang-ru\" dir=\"ltr\"><head><title>Один момент…</title><meta http-equiv=\"Content-Type\" content=\"text/html; charset=UTF-8\"><meta http-equiv=\"X-UA-Compatible\" content=\"IE=Edge\"><meta name=\"robots\" content=\"noindex,nofollow\"><meta name=\"viewport\" content=\"width=device-width,initial-scale=1\"><link href=\"/cdn-cgi/styles/challenges.css\" rel=\"stylesheet\"><script src=\"/cdn-cgi/challenge-platform/h/g/orchestrate/chl_page/v1?ray=81e94a6d9a3f3551\"></script><script src=\"https://challenges.cloudflare.com/turnstile/v0/g/c359bc3d/api.js?onload=MzUo4&amp;render=explicit\" async=\"\" defer=\"\" crossorigin=\"anonymous\"></script></head><body class=\"no-js\"><div class=\"main-wrapper\" role=\"main\"><div class=\"main-content\"><h1 class=\"zone-name-title h1\"><img src=\"/favicon.ico\" class=\"heading-favicon\" alt=\"Значок www.lme.com\">www.lme.com</h1><h2 id=\"challenge-running\" class=\"h2\">Проверка безопасности подключения к сайту</h2><div id=\"challenge-stage\" style=\"display: flex;\"><div id=\"turnstile-wrapper\" class=\"captcha-prompt spacer\"><div><iframe src=\"https://challenges.cloudflare.com/cdn-cgi/challenge-platform/h/g/turnstile/if/ov2/av0/rcv0/0/q112k/0x4AAAAAAADnPIDROrmt1Wwj/dark/normal\" allow=\"cross-origin-isolated; fullscreen\" sandbox=\"allow-same-origin allow-scripts allow-popups\" id=\"cf-chl-widget-q112k\" tabindex=\"0\" title=\"Widget containing a Cloudflare security challenge\" style=\"border: none; overflow: hidden; width: 300px; height: 65px;\"></iframe><input type=\"hidden\" name=\"cf-turnstile-response\" id=\"cf-chl-widget-q112k_response\"></div></div></div><div id=\"challenge-spinner\" class=\"spacer loading-spinner\" style=\"display: none; visibility: hidden;\"><div class=\"lds-ring\"><div></div><div></div><div></div><div></div></div></div><div id=\"challenge-body-text\" class=\"core-msg spacer\">Сначала www.lme.com требуется проверить безопасность вашего подключения.</div><div id=\"challenge-success\" style=\"display: none;\"><div class=\"h2\"><span class=\"icon-wrapper\"><img class=\"heading-icon\" alt=\"Success icon\" src=\"data:image/png;base64,iVBORw0KGgoAAAANSUhEUgAAADQAAAA0CAMAAADypuvZAAAANlBMVEUAAAAxMTEwMDAxMTExMTEwMDAwMDAwMDAxMTExMTExMTEwMDAwMDAxMTExMTEwMDAwMDAxMTHB9N+uAAAAEXRSTlMA3zDvfyBAEJC/n3BQz69gX7VMkcMAAAGySURBVEjHnZZbFoMgDEQJiDzVuv/NtgbtFGuQ4/zUKpeMIQbUhXSKE5l1XSn4pFWHRm/WShT1HRLWC01LGxFEVkCc30eYkLJ1Sjk9pvkw690VY6k8DWP9OM9yMG0Koi+mi8XA36NXmW0UXra4eJ3iwHfrfXVlgL0NqqGBHdqfeQhMmyJ48WDuKP81h3+SMPeRKkJcSXiLUK4XTHCjESOnz1VUXQoc6lgi2x4cI5aTQ201Mt8wHysI5fc05M5c81uZEtHcMKhxZ7iYEty1GfhLvGKpm+EYkdGxm1F5axmcB93DoORIbXfdN7f+hlFuyxtDP+sxtBnF43cIYwaZAWRgzxIoiXEMESoPlMhwLRDXeK772CAzXEdBRV7cmnoVBp0OSlyGidEzJTFq5hhcsA5388oSGM6b5p+qjpZrBlMS9xj4AwXmz108ukU1IomM3ceiW0CDwHCqp1NjAqXlFrbga+xuloQJ+tuyfbIBPNpqnmxqT7dPaOnZqBfhSBCteJAxWj58zLk2xgg+SPGYM6dRO6WczSnIxxwEExRaO+UyCUhbOp7CGQ+kxSUfNtLQFC+Po29vvy7jj4y0yAAAAABJRU5ErkJggg==\"></span>Подключение безопасно</div><div class=\"core-msg spacer\">Выполнение...</div></div><noscript><div id=\"challenge-error-title\"><div class=\"h2\"><span class=\"icon-wrapper\"><div class=\"heading-icon warning-icon\"></div></span><span id=\"challenge-error-text\">Enable JavaScript and cookies to continue</span></div></div></noscript></div></div><script>(function(){window._cf_chl_opt={cvId: \\'2\\',cZone: \"www.lme.com\",cType: \\'managed\\',cNounce: \\'80500\\',cRay: \\'81e94a6d9a3f3551\\',cHash: \\'f7c3cd605383305\\',cUPMDTk: \"\\\\/api\\\\/trading-data\\\\/metal-block?datasourceIds=1b72897c-6a30-480c-a74a-cfc2faaaff16&datasourceIds=fc09fcde-6438-4834-9221-98da9ed54eea&datasourceIds=b411edcc-fc99-4da8-ba18-da82b8a5dad4&datasourceIds=6326cb5f-0770-4ba6-a3b4-871ecf0566f7&datasourceIds=14f25c1d-fd36-459d-a228-e088180bfb75&datasourceIds=1dcd0785-8af8-4df3-aae0-084e9a686654&datasourceIds=4b9fe162-6e23-4566-ba72-6f798c10c605&datasourceIds=e7c48262-7026-401e-8e12-3311783bf629&__cf_chl_tk=_eaH_OgRsLIQJlMknC8oKLsDELcXWZvuWVTJ4niPiok-1698727968-0-gaNycGzNEHs\",cFPWv: \\'g\\',cTTimeMs: \\'1000\\',cMTimeMs: \\'0\\',cTplV: 5,cTplB: \\'cf\\',cK: \"visitor-time\",fa: \"\\\\/api\\\\/trading-data\\\\/metal-block?datasourceIds=1b72897c-6a30-480c-a74a-cfc2faaaff16&datasourceIds=fc09fcde-6438-4834-9221-98da9ed54eea&datasourceIds=b411edcc-fc99-4da8-ba18-da82b8a5dad4&datasourceIds=6326cb5f-0770-4ba6-a3b4-871ecf0566f7&datasourceIds=14f25c1d-fd36-459d-a228-e088180bfb75&datasourceIds=1dcd0785-8af8-4df3-aae0-084e9a686654&datasourceIds=4b9fe162-6e23-4566-ba72-6f798c10c605&datasourceIds=e7c48262-7026-401e-8e12-3311783bf629&__cf_chl_f_tk=_eaH_OgRsLIQJlMknC8oKLsDELcXWZvuWVTJ4niPiok-1698727968-0-gaNycGzNEHs\",md: \"ExHClbquNLlbWww0GRc0JwGRyj1TcAkyeooMd9fky_A-1698727968-0-AaI_HD5xhbkMrEFbSPj7uLlx1Ryd7mswSa95Gy1mFpsw8hH28LA0uxtBl07T3Vks04iul4edNVh9e6dOHISdIU6snKP5iP0gq7LmOSOCpCezCyvvdfjSZae521-YFZi-jCSgCF5KR3fdJ9xBqEPKA0f9xDIX7qwHxM0JcEO5fTjMop0xpl4972ZwrIo4FU2oGQ8eFCzy77HIRVpgf2kSqlitFbYiDqaHlCxTG7n0Yla0PYJeTUVR0bS3fPOqTly3iVusU3-D8DSJ3ugx0vAkDhOAHYLFhNjJbQnKx0BQvLR-yQWH-2seXCVHOCRvyh39_Y1BsjtmFlYMD2P3bzge19Hspd5C_BI5JOo7aUdpXoLnlvkqLZENDtAP_8kg8QuFxyEGJoDxuoLxoBr3dqmLhFMU5RKa0wGlMayoQHPPIeZ-IJAz-I-h_3xsPm57f-ywfaReNwzk6eHaQ3py5MxoJFpd5EKRlBwYFTYtm8DhK-ktUfA2qFnjAKq4woowzFvCh9cT7IfRUThKztYV9yhFSPOMPsEz0j2ljjUnkQckJX4fg_-LIpIGAZap1f3pKcIY-LS6UJSFZY0vpzhfoeSatHmvk-kTe1BYH8Yv13_DQAV0-GJO0VzfBjBNssOIkBIJzhpwl7xLhh4GOYJyldhuQzbuT5eRzH_flTDs6syeMS0WfkBoN8J6gFzzVmmFhZOfIjc6cTL0xsFpojPSrEnRnw0f1oLM_TQPp2PdcffWWUB7mff7A4aq5AeO1FwRuNxyAJtLe_mYniPKnUFudaMJcmf2xpcVHKeGuve2SKYt6QPX8yPsMz_br7xdpI-RwdXPhq-Op1FH7AYzQBjOqC8dd2SVid7KrpaBTMem7deGRhf3vaxyO_tJVrljOju_byQX2ogBY4rRJYZDuLJU-otc3bqGe5R0vyOB-D0UYDP9UfuA6VI5y8E5DABbjFXwxykd59HGILTQjsHPclGT4ab2k06G7ceSVY208G2e2fBywMkJIkpXowzK1D6taZD1TYoLry0gMjTs-1rP7oV8uqcPQYXgkewLiIw_PU_FTCpVrZvgxnsYSethLWvLrzMO9Y_QxCmZ2j09TrUdiE7IKP0eiihF1OJUkmkGNu5u_1IrV7l3MIbjrSEOJ8ELnyAoiEct8A2bDBTAU2DXYYxFK5bZ6Bf9JxD4DJHMnQpuS9UOaKwfvdeICZ2YaxE5IoDiF7caqFmVhAxUa-BhA0OgZt5UTKyDkrj4FnZLOuZ5BTpoDVYwWSJ4kn9PDZCS-e74wXxAXM0FXaF14feuo-Gb5huSR9Mo7hkK5QQp-TAlnzAUUG3RoBVL8qXg8IYY7mkN3xVzyykny9ZoaBMLjDA7tC0aGBDAX6pxQNrNAjB3idyGwvIJxSSjBYKXwqe5Lo4mmuNxOIzFl5HsMl2KWW6zt1fn6AfZ2I6DXy-qyYqy1J3RZQbCb3zxooza-rh4r77fOn5qQSolkOxsacxH7cfGnIE1V4EoUb9xweKudI7S75xXcH-Y2c0lBnSh9mh-BZ_95fpCxL90phGmvWUuk6lFGFxUmcg5eKsSfxuZpEnqDMJ8JBhGI9J6ZNYQIIbpwFWJ3FpsZKrqBFbxFBjlxOom6oThT58plI54HPBtgwskcVEHQU-MVBdJ9wbEB5OMiyWN4w4XY2j7Z9nqeDmu9itAncncSOh923jr7-dKrgQUDtoh5w-OqbfWwcoHXrvWy8ClUpmj0dpysqvkCQWGxMTosBpDvErkQ7BPybCxZBieVsdBVycvy8kAhliMbWlMVad3C5EPzeVjscloAWVIbZof4T4RS_MZrWe50_3FkCAWZyOdSPeIRcsKXJRM0n8m-4LQ6NopfJeglPkLaXO6wpPl8mEYU8q5Ul0lpty9ukhOqMshjqpNlbLZH6AQpeZK2eV4PqmMsnL66cKj8JVTQZ5vjwbJ1CVbaL8vSoGnCDtNpZyJOgIdH9oVMbXdsfE-srJjnkLizlpDt8rI440hErY1sZEZZJc0i6oZcvOTaacCfDctCSBogrBoBLfIbcjxQhkFI0UK-Z4PywzTdM5Ez2OPnf-D2MnRl0GPT4naLlMDpB5e9pOe-jkFeFTxQvNEyJbJVrqvMDvKkOWtZso5uDLOiYSdQw2f7HT2vfZarw0Vnhcr2vimMI4bneHEX5Y_DU_rNdT1d9-DyO88LZfSGS4vH5EWthfYy9yWQsKo6v9HEWKjaH1xLh4OzuXTj0ES3RnyIWPwNcSDycd8Fzoiz2gt9dAwB6dBMEcEmMZJfAh_lrHJ71IvQl9qqlDdxNIZszNjIvn4f8RVhniJDpVDJKAOXT_JX0i6eATwLMIFekF4quAlTmuXHBQ2msjzHRqrXQdRh6W2W5_gu-zdGxYF6rldqUwLzJTSlMAlWgukU4-_nEsCes3YXvvyh1DcMF8axMlWrJ3eDc5OTMDBKNpCCYIPEvPQqvBhwSMLXj7Mv-Nenf9xNOX8ZRr8Pesk0AN317PL3e8bzq7Mkr41BrSmbEWo5wncrAIW52fL5p7agjnOYWYsSugHnBVF6ej-mihCLUDpTLg8qJlMnWnNcd1miQvI3wd5SvlBOlGOJA_frNnL235MG0LaUkpAzgZf10GzUnl0SqNk-NEsfqrcjZm-tOhklBRfMCGJR4ggfwpHFYNxEKJcyUgU3NmXkDmp1tOKwo8eaSCH2Km4300oN5LT2QyyObU7_0IhSSqx0fZJU_t9e5WQkJVvjrTmUTLiuUwOolfI8efcvO6n-lDD36FjKqSNIIipSlp_uKKGycl2XLo9pxRI6Cj5i9agwHFriLcGgq-Rt-9P4REtFH6NLC0FErdzlLczCM7A7jtdROTDRpC53X7uLBi_uHDb2uCbU5dlIHgfsn3Z53TZR2w4iASBN5gyysnra7v9SxAAUybNGmAMOAcpYjFrulEK_mW6rGRNKn9SBc2WXzrAS2Dt-Dlq5jx-GKBXWHotXoz1-AqF6gM53r7hF6mvQmOfKU2V-2YHHgthaOEE9lqGII5LjozsbWVEsGZA2TYM3l77lAVLFH4Pf141kNvSUuaCwh0jG8kPLiEUbWnMvHwFNByy3K6lh5-YnDqDpWazYPkKIG9pGvoSNko-cqpfqbwWSiL-5_L405lbXpTyyyEurWQhnirh0TPzSiRIVlKTfFnNSoEIOQ4VuvndX5OjiATU4KmQFQM2GTBTwPJqy26vmFKRb4wzhB6rDQ9EvgtPdX5RxuqukLY6HcoI_nnkLUOOYQ3f5CUO7gjxJdySJN1bub-2rwKfzd0lBUUQpowcJUdG33pzVtr-MBHp4lYNTkLjkOcM_wZd1SBt6dfagALaZm4RcgdVekjEu73nsHQtj2LB7K560KOf6f_gjAVNPgVYC0U9YXRAJGtOa41BQU8IbFuuaAryZ4f7PVPNc0sT2oy0-c6NqavL-UzaIHRvPXkHZ2URbg95qqxoai62djIq_nO2N6M3j31ctwrysR_hciEVujfUxgIsZGlXhyUGxOcj0k-zrWI1U9HYki3LU0enrJuuhWESOA4mTEZXRC1jWaHnkKpZzkdAI48bsNmTMdcX04mp9u0kvGhGM9TxuXZb7OoChaHuiZDGVXVkWHqA1IXqSp4uidbP3mC6GxOV7jo4eFE2AwLUNYqS8rIv1UvC3tn6vvTCPYF2EaYrlKIlAeK_AlKS0HPObCY-9WoR_0ulCE0b_R3Zo_2h2ldwy4D0fOYq1APz4hfhA3ANYio8e0jgsnoCdl6xYgRBCIcvqFoOuuLodrF_yHXjkfRNMxCzUQRG0xszHjR_1INNfkL09QYzHytAabzrA1DYv6eRuWANAeaKsKtyX70d2vhWXH9l3-1axK037uwrVDS0P7grZT7gHeVDeD4Fm_Rh_JYtJc96aUu13SheVkh-lSd4UcHYVYIGDlVm9Dgbk61QgvnOcrBrKNsETZ6sxf-0tgKz75eQcs5QowxQtk9B9eZJeAIZ8FCnajmaNn-wBdmpw3Lj9SaZ1YINf61rhp8tTwyNQlFbGYIftXEQGex9iU10lgJvwmkpeyJe6h-nqeVirbNM0kb20H3sFM7B7fn_QZLK7fBAb--Bs7vjArFui9CPuE--EudHulVOVSizzyF79NCaaGdmPeclXCeAreMvulJlMzlAE6A4X8dBtnHxrGhLfw\",cRq: {ru: \\'aHR0cHM6Ly93d3cubG1lLmNvbS9hcGkvdHJhZGluZy1kYXRhL21ldGFsLWJsb2NrP2RhdGFzb3VyY2VJZHM9MWI3Mjg5N2MtNmEzMC00ODBjLWE3NGEtY2ZjMmZhYWFmZjE2JmRhdGFzb3VyY2VJZHM9ZmMwOWZjZGUtNjQzOC00ODM0LTkyMjEtOThkYTllZDU0ZWVhJmRhdGFzb3VyY2VJZHM9YjQxMWVkY2MtZmM5OS00ZGE4LWJhMTgtZGE4MmI4YTVkYWQ0JmRhdGFzb3VyY2VJZHM9NjMyNmNiNWYtMDc3MC00YmE2LWEzYjQtODcxZWNmMDU2NmY3JmRhdGFzb3VyY2VJZHM9MTRmMjVjMWQtZmQzNi00NTlkLWEyMjgtZTA4ODE4MGJmYjc1JmRhdGFzb3VyY2VJZHM9MWRjZDA3ODUtOGFmOC00ZGYzLWFhZTAtMDg0ZTlhNjg2NjU0JmRhdGFzb3VyY2VJZHM9NGI5ZmUxNjItNmUyMy00NTY2LWJhNzItNmY3OThjMTBjNjA1JmRhdGFzb3VyY2VJZHM9ZTdjNDgyNjItNzAyNi00MDFlLThlMTItMzMxMTc4M2JmNjI5\\',ra: \\'TW96aWxsYS81LjAgKE1hY2ludG9zaDsgSW50ZWwgTWFjIE9TIFggMTBfMTVfNykgQXBwbGVXZWJLaXQvNTM3LjM2IChLSFRNTCwgbGlrZSBHZWNrbykgQ2hyb21lLzExOC4wLjAuMCBTYWZhcmkvNTM3LjM2\\',rm: \\'R0VU\\',d: \\'vmjj8qJ9WL9FHtlcG3ecLvUGKigvSoE1ylAJw9Rtyl/+h5fMgu2laNy+bSdKXG/28RC/1+r+JOs6nyfCVyjPzmpHDCMwTnV7iBlP7hjMeNLYYBqJ7vt3vKhuW2RIN0iqsz1oxxiLxDFw3C1o8KQNeayaN89/BKZKTN+Aj8EdluvqS3MOLBaRQGvHpwbPRMfwnxGRM+KoJSW4sbY2EUlIZrwwv9+5JttEy0KrXu8OqDx1I3tcwAzOyi8seL2XGnH0KZA0L3r6R8FpoQQAPZ3zE6mj60xyvBKmpvu1h9qePlnfdt4sQ/qdMGJ4E+1MGf0K2aKr3Wn2Nmot5SbQtT0Q5ovWO1dFuoH3kQT6jAkj8udVCjMQjJEwxZWWR6pEfXGng0EdGrsYVI9Bb8CamfUPWLFpcCAml/PXQ87TUiDrJcZz/psq3TK9hvktBGZO9J8uRbnhdif/AvxSDK/P91PZZ4wtVYxVPjdXTJQalZ/l2Mxb7XQ7dpcsqODa8n7uZ5yYUSUCAllOFKtOfZvkl2r5IRLtUYiPJw1paV7NyhF8+sM=\\',t: \\'MTY5ODcyNzk2OC44OTcwMDA=\\',cT: Math.floor(Date.now() / 1000),m: \\'MwrPEo0dxDKFskvJL9a3J+4MBQ58j4J80nVAPw5IvqE=\\',i1: \\'wgpn5lkb8/4LUCxQvN4Zvg==\\',i2: \\'yt6wPYpFX82z31hgJEyhJQ==\\',zh: \\'gMkw8UkSeodSh9EZzMbFEU4ZXRdWgAVtNanUB8eKseY=\\',uh: \\'/1JTZDU96PbbAJ9/oNn9d4fJrVq7Z02P9mV4dT7RoYQ=\\',hh: \\'AmGcA2/cptq9SPS7zwY2m0R9ataC0mjycC23ficsb0g=\\',}};var cpo = document.createElement(\\'script\\');cpo.src = \\'/cdn-cgi/challenge-platform/h/g/orchestrate/chl_page/v1?ray=81e94a6d9a3f3551\\';window._cf_chl_opt.cOgUHash = location.hash === \\'\\' && location.href.indexOf(\\'#\\') !== -1 ? \\'#\\' : location.hash;window._cf_chl_opt.cOgUQuery = location.search === \\'\\' && location.href.slice(0, location.href.length - window._cf_chl_opt.cOgUHash.length).indexOf(\\'?\\') !== -1 ? \\'?\\' : location.search;if (window.history && window.history.replaceState) {var ogU = location.pathname + window._cf_chl_opt.cOgUQuery + window._cf_chl_opt.cOgUHash;history.replaceState(null, null, \"\\\\/api\\\\/trading-data\\\\/metal-block?datasourceIds=1b72897c-6a30-480c-a74a-cfc2faaaff16&datasourceIds=fc09fcde-6438-4834-9221-98da9ed54eea&datasourceIds=b411edcc-fc99-4da8-ba18-da82b8a5dad4&datasourceIds=6326cb5f-0770-4ba6-a3b4-871ecf0566f7&datasourceIds=14f25c1d-fd36-459d-a228-e088180bfb75&datasourceIds=1dcd0785-8af8-4df3-aae0-084e9a686654&datasourceIds=4b9fe162-6e23-4566-ba72-6f798c10c605&datasourceIds=e7c48262-7026-401e-8e12-3311783bf629&__cf_chl_rt_tk=_eaH_OgRsLIQJlMknC8oKLsDELcXWZvuWVTJ4niPiok-1698727968-0-gaNycGzNEHs\" + window._cf_chl_opt.cOgUHash);cpo.onload = function() {history.replaceState(null, null, ogU);}}document.getElementsByTagName(\\'head\\')[0].appendChild(cpo);}());</script><div class=\"footer\" role=\"contentinfo\"><div class=\"footer-inner\"><div class=\"clearfix diagnostic-wrapper\"><div class=\"ray-id\">Ray ID: <code>81e94a6d9a3f3551</code></div></div><div class=\"text-center\" id=\"footer-text\">Производительность и безопасность на платформе <a rel=\"noopener noreferrer\" href=\"https://www.cloudflare.com?utm_source=challenge&amp;utm_campaign=m\" target=\"_blank\">Cloudflare</a></div></div></div><iframe width=\"0\" height=\"0\" src=\"blob:https://www.lme.com/c4abf067-4933-4ce8-8f44-aebc7ff7fa80\" style=\"position: absolute; top: 0px; left: 0px; border: none; visibility: hidden;\"></iframe></body></html>'"
      ]
     },
     "execution_count": 50,
     "metadata": {},
     "output_type": "execute_result"
    }
   ],
   "source": [
    "page_source\n"
   ]
  },
  {
   "cell_type": "code",
   "execution_count": 51,
   "metadata": {},
   "outputs": [],
   "source": [
    "soup = BeautifulSoup(page_source, 'html.parser')"
   ]
  },
  {
   "cell_type": "code",
   "execution_count": 53,
   "metadata": {},
   "outputs": [
    {
     "data": {
      "text/plain": [
       "'Один момент…www.lme.comПроверка безопасности подключения к сайтуСначала www.lme.com требуется проверить безопасность вашего подключения.Подключение безопасноВыполнение...Enable JavaScript and cookies to continueRay ID: 81e94a6d9a3f3551Производительность и безопасность на платформе Cloudflare'"
      ]
     },
     "execution_count": 53,
     "metadata": {},
     "output_type": "execute_result"
    }
   ],
   "source": [
    "soup.text"
   ]
  },
  {
   "cell_type": "code",
   "execution_count": null,
   "metadata": {},
   "outputs": [],
   "source": []
  },
  {
   "cell_type": "markdown",
   "metadata": {},
   "source": [
    "---"
   ]
  },
  {
   "cell_type": "code",
   "execution_count": 9,
   "metadata": {},
   "outputs": [
    {
     "name": "stdout",
     "output_type": "stream",
     "text": [
      "Message: \n",
      "Stacktrace:\n",
      "0   chromedriver                        0x0000000104704510 chromedriver + 4310288\n",
      "1   chromedriver                        0x00000001046fc4bc chromedriver + 4277436\n",
      "2   chromedriver                        0x000000010432fb6c chromedriver + 293740\n",
      "3   chromedriver                        0x0000000104375040 chromedriver + 577600\n",
      "4   chromedriver                        0x00000001043afe60 chromedriver + 818784\n",
      "5   chromedriver                        0x0000000104368fd0 chromedriver + 528336\n",
      "6   chromedriver                        0x0000000104369e7c chromedriver + 532092\n",
      "7   chromedriver                        0x00000001046ca834 chromedriver + 4073524\n",
      "8   chromedriver                        0x00000001046ce7fc chromedriver + 4089852\n",
      "9   chromedriver                        0x00000001046cec58 chromedriver + 4090968\n",
      "10  chromedriver                        0x00000001046d48f8 chromedriver + 4114680\n",
      "11  chromedriver                        0x00000001046cf234 chromedriver + 4092468\n",
      "12  chromedriver                        0x00000001046a9604 chromedriver + 3937796\n",
      "13  chromedriver                        0x00000001046ebee8 chromedriver + 4210408\n",
      "14  chromedriver                        0x00000001046ec064 chromedriver + 4210788\n",
      "15  chromedriver                        0x00000001046fc134 chromedriver + 4276532\n",
      "16  libsystem_pthread.dylib             0x0000000186bab034 _pthread_start + 136\n",
      "17  libsystem_pthread.dylib             0x0000000186ba5e3c thread_start + 8\n",
      "\n"
     ]
    }
   ],
   "source": [
    "url = 'https://www.lme.com/api/trading-data/metal-block?datasourceIds=1b72897c-6a30-480c-a74a-cfc2faaaff16&datasourceIds=fc09fcde-6438-4834-9221-98da9ed54eea&datasourceIds=b411edcc-fc99-4da8-ba18-da82b8a5dad4&datasourceIds=6326cb5f-0770-4ba6-a3b4-871ecf0566f7&datasourceIds=14f25c1d-fd36-459d-a228-e088180bfb75&datasourceIds=1dcd0785-8af8-4df3-aae0-084e9a686654&datasourceIds=4b9fe162-6e23-4566-ba72-6f798c10c605&datasourceIds=e7c48262-7026-401e-8e12-3311783bf629'\n",
    "\n",
    "service = Service()\n",
    "driver = webdriver.Chrome(service=service)\n",
    "\n",
    "try:\n",
    "    driver.maximize_window()\n",
    "    driver.get(url=url)\n",
    "    \n",
    "    # Wait for the iframe to be available\n",
    "    frame = WebDriverWait(driver, 15).until(EC.frame_to_be_available_and_switch_to_it((By.XPATH, \"//iframe[@name='frame-name']\")))\n",
    "    \n",
    "    # Locate the checkbox element using its XPath within the iframe\n",
    "    checkbox = driver.find_element(By.XPATH, \"//input[@type='checkbox']\")\n",
    "\n",
    "    # Click on the checkbox\n",
    "    checkbox.click()\n",
    "\n",
    "\n",
    "except Exception as error:\n",
    "    print(error)\n",
    "\n",
    "\n",
    "#finally:\n",
    "#    driver.close()\n",
    "#    driver.quit()"
   ]
  },
  {
   "cell_type": "code",
   "execution_count": null,
   "metadata": {},
   "outputs": [],
   "source": []
  }
 ],
 "metadata": {
  "kernelspec": {
   "display_name": "Python 3",
   "language": "python",
   "name": "python3"
  },
  "language_info": {
   "codemirror_mode": {
    "name": "ipython",
    "version": 3
   },
   "file_extension": ".py",
   "mimetype": "text/x-python",
   "name": "python",
   "nbconvert_exporter": "python",
   "pygments_lexer": "ipython3",
   "version": "3.11.4"
  }
 },
 "nbformat": 4,
 "nbformat_minor": 2
}
