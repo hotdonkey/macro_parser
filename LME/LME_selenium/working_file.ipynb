{
 "cells": [
  {
   "cell_type": "code",
   "execution_count": 1,
   "metadata": {},
   "outputs": [],
   "source": [
    "from selenium import webdriver\n",
    "from selenium.webdriver.chrome.service import Service\n",
    "import re\n",
    "\n",
    "import pandas as pd\n",
    "from bs4 import BeautifulSoup\n",
    "import re\n",
    "\n",
    "import time"
   ]
  },
  {
   "cell_type": "code",
   "execution_count": 43,
   "metadata": {},
   "outputs": [],
   "source": [
    "url = 'https://www.lme.com/Metals/Non-ferrous#tabIndex=1'\n",
    "\n",
    "service = Service()\n",
    "driver = webdriver.Chrome(service=service)\n",
    "\n",
    "try:\n",
    "    driver.maximize_window()\n",
    "    driver.get(url=url)\n",
    "    \n",
    "    time.sleep(2)\n",
    "    \n",
    "    # Define the JavaScript code to scroll to the bottom of the page\n",
    "    scroll_to_bottom = \"window.scrollTo(0, document.body.scrollHeight);\"\n",
    "\n",
    "    \n",
    "    driver.execute_script(\"window.scrollTo(0, window.scrollY + window.innerHeight);\")\n",
    "    driver.execute_script(\"window.scrollTo(0, window.scrollY + window.innerHeight);\")\n",
    "    \n",
    "    time.sleep(2)\n",
    "    \n",
    "    html_code = driver.page_source\n",
    "    \n",
    "    with open(\"page.html\", \"w\", encoding=\"utf-8\") as file:\n",
    "        file.write(html_code)\n",
    "\n",
    "\n",
    "except Exception as error:\n",
    "    print(error)\n",
    "\n",
    "\n",
    "finally:\n",
    "    driver.close()\n",
    "    driver.quit()\n",
    "    \n",
    "soup = BeautifulSoup(html_code, 'html.parser')\n",
    "\n",
    "raw_data = soup.find_all('span', class_='metal-block__price-wrapper')\n",
    "\n",
    "\n",
    "al_price = pd.to_numeric(raw_data[0].text)\n",
    "cu_price = pd.to_numeric(raw_data[1].text)\n",
    "zn_price = pd.to_numeric(raw_data[2].text)\n",
    "nk_price = pd.to_numeric(raw_data[3].text)\n",
    "ld_price = pd.to_numeric(raw_data[4].text)\n",
    "\n",
    "data_row = pd.DataFrame({\n",
    "    'aluminium': al_price,\n",
    "    'copper': cu_price,\n",
    "    'lead': ld_price,\n",
    "    'nickel': nk_price,\n",
    "    'zink': zn_price\n",
    "}, index=[0])"
   ]
  },
  {
   "cell_type": "code",
   "execution_count": 44,
   "metadata": {},
   "outputs": [
    {
     "data": {
      "text/html": [
       "<div>\n",
       "<style scoped>\n",
       "    .dataframe tbody tr th:only-of-type {\n",
       "        vertical-align: middle;\n",
       "    }\n",
       "\n",
       "    .dataframe tbody tr th {\n",
       "        vertical-align: top;\n",
       "    }\n",
       "\n",
       "    .dataframe thead th {\n",
       "        text-align: right;\n",
       "    }\n",
       "</style>\n",
       "<table border=\"1\" class=\"dataframe\">\n",
       "  <thead>\n",
       "    <tr style=\"text-align: right;\">\n",
       "      <th></th>\n",
       "      <th>aluminium</th>\n",
       "      <th>copper</th>\n",
       "      <th>lead</th>\n",
       "      <th>nickel</th>\n",
       "      <th>zink</th>\n",
       "    </tr>\n",
       "  </thead>\n",
       "  <tbody>\n",
       "    <tr>\n",
       "      <th>0</th>\n",
       "      <td>2241.0</td>\n",
       "      <td>8068.0</td>\n",
       "      <td>2166.0</td>\n",
       "      <td>17585.0</td>\n",
       "      <td>2538.0</td>\n",
       "    </tr>\n",
       "  </tbody>\n",
       "</table>\n",
       "</div>"
      ],
      "text/plain": [
       "   aluminium  copper    lead   nickel    zink\n",
       "0     2241.0  8068.0  2166.0  17585.0  2538.0"
      ]
     },
     "execution_count": 44,
     "metadata": {},
     "output_type": "execute_result"
    }
   ],
   "source": [
    "data_row"
   ]
  },
  {
   "cell_type": "code",
   "execution_count": null,
   "metadata": {},
   "outputs": [],
   "source": []
  }
 ],
 "metadata": {
  "kernelspec": {
   "display_name": "Python 3",
   "language": "python",
   "name": "python3"
  },
  "language_info": {
   "codemirror_mode": {
    "name": "ipython",
    "version": 3
   },
   "file_extension": ".py",
   "mimetype": "text/x-python",
   "name": "python",
   "nbconvert_exporter": "python",
   "pygments_lexer": "ipython3",
   "version": "3.11.4"
  }
 },
 "nbformat": 4,
 "nbformat_minor": 2
}
