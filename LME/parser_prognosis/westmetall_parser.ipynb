{
 "cells": [
  {
   "cell_type": "code",
   "execution_count": 121,
   "metadata": {},
   "outputs": [],
   "source": [
    "# Main import block\n",
    "import asyncio\n",
    "import datetime\n",
    "import signal\n",
    "import time\n",
    "import warnings\n",
    "from contextlib import contextmanager\n",
    "from datetime import date, datetime\n",
    "from io import StringIO\n",
    "import os\n",
    "\n",
    "# Sneaky scrapper\n",
    "import cfscrape\n",
    "# Upload to google sheets\n",
    "import gspread\n",
    "# import df2gspread as d2g\n",
    "import gspread_pandas as gsp\n",
    "import numpy as np\n",
    "import pandas as pd\n",
    "import httpx\n",
    "import requests\n",
    "# Upload to yandex\n",
    "import yadisk\n",
    "from bs4 import BeautifulSoup\n",
    "from df2gspread import df2gspread as d2g\n",
    "from oauth2client.service_account import ServiceAccountCredentials\n",
    "from selenium import webdriver\n",
    "from selenium.webdriver.chrome.service import Service\n",
    "\n",
    "warnings.filterwarnings(\"ignore\")"
   ]
  },
  {
   "cell_type": "code",
   "execution_count": null,
   "metadata": {},
   "outputs": [],
   "source": [
    "################################################################\n",
    "################## NEW_WESTMETALL###############################\n",
    "################################################################\n",
    "\n",
    "\n",
    "async def new_westmetall_async():\n",
    "    async def get_data(metall, col_name):\n",
    "        url = f\"https://www.westmetall.com/en/markdaten.php?action=table&field=LME_{metall}_cash\"\n",
    "        response = requests.get(url=url)\n",
    "\n",
    "        df = pd.read_html(response.text)[0][:30]\n",
    "        data = df.iloc[:, :2]\n",
    "\n",
    "        data = data.query(\"date != 'date'\")\n",
    "        data[\"date\"] = pd.to_datetime(data[\"date\"])\n",
    "        data.iloc[:, 1] = pd.to_numeric(data.iloc[:, 1])\n",
    "        data.rename(columns={data.columns[1]: col_name}, inplace=True)\n",
    "\n",
    "        return data\n",
    "\n",
    "    try:\n",
    "        al = await get_data(metall=\"Al\", col_name=\"aluminium\")\n",
    "        cu = await get_data(metall=\"Cu\", col_name=\"copper\")\n",
    "        pb = await get_data(metall=\"Pb\", col_name=\"lead\")\n",
    "        ni = await get_data(metall=\"Ni\", col_name=\"nickel\")\n",
    "        zn = await get_data(metall=\"Zn\", col_name=\"zink\")\n",
    "        tn = await get_data(metall=\"Sn\", col_name=\"tin\")\n",
    "\n",
    "        result = (\n",
    "            pd.merge(al, cu, on=\"date\", how=\"left\")\n",
    "            .merge(pb, on=\"date\", how=\"left\")\n",
    "            .merge(ni, on=\"date\", how=\"left\")\n",
    "            .merge(zn, on=\"date\", how=\"left\")\n",
    "            .merge(tn, on=\"date\", how=\"left\")\n",
    "        )\n",
    "\n",
    "        old_data = pd.read_excel(\"./data/LME_westmetall_db.xlsx\", index_col=0)\n",
    "\n",
    "        final_data = pd.concat([old_data, result], axis=0)\n",
    "\n",
    "        final_data.drop_duplicates(subset=\"date\", inplace=True)\n",
    "\n",
    "        final_data.sort_values(by=\"date\", inplace=True)\n",
    "\n",
    "        final_data.reset_index(inplace=True, drop=True)\n",
    "\n",
    "        with pd.ExcelWriter(\n",
    "            \"./data/LME_westmetall_db.xlsx\",\n",
    "            date_format=\"YYYY-MM-DD\",\n",
    "            datetime_format=\"YYYY-MM-DD\",\n",
    "        ) as writer:\n",
    "            final_data.to_excel(writer, sheet_name=\"LME_westmetall\")\n",
    "\n",
    "        print(\"WESTMETALL is done!!!\")\n",
    "        # display(final_data.tail(10))\n",
    "\n",
    "    except Exception as error:\n",
    "        print(error)\n"
   ]
  },
  {
   "cell_type": "code",
   "execution_count": 20,
   "metadata": {},
   "outputs": [],
   "source": [
    "url = f\"https://www.westmetall.com/en/markdaten.php?action=table&field=LME_Al_cash\"\n",
    "response = requests.get(url=url)"
   ]
  },
  {
   "cell_type": "code",
   "execution_count": 66,
   "metadata": {},
   "outputs": [],
   "source": [
    "url = f\"https://www.westmetall.com/en/markdaten.php?action=table&field=LME_Cu_cash\"\n",
    "response = requests.get(url=url)"
   ]
  },
  {
   "cell_type": "code",
   "execution_count": null,
   "metadata": {},
   "outputs": [],
   "source": [
    "#Tin\n",
    "url = f\"https://www.westmetall.com/en/markdaten.php?action=table&field=LME_Sn_cash\"\n",
    "response = requests.get(url=url)"
   ]
  },
  {
   "cell_type": "code",
   "execution_count": null,
   "metadata": {},
   "outputs": [],
   "source": [
    "# Lead\n",
    "url = f\"https://www.westmetall.com/en/markdaten.php?action=table&field=LME_Pb_cash\"\n",
    "response = requests.get(url=url)"
   ]
  },
  {
   "cell_type": "code",
   "execution_count": 99,
   "metadata": {},
   "outputs": [],
   "source": [
    "# Zink\n",
    "url = f\"https://www.westmetall.com/en/markdaten.php?action=table&field=LME_Zn_cash\"\n",
    "response = requests.get(url=url)"
   ]
  },
  {
   "cell_type": "code",
   "execution_count": 110,
   "metadata": {},
   "outputs": [],
   "source": [
    "# Nickel\n",
    "url = f\"https://www.westmetall.com/en/markdaten.php?action=table&field=LME_Ni_cash\"\n",
    "response = requests.get(url=url)"
   ]
  },
  {
   "cell_type": "code",
   "execution_count": 111,
   "metadata": {},
   "outputs": [],
   "source": [
    "df = pd.read_html(response.text)\n",
    "#data = df.iloc[:, :4]"
   ]
  },
  {
   "cell_type": "code",
   "execution_count": 112,
   "metadata": {},
   "outputs": [],
   "source": [
    "data = pd.DataFrame()"
   ]
  },
  {
   "cell_type": "code",
   "execution_count": 113,
   "metadata": {},
   "outputs": [],
   "source": [
    "for i in range(len(df)):\n",
    "    data = pd.concat([data, df[i]], axis=0)"
   ]
  },
  {
   "cell_type": "code",
   "execution_count": 114,
   "metadata": {},
   "outputs": [],
   "source": [
    "data = data[data[\"date\"] != 'date']"
   ]
  },
  {
   "cell_type": "code",
   "execution_count": 115,
   "metadata": {},
   "outputs": [],
   "source": [
    "data = data[data.iloc[:, 1] != '-']\n",
    "data = data[data.iloc[:, 2] != '-']\n",
    "data = data[data.iloc[:, 3] != '-']"
   ]
  },
  {
   "cell_type": "code",
   "execution_count": 116,
   "metadata": {},
   "outputs": [],
   "source": [
    "data_preprocessed = data.copy()"
   ]
  },
  {
   "cell_type": "code",
   "execution_count": 117,
   "metadata": {},
   "outputs": [],
   "source": [
    "data_preprocessed[\"date\"] = pd.to_datetime(data_preprocessed[\"date\"])\n",
    "data_preprocessed.iloc[:, 1] = pd.to_numeric(data_preprocessed.iloc[:, 1])\n",
    "data_preprocessed.iloc[:, 2] = pd.to_numeric(data_preprocessed.iloc[:, 2])"
   ]
  },
  {
   "cell_type": "code",
   "execution_count": 118,
   "metadata": {},
   "outputs": [
    {
     "data": {
      "application/vnd.microsoft.datawrangler.viewer.v0+json": {
       "columns": [
        {
         "name": "index",
         "rawType": "int64",
         "type": "integer"
        },
        {
         "name": "date",
         "rawType": "datetime64[ns]",
         "type": "datetime"
        },
        {
         "name": "LME Nickel Cash-Settlement",
         "rawType": "object",
         "type": "unknown"
        },
        {
         "name": "LME Nickel 3-month",
         "rawType": "object",
         "type": "unknown"
        },
        {
         "name": "LME Nickel stock",
         "rawType": "object",
         "type": "string"
        }
       ],
       "conversionMethod": "pd.DataFrame",
       "ref": "db12b7ea-44c9-4115-b972-76aeb2b9c04c",
       "rows": [
        [
         "0",
         "2025-03-07 00:00:00",
         "16050.0",
         "16270.0",
         "198522"
        ],
        [
         "1",
         "2025-03-06 00:00:00",
         "15990.0",
         "16180.0",
         "199410"
        ],
        [
         "2",
         "2025-03-05 00:00:00",
         "15675.0",
         "15975.0",
         "194520"
        ],
        [
         "3",
         "2025-03-04 00:00:00",
         "15760.0",
         "15970.0",
         "195360"
        ],
        [
         "4",
         "2025-03-03 00:00:00",
         "15600.0",
         "15770.0",
         "195162"
        ],
        [
         "6",
         "2025-02-28 00:00:00",
         "15460.0",
         "15675.0",
         "194964"
        ],
        [
         "7",
         "2025-02-27 00:00:00",
         "15645.0",
         "15820.0",
         "193782"
        ],
        [
         "8",
         "2025-02-26 00:00:00",
         "15450.0",
         "15530.0",
         "192108"
        ],
        [
         "9",
         "2025-02-25 00:00:00",
         "15150.0",
         "15330.0",
         "192642"
        ],
        [
         "10",
         "2025-02-24 00:00:00",
         "15335.0",
         "15570.0",
         "192828"
        ],
        [
         "11",
         "2025-02-21 00:00:00",
         "15300.0",
         "15520.0",
         "192906"
        ],
        [
         "12",
         "2025-02-20 00:00:00",
         "15405.0",
         "15615.0",
         "192180"
        ],
        [
         "13",
         "2025-02-19 00:00:00",
         "15130.0",
         "15325.0",
         "190452"
        ],
        [
         "14",
         "2025-02-18 00:00:00",
         "15135.0",
         "15360.0",
         "189516"
        ],
        [
         "15",
         "2025-02-17 00:00:00",
         "15175.0",
         "15360.0",
         "184692"
        ],
        [
         "16",
         "2025-02-14 00:00:00",
         "15360.0",
         "15570.0",
         "183852"
        ],
        [
         "17",
         "2025-02-13 00:00:00",
         "15100.0",
         "15315.0",
         "180900"
        ],
        [
         "18",
         "2025-02-12 00:00:00",
         "15200.0",
         "15420.0",
         "175806"
        ],
        [
         "19",
         "2025-02-11 00:00:00",
         "15175.0",
         "15400.0",
         "176946"
        ],
        [
         "20",
         "2025-02-10 00:00:00",
         "15400.0",
         "15660.0",
         "175710"
        ],
        [
         "21",
         "2025-02-07 00:00:00",
         "15575.0",
         "15775.0",
         "175710"
        ],
        [
         "22",
         "2025-02-06 00:00:00",
         "15525.0",
         "15735.0",
         "173562"
        ],
        [
         "23",
         "2025-02-05 00:00:00",
         "15180.0",
         "15380.0",
         "172584"
        ],
        [
         "24",
         "2025-02-04 00:00:00",
         "14895.0",
         "15135.0",
         "172584"
        ],
        [
         "25",
         "2025-02-03 00:00:00",
         "14900.0",
         "15115.0",
         "172500"
        ],
        [
         "27",
         "2025-01-31 00:00:00",
         "15040.0",
         "15260.0",
         "172302"
        ],
        [
         "28",
         "2025-01-30 00:00:00",
         "15195.0",
         "15440.0",
         "172302"
        ],
        [
         "29",
         "2025-01-29 00:00:00",
         "15230.0",
         "15470.0",
         "172302"
        ],
        [
         "30",
         "2025-01-28 00:00:00",
         "15240.0",
         "15525.0",
         "173100"
        ],
        [
         "31",
         "2025-01-27 00:00:00",
         "15505.0",
         "15760.0",
         "173772"
        ],
        [
         "32",
         "2025-01-24 00:00:00",
         "15470.0",
         "15665.0",
         "173808"
        ],
        [
         "33",
         "2025-01-23 00:00:00",
         "15510.0",
         "15700.0",
         "173064"
        ],
        [
         "34",
         "2025-01-22 00:00:00",
         "15580.0",
         "15800.0",
         "172206"
        ],
        [
         "35",
         "2025-01-21 00:00:00",
         "15850.0",
         "16100.0",
         "170214"
        ],
        [
         "36",
         "2025-01-20 00:00:00",
         "15680.0",
         "15860.0",
         "170214"
        ],
        [
         "37",
         "2025-01-17 00:00:00",
         "15840.0",
         "16000.0",
         "169494"
        ],
        [
         "38",
         "2025-01-16 00:00:00",
         "15665.0",
         "15890.0",
         "167994"
        ],
        [
         "39",
         "2025-01-15 00:00:00",
         "15630.0",
         "15895.0",
         "167814"
        ],
        [
         "40",
         "2025-01-14 00:00:00",
         "15600.0",
         "15835.0",
         "164586"
        ],
        [
         "41",
         "2025-01-13 00:00:00",
         "15560.0",
         "15780.0",
         "164904"
        ],
        [
         "42",
         "2025-01-10 00:00:00",
         "15400.0",
         "15610.0",
         "164904"
        ],
        [
         "43",
         "2025-01-09 00:00:00",
         "15185.0",
         "15450.0",
         "164310"
        ],
        [
         "44",
         "2025-01-08 00:00:00",
         "15180.0",
         "15380.0",
         "165366"
        ],
        [
         "45",
         "2025-01-07 00:00:00",
         "15120.0",
         "15325.0",
         "165366"
        ],
        [
         "46",
         "2025-01-06 00:00:00",
         "15070.0",
         "15270.0",
         "164280"
        ],
        [
         "47",
         "2025-01-03 00:00:00",
         "14770.0",
         "14995.0",
         "164028"
        ],
        [
         "48",
         "2025-01-02 00:00:00",
         "15010.0",
         "15295.0",
         "162474"
        ],
        [
         "0",
         "2024-12-31 00:00:00",
         "15100.0",
         "15310.0",
         "160536"
        ],
        [
         "1",
         "2024-12-30 00:00:00",
         "15330.0",
         "15570.0",
         "161730"
        ],
        [
         "2",
         "2024-12-27 00:00:00",
         "15085.0",
         "15305.0",
         "162090"
        ]
       ],
       "shape": {
        "columns": 4,
        "rows": 4249
       }
      },
      "text/html": [
       "<div>\n",
       "<style scoped>\n",
       "    .dataframe tbody tr th:only-of-type {\n",
       "        vertical-align: middle;\n",
       "    }\n",
       "\n",
       "    .dataframe tbody tr th {\n",
       "        vertical-align: top;\n",
       "    }\n",
       "\n",
       "    .dataframe thead th {\n",
       "        text-align: right;\n",
       "    }\n",
       "</style>\n",
       "<table border=\"1\" class=\"dataframe\">\n",
       "  <thead>\n",
       "    <tr style=\"text-align: right;\">\n",
       "      <th></th>\n",
       "      <th>date</th>\n",
       "      <th>LME Nickel Cash-Settlement</th>\n",
       "      <th>LME Nickel 3-month</th>\n",
       "      <th>LME Nickel stock</th>\n",
       "    </tr>\n",
       "  </thead>\n",
       "  <tbody>\n",
       "    <tr>\n",
       "      <th>0</th>\n",
       "      <td>2025-03-07</td>\n",
       "      <td>16050.0</td>\n",
       "      <td>16270.0</td>\n",
       "      <td>198522</td>\n",
       "    </tr>\n",
       "    <tr>\n",
       "      <th>1</th>\n",
       "      <td>2025-03-06</td>\n",
       "      <td>15990.0</td>\n",
       "      <td>16180.0</td>\n",
       "      <td>199410</td>\n",
       "    </tr>\n",
       "    <tr>\n",
       "      <th>2</th>\n",
       "      <td>2025-03-05</td>\n",
       "      <td>15675.0</td>\n",
       "      <td>15975.0</td>\n",
       "      <td>194520</td>\n",
       "    </tr>\n",
       "    <tr>\n",
       "      <th>3</th>\n",
       "      <td>2025-03-04</td>\n",
       "      <td>15760.0</td>\n",
       "      <td>15970.0</td>\n",
       "      <td>195360</td>\n",
       "    </tr>\n",
       "    <tr>\n",
       "      <th>4</th>\n",
       "      <td>2025-03-03</td>\n",
       "      <td>15600.0</td>\n",
       "      <td>15770.0</td>\n",
       "      <td>195162</td>\n",
       "    </tr>\n",
       "    <tr>\n",
       "      <th>...</th>\n",
       "      <td>...</td>\n",
       "      <td>...</td>\n",
       "      <td>...</td>\n",
       "      <td>...</td>\n",
       "    </tr>\n",
       "    <tr>\n",
       "      <th>261</th>\n",
       "      <td>2008-01-08</td>\n",
       "      <td>28855.0</td>\n",
       "      <td>29135.0</td>\n",
       "      <td>48156</td>\n",
       "    </tr>\n",
       "    <tr>\n",
       "      <th>262</th>\n",
       "      <td>2008-01-07</td>\n",
       "      <td>27905.0</td>\n",
       "      <td>28205.0</td>\n",
       "      <td>48126</td>\n",
       "    </tr>\n",
       "    <tr>\n",
       "      <th>263</th>\n",
       "      <td>2008-01-04</td>\n",
       "      <td>29515.0</td>\n",
       "      <td>29825.0</td>\n",
       "      <td>47784</td>\n",
       "    </tr>\n",
       "    <tr>\n",
       "      <th>264</th>\n",
       "      <td>2008-01-03</td>\n",
       "      <td>28105.0</td>\n",
       "      <td>28400.0</td>\n",
       "      <td>47892</td>\n",
       "    </tr>\n",
       "    <tr>\n",
       "      <th>265</th>\n",
       "      <td>2008-01-02</td>\n",
       "      <td>26505.0</td>\n",
       "      <td>26725.0</td>\n",
       "      <td>47940</td>\n",
       "    </tr>\n",
       "  </tbody>\n",
       "</table>\n",
       "<p>4249 rows × 4 columns</p>\n",
       "</div>"
      ],
      "text/plain": [
       "          date LME Nickel Cash-Settlement LME Nickel 3-month LME Nickel stock\n",
       "0   2025-03-07                    16050.0            16270.0           198522\n",
       "1   2025-03-06                    15990.0            16180.0           199410\n",
       "2   2025-03-05                    15675.0            15975.0           194520\n",
       "3   2025-03-04                    15760.0            15970.0           195360\n",
       "4   2025-03-03                    15600.0            15770.0           195162\n",
       "..         ...                        ...                ...              ...\n",
       "261 2008-01-08                    28855.0            29135.0            48156\n",
       "262 2008-01-07                    27905.0            28205.0            48126\n",
       "263 2008-01-04                    29515.0            29825.0            47784\n",
       "264 2008-01-03                    28105.0            28400.0            47892\n",
       "265 2008-01-02                    26505.0            26725.0            47940\n",
       "\n",
       "[4249 rows x 4 columns]"
      ]
     },
     "execution_count": 118,
     "metadata": {},
     "output_type": "execute_result"
    }
   ],
   "source": [
    "data_preprocessed"
   ]
  },
  {
   "cell_type": "code",
   "execution_count": 119,
   "metadata": {},
   "outputs": [],
   "source": [
    "data_preprocessed.to_csv(\"./data/nickel_database.csv\", index=False)"
   ]
  },
  {
   "cell_type": "code",
   "execution_count": 124,
   "metadata": {},
   "outputs": [
    {
     "data": {
      "application/vnd.microsoft.datawrangler.viewer.v0+json": {
       "columns": [
        {
         "name": "index",
         "rawType": "int64",
         "type": "integer"
        },
        {
         "name": "date",
         "rawType": "object",
         "type": "string"
        },
        {
         "name": "LME Nickel Cash-Settlement",
         "rawType": "float64",
         "type": "float"
        },
        {
         "name": "LME Nickel 3-month",
         "rawType": "float64",
         "type": "float"
        },
        {
         "name": "LME Nickel stock",
         "rawType": "int64",
         "type": "integer"
        }
       ],
       "conversionMethod": "pd.DataFrame",
       "ref": "3882503c-c568-4cf7-8bbf-0d3ca109613b",
       "rows": [
        [
         "0",
         "2025-03-07 00:00:00",
         "16050.0",
         "16270.0",
         "198522"
        ],
        [
         "1",
         "2025-03-06 00:00:00",
         "15990.0",
         "16180.0",
         "199410"
        ],
        [
         "2",
         "2025-03-05 00:00:00",
         "15675.0",
         "15975.0",
         "194520"
        ],
        [
         "3",
         "2025-03-04 00:00:00",
         "15760.0",
         "15970.0",
         "195360"
        ],
        [
         "4",
         "2025-03-03 00:00:00",
         "15600.0",
         "15770.0",
         "195162"
        ],
        [
         "5",
         "2025-02-28 00:00:00",
         "15460.0",
         "15675.0",
         "194964"
        ],
        [
         "6",
         "2025-02-27 00:00:00",
         "15645.0",
         "15820.0",
         "193782"
        ],
        [
         "7",
         "2025-02-26 00:00:00",
         "15450.0",
         "15530.0",
         "192108"
        ],
        [
         "8",
         "2025-02-25 00:00:00",
         "15150.0",
         "15330.0",
         "192642"
        ],
        [
         "9",
         "2025-02-24 00:00:00",
         "15335.0",
         "15570.0",
         "192828"
        ],
        [
         "10",
         "2025-02-21 00:00:00",
         "15300.0",
         "15520.0",
         "192906"
        ],
        [
         "11",
         "2025-02-20 00:00:00",
         "15405.0",
         "15615.0",
         "192180"
        ],
        [
         "12",
         "2025-02-19 00:00:00",
         "15130.0",
         "15325.0",
         "190452"
        ],
        [
         "13",
         "2025-02-18 00:00:00",
         "15135.0",
         "15360.0",
         "189516"
        ],
        [
         "14",
         "2025-02-17 00:00:00",
         "15175.0",
         "15360.0",
         "184692"
        ],
        [
         "15",
         "2025-02-14 00:00:00",
         "15360.0",
         "15570.0",
         "183852"
        ],
        [
         "16",
         "2025-02-13 00:00:00",
         "15100.0",
         "15315.0",
         "180900"
        ],
        [
         "17",
         "2025-02-12 00:00:00",
         "15200.0",
         "15420.0",
         "175806"
        ],
        [
         "18",
         "2025-02-11 00:00:00",
         "15175.0",
         "15400.0",
         "176946"
        ],
        [
         "19",
         "2025-02-10 00:00:00",
         "15400.0",
         "15660.0",
         "175710"
        ],
        [
         "20",
         "2025-02-07 00:00:00",
         "15575.0",
         "15775.0",
         "175710"
        ],
        [
         "21",
         "2025-02-06 00:00:00",
         "15525.0",
         "15735.0",
         "173562"
        ],
        [
         "22",
         "2025-02-05 00:00:00",
         "15180.0",
         "15380.0",
         "172584"
        ],
        [
         "23",
         "2025-02-04 00:00:00",
         "14895.0",
         "15135.0",
         "172584"
        ],
        [
         "24",
         "2025-02-03 00:00:00",
         "14900.0",
         "15115.0",
         "172500"
        ],
        [
         "25",
         "2025-01-31 00:00:00",
         "15040.0",
         "15260.0",
         "172302"
        ],
        [
         "26",
         "2025-01-30 00:00:00",
         "15195.0",
         "15440.0",
         "172302"
        ],
        [
         "27",
         "2025-01-29 00:00:00",
         "15230.0",
         "15470.0",
         "172302"
        ],
        [
         "28",
         "2025-01-28 00:00:00",
         "15240.0",
         "15525.0",
         "173100"
        ],
        [
         "29",
         "2025-01-27 00:00:00",
         "15505.0",
         "15760.0",
         "173772"
        ],
        [
         "30",
         "2025-01-24 00:00:00",
         "15470.0",
         "15665.0",
         "173808"
        ],
        [
         "31",
         "2025-01-23 00:00:00",
         "15510.0",
         "15700.0",
         "173064"
        ],
        [
         "32",
         "2025-01-22 00:00:00",
         "15580.0",
         "15800.0",
         "172206"
        ],
        [
         "33",
         "2025-01-21 00:00:00",
         "15850.0",
         "16100.0",
         "170214"
        ],
        [
         "34",
         "2025-01-20 00:00:00",
         "15680.0",
         "15860.0",
         "170214"
        ],
        [
         "35",
         "2025-01-17 00:00:00",
         "15840.0",
         "16000.0",
         "169494"
        ],
        [
         "36",
         "2025-01-16 00:00:00",
         "15665.0",
         "15890.0",
         "167994"
        ],
        [
         "37",
         "2025-01-15 00:00:00",
         "15630.0",
         "15895.0",
         "167814"
        ],
        [
         "38",
         "2025-01-14 00:00:00",
         "15600.0",
         "15835.0",
         "164586"
        ],
        [
         "39",
         "2025-01-13 00:00:00",
         "15560.0",
         "15780.0",
         "164904"
        ],
        [
         "40",
         "2025-01-10 00:00:00",
         "15400.0",
         "15610.0",
         "164904"
        ],
        [
         "41",
         "2025-01-09 00:00:00",
         "15185.0",
         "15450.0",
         "164310"
        ],
        [
         "42",
         "2025-01-08 00:00:00",
         "15180.0",
         "15380.0",
         "165366"
        ],
        [
         "43",
         "2025-01-07 00:00:00",
         "15120.0",
         "15325.0",
         "165366"
        ],
        [
         "44",
         "2025-01-06 00:00:00",
         "15070.0",
         "15270.0",
         "164280"
        ],
        [
         "45",
         "2025-01-03 00:00:00",
         "14770.0",
         "14995.0",
         "164028"
        ],
        [
         "46",
         "2025-01-02 00:00:00",
         "15010.0",
         "15295.0",
         "162474"
        ],
        [
         "47",
         "2025-03-07",
         "16050.0",
         "16270.0",
         "198522"
        ],
        [
         "48",
         "2025-03-06",
         "15990.0",
         "16180.0",
         "199410"
        ],
        [
         "49",
         "2025-03-05",
         "15675.0",
         "15975.0",
         "194520"
        ]
       ],
       "shape": {
        "columns": 4,
        "rows": 4296
       }
      },
      "text/html": [
       "<div>\n",
       "<style scoped>\n",
       "    .dataframe tbody tr th:only-of-type {\n",
       "        vertical-align: middle;\n",
       "    }\n",
       "\n",
       "    .dataframe tbody tr th {\n",
       "        vertical-align: top;\n",
       "    }\n",
       "\n",
       "    .dataframe thead th {\n",
       "        text-align: right;\n",
       "    }\n",
       "</style>\n",
       "<table border=\"1\" class=\"dataframe\">\n",
       "  <thead>\n",
       "    <tr style=\"text-align: right;\">\n",
       "      <th></th>\n",
       "      <th>date</th>\n",
       "      <th>LME Nickel Cash-Settlement</th>\n",
       "      <th>LME Nickel 3-month</th>\n",
       "      <th>LME Nickel stock</th>\n",
       "    </tr>\n",
       "  </thead>\n",
       "  <tbody>\n",
       "    <tr>\n",
       "      <th>0</th>\n",
       "      <td>2025-03-07 00:00:00</td>\n",
       "      <td>16050.0</td>\n",
       "      <td>16270.0</td>\n",
       "      <td>198522</td>\n",
       "    </tr>\n",
       "    <tr>\n",
       "      <th>1</th>\n",
       "      <td>2025-03-06 00:00:00</td>\n",
       "      <td>15990.0</td>\n",
       "      <td>16180.0</td>\n",
       "      <td>199410</td>\n",
       "    </tr>\n",
       "    <tr>\n",
       "      <th>2</th>\n",
       "      <td>2025-03-05 00:00:00</td>\n",
       "      <td>15675.0</td>\n",
       "      <td>15975.0</td>\n",
       "      <td>194520</td>\n",
       "    </tr>\n",
       "    <tr>\n",
       "      <th>3</th>\n",
       "      <td>2025-03-04 00:00:00</td>\n",
       "      <td>15760.0</td>\n",
       "      <td>15970.0</td>\n",
       "      <td>195360</td>\n",
       "    </tr>\n",
       "    <tr>\n",
       "      <th>4</th>\n",
       "      <td>2025-03-03 00:00:00</td>\n",
       "      <td>15600.0</td>\n",
       "      <td>15770.0</td>\n",
       "      <td>195162</td>\n",
       "    </tr>\n",
       "    <tr>\n",
       "      <th>...</th>\n",
       "      <td>...</td>\n",
       "      <td>...</td>\n",
       "      <td>...</td>\n",
       "      <td>...</td>\n",
       "    </tr>\n",
       "    <tr>\n",
       "      <th>4291</th>\n",
       "      <td>2008-01-08</td>\n",
       "      <td>28855.0</td>\n",
       "      <td>29135.0</td>\n",
       "      <td>48156</td>\n",
       "    </tr>\n",
       "    <tr>\n",
       "      <th>4292</th>\n",
       "      <td>2008-01-07</td>\n",
       "      <td>27905.0</td>\n",
       "      <td>28205.0</td>\n",
       "      <td>48126</td>\n",
       "    </tr>\n",
       "    <tr>\n",
       "      <th>4293</th>\n",
       "      <td>2008-01-04</td>\n",
       "      <td>29515.0</td>\n",
       "      <td>29825.0</td>\n",
       "      <td>47784</td>\n",
       "    </tr>\n",
       "    <tr>\n",
       "      <th>4294</th>\n",
       "      <td>2008-01-03</td>\n",
       "      <td>28105.0</td>\n",
       "      <td>28400.0</td>\n",
       "      <td>47892</td>\n",
       "    </tr>\n",
       "    <tr>\n",
       "      <th>4295</th>\n",
       "      <td>2008-01-02</td>\n",
       "      <td>26505.0</td>\n",
       "      <td>26725.0</td>\n",
       "      <td>47940</td>\n",
       "    </tr>\n",
       "  </tbody>\n",
       "</table>\n",
       "<p>4296 rows × 4 columns</p>\n",
       "</div>"
      ],
      "text/plain": [
       "                     date  LME Nickel Cash-Settlement  LME Nickel 3-month  \\\n",
       "0     2025-03-07 00:00:00                     16050.0             16270.0   \n",
       "1     2025-03-06 00:00:00                     15990.0             16180.0   \n",
       "2     2025-03-05 00:00:00                     15675.0             15975.0   \n",
       "3     2025-03-04 00:00:00                     15760.0             15970.0   \n",
       "4     2025-03-03 00:00:00                     15600.0             15770.0   \n",
       "...                   ...                         ...                 ...   \n",
       "4291           2008-01-08                     28855.0             29135.0   \n",
       "4292           2008-01-07                     27905.0             28205.0   \n",
       "4293           2008-01-04                     29515.0             29825.0   \n",
       "4294           2008-01-03                     28105.0             28400.0   \n",
       "4295           2008-01-02                     26505.0             26725.0   \n",
       "\n",
       "      LME Nickel stock  \n",
       "0               198522  \n",
       "1               199410  \n",
       "2               194520  \n",
       "3               195360  \n",
       "4               195162  \n",
       "...                ...  \n",
       "4291             48156  \n",
       "4292             48126  \n",
       "4293             47784  \n",
       "4294             47892  \n",
       "4295             47940  \n",
       "\n",
       "[4296 rows x 4 columns]"
      ]
     },
     "execution_count": 124,
     "metadata": {},
     "output_type": "execute_result"
    }
   ],
   "source": [
    "pd.read_csv(\"./data/nickel_database.csv\")"
   ]
  },
  {
   "cell_type": "code",
   "execution_count": null,
   "metadata": {},
   "outputs": [
    {
     "name": "stdout",
     "output_type": "stream",
     "text": [
      "Parsing starting...\n"
     ]
    }
   ],
   "source": [
    "async def westmetall_async():\n",
    "    async def get_data(metall):\n",
    "        url = f\"https://www.westmetall.com/en/markdaten.php?action=table&field=LME_{metall}_cash\"\n",
    "        response = requests.get(url=url)\n",
    "        \n",
    "        # В ответе лежит вся историческая инф-я по металлам с учетом запасов и 3х\n",
    "        # месячных фьючерсов\n",
    "        df = pd.read_html(response.text)\n",
    "        data = pd.DataFrame()\n",
    "        # Конкатенируем последний имеющийся год не затирая старые\n",
    "        data = pd.concat([data, df[0]], axis=0)\n",
    "        \n",
    "        # Отечение возможной технической информации/пропусков\n",
    "        data = data[data[\"date\"] != 'date']\n",
    "        data = data[data.iloc[:, 1] != '-']\n",
    "        data = data[data.iloc[:, 2] != '-']\n",
    "        data = data[data.iloc[:, 3] != '-']\n",
    "        \n",
    "        # Препроцессинг типов\n",
    "        data_preprocessed = data.copy()\n",
    "        data_preprocessed[\"date\"] = pd.to_datetime(data_preprocessed[\"date\"])\n",
    "        data_preprocessed.iloc[:, 1] = pd.to_numeric(data_preprocessed.iloc[:, 1])\n",
    "        data_preprocessed.iloc[:, 2] = pd.to_numeric(data_preprocessed.iloc[:, 2])\n",
    "\n",
    "        return data_preprocessed\n",
    "\n",
    "    try:\n",
    "        # Бачи с новыми данными\n",
    "        al = await get_data(metall=\"Al\")\n",
    "        cu = await get_data(metall=\"Cu\")\n",
    "        pb = await get_data(metall=\"Pb\")\n",
    "        ni = await get_data(metall=\"Ni\")\n",
    "        zn = await get_data(metall=\"Zn\")\n",
    "        tn = await get_data(metall=\"Sn\")\n",
    "\n",
    "        # Бачи с историческими данными\n",
    "        old_data_al = pd.read_csv(\"./data/aluminium_database.csv\")\n",
    "        old_data_cu = pd.read_csv(\"./data/copper_database.csv\")\n",
    "        old_data_pb = pd.read_csv(\"./data/lead_database.csv\")\n",
    "        old_data_ni = pd.read_csv(\"./data/nickel_database.csv\")\n",
    "        old_data_zn = pd.read_csv(\"./data/zink_database.csv\")\n",
    "        old_data_tn = pd.read_csv(\"./data/tin_database.csv\")\n",
    "        \n",
    "        # Склеиваем полученный год дропая дубли\n",
    "        new_al = pd.concat([al, old_data_al], axis=0)\n",
    "        new_al.drop_duplicates(inplace=True)\n",
    "        \n",
    "        new_cu = pd.concat([cu, old_data_cu], axis=0)\n",
    "        new_cu.drop_duplicates(inplace=True)\n",
    "        \n",
    "        new_pb = pd.concat([pb,old_data_pb], axis=0)\n",
    "        new_pb.drop_duplicates(inplace=True)\n",
    "        \n",
    "        new_ni = pd.concat([ni, old_data_ni], axis=0)\n",
    "        new_ni.drop_duplicates(inplace=True)\n",
    "        \n",
    "        new_zn = pd.concat([zn, old_data_zn], axis=0)\n",
    "        new_zn.drop_duplicates(inplace=True)    \n",
    "        \n",
    "        new_tn = pd.concat([tn, old_data_tn], axis=0)\n",
    "        new_tn.drop_duplicates(inplace=True)\n",
    "        \n",
    "        # Пересохраняем\n",
    "        new_al.to_csv(\"./data/aluminium_database.csv\", index=False)\n",
    "        new_cu.to_csv(\"./data/copper_database.csv\", index=False)\n",
    "        new_pb.to_csv(\"./data/lead_database.csv\", index=False)\n",
    "        new_ni.to_csv(\"./data/nickel_database.csv\", index=False)\n",
    "        new_zn.to_csv(\"./data/zink_database.csv\", index=False)\n",
    "        new_tn.to_csv(\"./data/tin_database.csv\", index=False)\n",
    "\n",
    "    except Exception as error:\n",
    "        print(error)\n",
    "        \n",
    "\n",
    "if __name__ == \"__main__\":\n",
    "    \n",
    "    print(\"Parsing starting...\")\n",
    "    \n",
    "    await asyncio.gather(\n",
    "        westmetall_async()\n",
    "    )\n",
    "    \n",
    "    print(\"Parsing complited!!!\")"
   ]
  },
  {
   "cell_type": "code",
   "execution_count": 125,
   "metadata": {},
   "outputs": [
    {
     "name": "stdout",
     "output_type": "stream",
     "text": [
      "Parsing starting...\n"
     ]
    },
    {
     "ename": "RuntimeError",
     "evalue": "asyncio.run() cannot be called from a running event loop",
     "output_type": "error",
     "traceback": [
      "\u001b[0;31m---------------------------------------------------------------------------\u001b[0m",
      "\u001b[0;31mRuntimeError\u001b[0m                              Traceback (most recent call last)",
      "Cell \u001b[0;32mIn[125], line 45\u001b[0m\n\u001b[1;32m     43\u001b[0m \u001b[38;5;28;01mif\u001b[39;00m \u001b[38;5;18m__name__\u001b[39m \u001b[38;5;241m==\u001b[39m \u001b[38;5;124m\"\u001b[39m\u001b[38;5;124m__main__\u001b[39m\u001b[38;5;124m\"\u001b[39m:\n\u001b[1;32m     44\u001b[0m     \u001b[38;5;28mprint\u001b[39m(\u001b[38;5;124m\"\u001b[39m\u001b[38;5;124mParsing starting...\u001b[39m\u001b[38;5;124m\"\u001b[39m)\n\u001b[0;32m---> 45\u001b[0m     \u001b[43masyncio\u001b[49m\u001b[38;5;241;43m.\u001b[39;49m\u001b[43mrun\u001b[49m\u001b[43m(\u001b[49m\u001b[43mwestmetall_async\u001b[49m\u001b[43m(\u001b[49m\u001b[43m)\u001b[49m\u001b[43m)\u001b[49m\n\u001b[1;32m     46\u001b[0m     \u001b[38;5;28mprint\u001b[39m(\u001b[38;5;124m\"\u001b[39m\u001b[38;5;124mParsing completed!!!\u001b[39m\u001b[38;5;124m\"\u001b[39m)\n",
      "File \u001b[0;32m/opt/homebrew/Caskroom/miniconda/base/envs/lme_parser/lib/python3.11/asyncio/runners.py:186\u001b[0m, in \u001b[0;36mrun\u001b[0;34m(main, debug)\u001b[0m\n\u001b[1;32m    161\u001b[0m \u001b[38;5;250m\u001b[39m\u001b[38;5;124;03m\"\"\"Execute the coroutine and return the result.\u001b[39;00m\n\u001b[1;32m    162\u001b[0m \n\u001b[1;32m    163\u001b[0m \u001b[38;5;124;03mThis function runs the passed coroutine, taking care of\u001b[39;00m\n\u001b[0;32m   (...)\u001b[0m\n\u001b[1;32m    182\u001b[0m \u001b[38;5;124;03m    asyncio.run(main())\u001b[39;00m\n\u001b[1;32m    183\u001b[0m \u001b[38;5;124;03m\"\"\"\u001b[39;00m\n\u001b[1;32m    184\u001b[0m \u001b[38;5;28;01mif\u001b[39;00m events\u001b[38;5;241m.\u001b[39m_get_running_loop() \u001b[38;5;129;01mis\u001b[39;00m \u001b[38;5;129;01mnot\u001b[39;00m \u001b[38;5;28;01mNone\u001b[39;00m:\n\u001b[1;32m    185\u001b[0m     \u001b[38;5;66;03m# fail fast with short traceback\u001b[39;00m\n\u001b[0;32m--> 186\u001b[0m     \u001b[38;5;28;01mraise\u001b[39;00m \u001b[38;5;167;01mRuntimeError\u001b[39;00m(\n\u001b[1;32m    187\u001b[0m         \u001b[38;5;124m\"\u001b[39m\u001b[38;5;124masyncio.run() cannot be called from a running event loop\u001b[39m\u001b[38;5;124m\"\u001b[39m)\n\u001b[1;32m    189\u001b[0m \u001b[38;5;28;01mwith\u001b[39;00m Runner(debug\u001b[38;5;241m=\u001b[39mdebug) \u001b[38;5;28;01mas\u001b[39;00m runner:\n\u001b[1;32m    190\u001b[0m     \u001b[38;5;28;01mreturn\u001b[39;00m runner\u001b[38;5;241m.\u001b[39mrun(main)\n",
      "\u001b[0;31mRuntimeError\u001b[0m: asyncio.run() cannot be called from a running event loop"
     ]
    }
   ],
   "source": [
    "import aiohttp\n",
    "import asyncio\n",
    "import pandas as pd\n",
    "\n",
    "async def get_data(metall):\n",
    "    try:\n",
    "        url = f\"https://www.westmetall.com/en/markdaten.php?action=table&field=LME_{metall}_cash\"\n",
    "        async with aiohttp.ClientSession() as session:\n",
    "            async with session.get(url) as response:\n",
    "                text = await response.text()\n",
    "                df = pd.read_html(text)\n",
    "                data = df[0]\n",
    "                # Обработка данных\n",
    "                data = data[data[\"date\"] != 'date']\n",
    "                data = data[data.iloc[:, 1] != '-']\n",
    "                data = data[data.iloc[:, 2] != '-']\n",
    "                data = data[data.iloc[:, 3] != '-']\n",
    "                data[\"date\"] = pd.to_datetime(data[\"date\"])\n",
    "                data.iloc[:, 1] = pd.to_numeric(data.iloc[:, 1])\n",
    "                data.iloc[:, 2] = pd.to_numeric(data.iloc[:, 2])\n",
    "                return data\n",
    "    except Exception as e:\n",
    "        print(f\"Error fetching data for {metall}: {e}\")\n",
    "        return pd.DataFrame()\n",
    "\n",
    "async def westmetall_async():\n",
    "    metals = {\n",
    "        \"Al\": \"aluminium\",\n",
    "        \"Cu\": \"copper\",\n",
    "        \"Pb\": \"lead\",\n",
    "        \"Ni\": \"nickel\",\n",
    "        \"Zn\": \"zink\",\n",
    "        \"Sn\": \"tin\"\n",
    "    }\n",
    "\n",
    "    for metall, name in metals.items():\n",
    "        new_data = await get_data(metall)\n",
    "        if not new_data.empty:\n",
    "            old_data = pd.read_csv(f\"./data/{name}_database.csv\")\n",
    "            combined_data = pd.concat([new_data, old_data]).drop_duplicates()\n",
    "            combined_data.to_csv(f\"./data/{name}_database.csv\", index=False)\n",
    "\n",
    "if __name__ == \"__main__\":\n",
    "    print(\"Parsing starting...\")\n",
    "    asyncio.run(westmetall_async())\n",
    "    print(\"Parsing completed!!!\")"
   ]
  },
  {
   "cell_type": "code",
   "execution_count": 128,
   "metadata": {},
   "outputs": [
    {
     "name": "stdout",
     "output_type": "stream",
     "text": [
      "Parsing starting...\n",
      "Parsing completed!!!\n"
     ]
    }
   ],
   "source": [
    "import aiohttp\n",
    "import asyncio\n",
    "import pandas as pd\n",
    "\n",
    "async def get_data(metall):\n",
    "    try:\n",
    "        url = f\"https://www.westmetall.com/en/markdaten.php?action=table&field=LME_{metall}_cash\"\n",
    "        async with aiohttp.ClientSession() as session:\n",
    "            async with session.get(url) as response:\n",
    "                text = await response.text()\n",
    "                df = pd.read_html(text)\n",
    "                data = df[0]\n",
    "                # Обработка данных\n",
    "                data = data[data[\"date\"] != 'date']\n",
    "                data = data[data.iloc[:, 1] != '-']\n",
    "                data = data[data.iloc[:, 2] != '-']\n",
    "                data = data[data.iloc[:, 3] != '-']\n",
    "                data[\"date\"] = pd.to_datetime(data[\"date\"])\n",
    "                data.iloc[:, 1] = pd.to_numeric(data.iloc[:, 1])\n",
    "                data.iloc[:, 2] = pd.to_numeric(data.iloc[:, 2])\n",
    "                return data\n",
    "    except Exception as e:\n",
    "        print(f\"Error fetching data for {metall}: {e}\")\n",
    "        return pd.DataFrame()\n",
    "\n",
    "async def westmetall_async():\n",
    "    metals = {\n",
    "        \"Al\": \"aluminium\",\n",
    "        \"Cu\": \"copper\",\n",
    "        \"Pb\": \"lead\",\n",
    "        \"Ni\": \"nickel\",\n",
    "        \"Zn\": \"zink\",\n",
    "        \"Sn\": \"tin\"\n",
    "    }\n",
    "\n",
    "    for metall, name in metals.items():\n",
    "        new_data = await get_data(metall)\n",
    "        if not new_data.empty:\n",
    "            old_data = pd.read_csv(f\"./data/{name}_database.csv\")\n",
    "            combined_data = pd.concat([new_data, old_data]).drop_duplicates()\n",
    "            combined_data.to_csv(f\"./data/{name}_database.csv\", index=False)\n",
    "\n",
    "if __name__ == \"__main__\":\n",
    "    print(\"Parsing starting...\")\n",
    "    \n",
    "    try:\n",
    "        # Проверяем, есть ли активный event loop\n",
    "        loop = asyncio.get_event_loop()\n",
    "    except RuntimeError:\n",
    "        # Если нет, создаем новый\n",
    "        loop = asyncio.new_event_loop()\n",
    "        asyncio.set_event_loop(loop)\n",
    "    \n",
    "    if loop.is_running():\n",
    "        # Если event loop уже запущен, используем await\n",
    "        loop.create_task(westmetall_async())\n",
    "    else:\n",
    "        # Если event loop не запущен, используем asyncio.run()\n",
    "        asyncio.run(westmetall_async())\n",
    "    \n",
    "    print(\"Parsing completed!!!\")"
   ]
  },
  {
   "cell_type": "code",
   "execution_count": null,
   "metadata": {},
   "outputs": [],
   "source": []
  }
 ],
 "metadata": {
  "kernelspec": {
   "display_name": "lme_parser",
   "language": "python",
   "name": "python3"
  },
  "language_info": {
   "codemirror_mode": {
    "name": "ipython",
    "version": 3
   },
   "file_extension": ".py",
   "mimetype": "text/x-python",
   "name": "python",
   "nbconvert_exporter": "python",
   "pygments_lexer": "ipython3",
   "version": "3.11.11"
  }
 },
 "nbformat": 4,
 "nbformat_minor": 2
}
