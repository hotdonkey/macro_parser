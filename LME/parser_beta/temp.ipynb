{
 "cells": [
  {
   "cell_type": "code",
   "execution_count": 1,
   "metadata": {},
   "outputs": [],
   "source": [
    "import pandas as pd\n"
   ]
  },
  {
   "cell_type": "code",
   "execution_count": 25,
   "metadata": {},
   "outputs": [
    {
     "data": {
      "text/plain": [
       "(4170, 4)"
      ]
     },
     "execution_count": 25,
     "metadata": {},
     "output_type": "execute_result"
    }
   ],
   "source": [
    "df = pd.read_excel('./data/westmetall arch/westmetall_raw.xlsx', sheet_name='AL')\n",
    "df.shape"
   ]
  },
  {
   "cell_type": "code",
   "execution_count": 26,
   "metadata": {},
   "outputs": [
    {
     "data": {
      "text/plain": [
       "['date',\n",
       " 'LME Aluminium Cash-Settlement',\n",
       " 'LME Aluminium 3-month',\n",
       " 'LME Aluminium stock']"
      ]
     },
     "execution_count": 26,
     "metadata": {},
     "output_type": "execute_result"
    }
   ],
   "source": [
    "columns = df.columns.to_list()\n",
    "columns"
   ]
  },
  {
   "cell_type": "code",
   "execution_count": 27,
   "metadata": {},
   "outputs": [],
   "source": [
    "date = columns[0]\n",
    "settlment = columns[1]\n",
    "month = columns[2]\n",
    "stock = columns[3]"
   ]
  },
  {
   "cell_type": "code",
   "execution_count": 28,
   "metadata": {},
   "outputs": [],
   "source": [
    "df_cleared = df[~(df['date'] == 'date')]\n",
    "df_cleared = df_cleared[~(df_cleared['date'] == 'Aluminium')]\n",
    "df_cleared.dropna(inplace=True)\n",
    "df_cleared.reset_index(drop=True, inplace=True)"
   ]
  },
  {
   "cell_type": "code",
   "execution_count": 29,
   "metadata": {},
   "outputs": [
    {
     "data": {
      "text/html": [
       "<div><div id=a2d30da3-be04-44ff-9171-94d7a590a51f style=\"display:none; background-color:#9D6CFF; color:white; width:200px; height:30px; padding-left:5px; border-radius:4px; flex-direction:row; justify-content:space-around; align-items:center;\" onmouseover=\"this.style.backgroundColor='#BA9BF8'\" onmouseout=\"this.style.backgroundColor='#9D6CFF'\" onclick=\"window.commands?.execute('create-mitosheet-from-dataframe-output');\">See Full Dataframe in Mito</div> <script> if (window.commands?.hasCommand('create-mitosheet-from-dataframe-output')) document.getElementById('a2d30da3-be04-44ff-9171-94d7a590a51f').style.display = 'flex' </script> <table border=\"1\" class=\"dataframe\">\n",
       "  <thead>\n",
       "    <tr style=\"text-align: right;\">\n",
       "      <th></th>\n",
       "      <th>date</th>\n",
       "      <th>LME Aluminium Cash-Settlement</th>\n",
       "      <th>LME Aluminium 3-month</th>\n",
       "      <th>LME Aluminium stock</th>\n",
       "    </tr>\n",
       "  </thead>\n",
       "  <tbody>\n",
       "    <tr>\n",
       "      <th>0</th>\n",
       "      <td>31. July 2023</td>\n",
       "      <td>2,195.50</td>\n",
       "      <td>2,242.00</td>\n",
       "      <td>507.4</td>\n",
       "    </tr>\n",
       "    <tr>\n",
       "      <th>1</th>\n",
       "      <td>28. July 2023</td>\n",
       "      <td>2,161.50</td>\n",
       "      <td>2,203.00</td>\n",
       "      <td>509</td>\n",
       "    </tr>\n",
       "    <tr>\n",
       "      <th>2</th>\n",
       "      <td>27. July 2023</td>\n",
       "      <td>2,176.00</td>\n",
       "      <td>2,220.00</td>\n",
       "      <td>511</td>\n",
       "    </tr>\n",
       "    <tr>\n",
       "      <th>3</th>\n",
       "      <td>26. July 2023</td>\n",
       "      <td>2,170.50</td>\n",
       "      <td>2,215.00</td>\n",
       "      <td>514.025</td>\n",
       "    </tr>\n",
       "    <tr>\n",
       "      <th>4</th>\n",
       "      <td>25. July 2023</td>\n",
       "      <td>2,184.00</td>\n",
       "      <td>2,226.50</td>\n",
       "      <td>516.975</td>\n",
       "    </tr>\n",
       "    <tr>\n",
       "      <th>...</th>\n",
       "      <td>...</td>\n",
       "      <td>...</td>\n",
       "      <td>...</td>\n",
       "      <td>...</td>\n",
       "    </tr>\n",
       "    <tr>\n",
       "      <th>3934</th>\n",
       "      <td>08. January 2008</td>\n",
       "      <td>2,442.00</td>\n",
       "      <td>2,491.50</td>\n",
       "      <td>935.15</td>\n",
       "    </tr>\n",
       "    <tr>\n",
       "      <th>3935</th>\n",
       "      <td>07. January 2008</td>\n",
       "      <td>2,404.00</td>\n",
       "      <td>2,459.00</td>\n",
       "      <td>934.35</td>\n",
       "    </tr>\n",
       "    <tr>\n",
       "      <th>3936</th>\n",
       "      <td>04. January 2008</td>\n",
       "      <td>2,447.00</td>\n",
       "      <td>2,498.00</td>\n",
       "      <td>933.75</td>\n",
       "    </tr>\n",
       "    <tr>\n",
       "      <th>3937</th>\n",
       "      <td>03. January 2008</td>\n",
       "      <td>2,422.00</td>\n",
       "      <td>2,470.50</td>\n",
       "      <td>929.5</td>\n",
       "    </tr>\n",
       "    <tr>\n",
       "      <th>3938</th>\n",
       "      <td>02. January 2008</td>\n",
       "      <td>2,365.50</td>\n",
       "      <td>2,413.00</td>\n",
       "      <td>929.45</td>\n",
       "    </tr>\n",
       "  </tbody>\n",
       "</table></div>"
      ],
      "text/plain": [
       "                  date LME Aluminium Cash-Settlement LME Aluminium 3-month  \\\n",
       "0        31. July 2023                      2,195.50              2,242.00   \n",
       "1        28. July 2023                      2,161.50              2,203.00   \n",
       "2        27. July 2023                      2,176.00              2,220.00   \n",
       "3        26. July 2023                      2,170.50              2,215.00   \n",
       "4        25. July 2023                      2,184.00              2,226.50   \n",
       "...                ...                           ...                   ...   \n",
       "3934  08. January 2008                      2,442.00              2,491.50   \n",
       "3935  07. January 2008                      2,404.00              2,459.00   \n",
       "3936  04. January 2008                      2,447.00              2,498.00   \n",
       "3937  03. January 2008                      2,422.00              2,470.50   \n",
       "3938  02. January 2008                      2,365.50              2,413.00   \n",
       "\n",
       "     LME Aluminium stock  \n",
       "0                  507.4  \n",
       "1                    509  \n",
       "2                    511  \n",
       "3                514.025  \n",
       "4                516.975  \n",
       "...                  ...  \n",
       "3934              935.15  \n",
       "3935              934.35  \n",
       "3936              933.75  \n",
       "3937               929.5  \n",
       "3938              929.45  \n",
       "\n",
       "[3939 rows x 4 columns]"
      ]
     },
     "execution_count": 29,
     "metadata": {},
     "output_type": "execute_result"
    }
   ],
   "source": [
    "df_cleared"
   ]
  },
  {
   "cell_type": "code",
   "execution_count": 30,
   "metadata": {},
   "outputs": [],
   "source": [
    "df_cleared['date'] = pd.to_datetime(df_cleared['date'])\n"
   ]
  },
  {
   "cell_type": "code",
   "execution_count": 31,
   "metadata": {},
   "outputs": [],
   "source": [
    "df_cleared[settlment] = df_cleared[settlment].str.replace(',','')\n",
    "df_cleared[settlment] = df_cleared[settlment].str.replace('-','')\n",
    "\n",
    "df_cleared[month] = df_cleared[month].str.replace(',','')\n",
    "df_cleared[month] = df_cleared[month].str.replace('-','')\n",
    "\n",
    "df_cleared[stock] = df_cleared[stock].str.replace(',','.')\n",
    "df_cleared[stock] = df_cleared[stock].str.replace('-','')"
   ]
  },
  {
   "cell_type": "code",
   "execution_count": 32,
   "metadata": {},
   "outputs": [
    {
     "ename": "ValueError",
     "evalue": "Unable to parse string \"1.000.375\" at position 433",
     "output_type": "error",
     "traceback": [
      "\u001b[0;31m---------------------------------------------------------------------------\u001b[0m",
      "\u001b[0;31mValueError\u001b[0m                                Traceback (most recent call last)",
      "File \u001b[0;32m~/opt/anaconda3/envs/ds/lib/python3.11/site-packages/pandas/_libs/lib.pyx:2369\u001b[0m, in \u001b[0;36mpandas._libs.lib.maybe_convert_numeric\u001b[0;34m()\u001b[0m\n",
      "\u001b[0;31mValueError\u001b[0m: Unable to parse string \"1.000.375\"",
      "\nDuring handling of the above exception, another exception occurred:\n",
      "\u001b[0;31mValueError\u001b[0m                                Traceback (most recent call last)",
      "Cell \u001b[0;32mIn[32], line 3\u001b[0m\n\u001b[1;32m      1\u001b[0m df_cleared[settlment] \u001b[39m=\u001b[39m pd\u001b[39m.\u001b[39mto_numeric(df_cleared[settlment])\n\u001b[1;32m      2\u001b[0m df_cleared[month] \u001b[39m=\u001b[39m pd\u001b[39m.\u001b[39mto_numeric(df_cleared[month])\n\u001b[0;32m----> 3\u001b[0m df_cleared[stock] \u001b[39m=\u001b[39m pd\u001b[39m.\u001b[39;49mto_numeric(df_cleared[stock])\n",
      "File \u001b[0;32m~/opt/anaconda3/envs/ds/lib/python3.11/site-packages/pandas/core/tools/numeric.py:185\u001b[0m, in \u001b[0;36mto_numeric\u001b[0;34m(arg, errors, downcast)\u001b[0m\n\u001b[1;32m    183\u001b[0m coerce_numeric \u001b[39m=\u001b[39m errors \u001b[39mnot\u001b[39;00m \u001b[39min\u001b[39;00m (\u001b[39m\"\u001b[39m\u001b[39mignore\u001b[39m\u001b[39m\"\u001b[39m, \u001b[39m\"\u001b[39m\u001b[39mraise\u001b[39m\u001b[39m\"\u001b[39m)\n\u001b[1;32m    184\u001b[0m \u001b[39mtry\u001b[39;00m:\n\u001b[0;32m--> 185\u001b[0m     values, _ \u001b[39m=\u001b[39m lib\u001b[39m.\u001b[39;49mmaybe_convert_numeric(\n\u001b[1;32m    186\u001b[0m         values, \u001b[39mset\u001b[39;49m(), coerce_numeric\u001b[39m=\u001b[39;49mcoerce_numeric\n\u001b[1;32m    187\u001b[0m     )\n\u001b[1;32m    188\u001b[0m \u001b[39mexcept\u001b[39;00m (\u001b[39mValueError\u001b[39;00m, \u001b[39mTypeError\u001b[39;00m):\n\u001b[1;32m    189\u001b[0m     \u001b[39mif\u001b[39;00m errors \u001b[39m==\u001b[39m \u001b[39m\"\u001b[39m\u001b[39mraise\u001b[39m\u001b[39m\"\u001b[39m:\n",
      "File \u001b[0;32m~/opt/anaconda3/envs/ds/lib/python3.11/site-packages/pandas/_libs/lib.pyx:2411\u001b[0m, in \u001b[0;36mpandas._libs.lib.maybe_convert_numeric\u001b[0;34m()\u001b[0m\n",
      "\u001b[0;31mValueError\u001b[0m: Unable to parse string \"1.000.375\" at position 433"
     ]
    }
   ],
   "source": [
    "df_cleared[settlment] = pd.to_numeric(df_cleared[settlment])\n",
    "df_cleared[month] = pd.to_numeric(df_cleared[month])\n",
    "df_cleared[stock] = pd.to_numeric(df_cleared[stock])"
   ]
  },
  {
   "cell_type": "code",
   "execution_count": 33,
   "metadata": {},
   "outputs": [
    {
     "data": {
      "text/plain": [
       "date                             2021-11-08 00:00:00\n",
       "LME Aluminium Cash-Settlement                 2530.5\n",
       "LME Aluminium 3-month                         2558.0\n",
       "LME Aluminium stock                        1.000.375\n",
       "Name: 433, dtype: object"
      ]
     },
     "execution_count": 33,
     "metadata": {},
     "output_type": "execute_result"
    }
   ],
   "source": [
    "df_cleared.iloc[433]"
   ]
  },
  {
   "cell_type": "code",
   "execution_count": 46,
   "metadata": {},
   "outputs": [
    {
     "data": {
      "text/html": [
       "<div><div id=f2328a35-40a4-4272-9f67-675c38eb7cfb style=\"display:none; background-color:#9D6CFF; color:white; width:200px; height:30px; padding-left:5px; border-radius:4px; flex-direction:row; justify-content:space-around; align-items:center;\" onmouseover=\"this.style.backgroundColor='#BA9BF8'\" onmouseout=\"this.style.backgroundColor='#9D6CFF'\" onclick=\"window.commands?.execute('create-mitosheet-from-dataframe-output');\">See Full Dataframe in Mito</div> <script> if (window.commands?.hasCommand('create-mitosheet-from-dataframe-output')) document.getElementById('f2328a35-40a4-4272-9f67-675c38eb7cfb').style.display = 'flex' </script> <table border=\"1\" class=\"dataframe\">\n",
       "  <thead>\n",
       "    <tr style=\"text-align: right;\">\n",
       "      <th></th>\n",
       "      <th>date</th>\n",
       "      <th>LME Zinc Cash-Settlement</th>\n",
       "      <th>LME Zinc 3-month</th>\n",
       "      <th>LME Zinc stock</th>\n",
       "    </tr>\n",
       "  </thead>\n",
       "  <tbody>\n",
       "    <tr>\n",
       "      <th>0</th>\n",
       "      <td>2023-07-31</td>\n",
       "      <td>2550.00</td>\n",
       "      <td>2540.00</td>\n",
       "      <td>NaN</td>\n",
       "    </tr>\n",
       "    <tr>\n",
       "      <th>1</th>\n",
       "      <td>2023-07-28</td>\n",
       "      <td>2485.00</td>\n",
       "      <td>2482.00</td>\n",
       "      <td>NaN</td>\n",
       "    </tr>\n",
       "    <tr>\n",
       "      <th>2</th>\n",
       "      <td>2023-07-27</td>\n",
       "      <td>2485.00</td>\n",
       "      <td>2487.00</td>\n",
       "      <td>NaN</td>\n",
       "    </tr>\n",
       "    <tr>\n",
       "      <th>3</th>\n",
       "      <td>2023-07-26</td>\n",
       "      <td>2455.00</td>\n",
       "      <td>2466.00</td>\n",
       "      <td>NaN</td>\n",
       "    </tr>\n",
       "    <tr>\n",
       "      <th>4</th>\n",
       "      <td>2023-07-25</td>\n",
       "      <td>2447.00</td>\n",
       "      <td>2456.00</td>\n",
       "      <td>NaN</td>\n",
       "    </tr>\n",
       "    <tr>\n",
       "      <th>...</th>\n",
       "      <td>...</td>\n",
       "      <td>...</td>\n",
       "      <td>...</td>\n",
       "      <td>...</td>\n",
       "    </tr>\n",
       "    <tr>\n",
       "      <th>3934</th>\n",
       "      <td>2008-01-08</td>\n",
       "      <td>2534.00</td>\n",
       "      <td>2540.50</td>\n",
       "      <td>NaN</td>\n",
       "    </tr>\n",
       "    <tr>\n",
       "      <th>3935</th>\n",
       "      <td>2008-01-07</td>\n",
       "      <td>2475.50</td>\n",
       "      <td>2482.00</td>\n",
       "      <td>NaN</td>\n",
       "    </tr>\n",
       "    <tr>\n",
       "      <th>3936</th>\n",
       "      <td>2008-01-04</td>\n",
       "      <td>2563.00</td>\n",
       "      <td>2555.00</td>\n",
       "      <td>NaN</td>\n",
       "    </tr>\n",
       "    <tr>\n",
       "      <th>3937</th>\n",
       "      <td>2008-01-03</td>\n",
       "      <td>2466.00</td>\n",
       "      <td>2477.00</td>\n",
       "      <td>NaN</td>\n",
       "    </tr>\n",
       "    <tr>\n",
       "      <th>3938</th>\n",
       "      <td>2008-01-02</td>\n",
       "      <td>2384.00</td>\n",
       "      <td>2404.00</td>\n",
       "      <td>NaN</td>\n",
       "    </tr>\n",
       "  </tbody>\n",
       "</table></div>"
      ],
      "text/plain": [
       "           date LME Zinc Cash-Settlement LME Zinc 3-month LME Zinc stock\n",
       "0    2023-07-31                  2550.00          2540.00            NaN\n",
       "1    2023-07-28                  2485.00          2482.00            NaN\n",
       "2    2023-07-27                  2485.00          2487.00            NaN\n",
       "3    2023-07-26                  2455.00          2466.00            NaN\n",
       "4    2023-07-25                  2447.00          2456.00            NaN\n",
       "...         ...                      ...              ...            ...\n",
       "3934 2008-01-08                  2534.00          2540.50            NaN\n",
       "3935 2008-01-07                  2475.50          2482.00            NaN\n",
       "3936 2008-01-04                  2563.00          2555.00            NaN\n",
       "3937 2008-01-03                  2466.00          2477.00            NaN\n",
       "3938 2008-01-02                  2384.00          2404.00            NaN\n",
       "\n",
       "[3939 rows x 4 columns]"
      ]
     },
     "execution_count": 46,
     "metadata": {},
     "output_type": "execute_result"
    }
   ],
   "source": [
    "df_cleared"
   ]
  },
  {
   "cell_type": "code",
   "execution_count": 47,
   "metadata": {},
   "outputs": [],
   "source": [
    "with pd.ExcelWriter(\n",
    "    \"./data/westmetall_zink.xlsx\",\n",
    "        date_format=\"YYYY-MM-DD\",\n",
    "        datetime_format=\"YYYY-MM-DD\") as writer:\n",
    "    df_cleared.to_excel(writer, sheet_name='Zink_cleared')\n"
   ]
  },
  {
   "cell_type": "code",
   "execution_count": null,
   "metadata": {},
   "outputs": [],
   "source": []
  }
 ],
 "metadata": {
  "kernelspec": {
   "display_name": "Python 3",
   "language": "python",
   "name": "python3"
  },
  "language_info": {
   "codemirror_mode": {
    "name": "ipython",
    "version": 3
   },
   "file_extension": ".py",
   "mimetype": "text/x-python",
   "name": "python",
   "nbconvert_exporter": "python",
   "pygments_lexer": "ipython3",
   "version": "3.11.0"
  },
  "orig_nbformat": 4
 },
 "nbformat": 4,
 "nbformat_minor": 2
}
