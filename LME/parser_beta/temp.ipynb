{
 "cells": [
  {
   "cell_type": "code",
   "execution_count": 1,
   "metadata": {},
   "outputs": [],
   "source": [
    "import pandas as pd\n",
    "import numpy as np\n",
    "import requests\n",
    "from datetime import date, datetime\n"
   ]
  },
  {
   "cell_type": "code",
   "execution_count": 2,
   "metadata": {},
   "outputs": [],
   "source": [
    "url = 'https://www.westmetall.com/en/markdaten.php?action=table&field=LME_Al_cash'"
   ]
  },
  {
   "cell_type": "code",
   "execution_count": 3,
   "metadata": {},
   "outputs": [],
   "source": [
    "responce = requests.get(url=url)"
   ]
  },
  {
   "cell_type": "code",
   "execution_count": 7,
   "metadata": {},
   "outputs": [
    {
     "data": {
      "text/plain": [
       "16"
      ]
     },
     "execution_count": 7,
     "metadata": {},
     "output_type": "execute_result"
    }
   ],
   "source": [
    "len(pd.read_html(responce.text))"
   ]
  },
  {
   "cell_type": "code",
   "execution_count": 9,
   "metadata": {},
   "outputs": [
    {
     "data": {
      "text/html": [
       "<div>\n",
       "<style scoped>\n",
       "    .dataframe tbody tr th:only-of-type {\n",
       "        vertical-align: middle;\n",
       "    }\n",
       "\n",
       "    .dataframe tbody tr th {\n",
       "        vertical-align: top;\n",
       "    }\n",
       "\n",
       "    .dataframe thead th {\n",
       "        text-align: right;\n",
       "    }\n",
       "</style>\n",
       "<table border=\"1\" class=\"dataframe\">\n",
       "  <thead>\n",
       "    <tr style=\"text-align: right;\">\n",
       "      <th></th>\n",
       "      <th>date</th>\n",
       "      <th>LME Aluminium Cash-Settlement</th>\n",
       "      <th>LME Aluminium 3-month</th>\n",
       "      <th>LME Aluminium stock</th>\n",
       "    </tr>\n",
       "  </thead>\n",
       "  <tbody>\n",
       "    <tr>\n",
       "      <th>0</th>\n",
       "      <td>06. October 2023</td>\n",
       "      <td>2208.00</td>\n",
       "      <td>2239.00</td>\n",
       "      <td>497650</td>\n",
       "    </tr>\n",
       "    <tr>\n",
       "      <th>1</th>\n",
       "      <td>05. October 2023</td>\n",
       "      <td>2195.50</td>\n",
       "      <td>2233.00</td>\n",
       "      <td>500850</td>\n",
       "    </tr>\n",
       "    <tr>\n",
       "      <th>2</th>\n",
       "      <td>04. October 2023</td>\n",
       "      <td>2231.00</td>\n",
       "      <td>2271.00</td>\n",
       "      <td>502850</td>\n",
       "    </tr>\n",
       "    <tr>\n",
       "      <th>3</th>\n",
       "      <td>03. October 2023</td>\n",
       "      <td>2257.00</td>\n",
       "      <td>2294.00</td>\n",
       "      <td>504850</td>\n",
       "    </tr>\n",
       "    <tr>\n",
       "      <th>4</th>\n",
       "      <td>02. October 2023</td>\n",
       "      <td>2286.50</td>\n",
       "      <td>2317.00</td>\n",
       "      <td>486775</td>\n",
       "    </tr>\n",
       "    <tr>\n",
       "      <th>...</th>\n",
       "      <td>...</td>\n",
       "      <td>...</td>\n",
       "      <td>...</td>\n",
       "      <td>...</td>\n",
       "    </tr>\n",
       "    <tr>\n",
       "      <th>197</th>\n",
       "      <td>09. January 2023</td>\n",
       "      <td>2336.50</td>\n",
       "      <td>2370.00</td>\n",
       "      <td>422075</td>\n",
       "    </tr>\n",
       "    <tr>\n",
       "      <th>198</th>\n",
       "      <td>06. January 2023</td>\n",
       "      <td>2242.50</td>\n",
       "      <td>2275.00</td>\n",
       "      <td>428525</td>\n",
       "    </tr>\n",
       "    <tr>\n",
       "      <th>199</th>\n",
       "      <td>05. January 2023</td>\n",
       "      <td>2270.00</td>\n",
       "      <td>2304.00</td>\n",
       "      <td>436500</td>\n",
       "    </tr>\n",
       "    <tr>\n",
       "      <th>200</th>\n",
       "      <td>04. January 2023</td>\n",
       "      <td>2250.00</td>\n",
       "      <td>2287.00</td>\n",
       "      <td>442425</td>\n",
       "    </tr>\n",
       "    <tr>\n",
       "      <th>201</th>\n",
       "      <td>03. January 2023</td>\n",
       "      <td>2337.50</td>\n",
       "      <td>2369.00</td>\n",
       "      <td>447250</td>\n",
       "    </tr>\n",
       "  </tbody>\n",
       "</table>\n",
       "<p>202 rows × 4 columns</p>\n",
       "</div>"
      ],
      "text/plain": [
       "                 date LME Aluminium Cash-Settlement LME Aluminium 3-month  \\\n",
       "0    06. October 2023                       2208.00               2239.00   \n",
       "1    05. October 2023                       2195.50               2233.00   \n",
       "2    04. October 2023                       2231.00               2271.00   \n",
       "3    03. October 2023                       2257.00               2294.00   \n",
       "4    02. October 2023                       2286.50               2317.00   \n",
       "..                ...                           ...                   ...   \n",
       "197  09. January 2023                       2336.50               2370.00   \n",
       "198  06. January 2023                       2242.50               2275.00   \n",
       "199  05. January 2023                       2270.00               2304.00   \n",
       "200  04. January 2023                       2250.00               2287.00   \n",
       "201  03. January 2023                       2337.50               2369.00   \n",
       "\n",
       "    LME Aluminium stock  \n",
       "0                497650  \n",
       "1                500850  \n",
       "2                502850  \n",
       "3                504850  \n",
       "4                486775  \n",
       "..                  ...  \n",
       "197              422075  \n",
       "198              428525  \n",
       "199              436500  \n",
       "200              442425  \n",
       "201              447250  \n",
       "\n",
       "[202 rows x 4 columns]"
      ]
     },
     "execution_count": 9,
     "metadata": {},
     "output_type": "execute_result"
    }
   ],
   "source": [
    "pd.read_html(responce.text)[0]"
   ]
  },
  {
   "cell_type": "code",
   "execution_count": null,
   "metadata": {},
   "outputs": [],
   "source": []
  }
 ],
 "metadata": {
  "kernelspec": {
   "display_name": "Python 3",
   "language": "python",
   "name": "python3"
  },
  "language_info": {
   "codemirror_mode": {
    "name": "ipython",
    "version": 3
   },
   "file_extension": ".py",
   "mimetype": "text/x-python",
   "name": "python",
   "nbconvert_exporter": "python",
   "pygments_lexer": "ipython3",
   "version": "3.11.4"
  },
  "orig_nbformat": 4
 },
 "nbformat": 4,
 "nbformat_minor": 2
}
