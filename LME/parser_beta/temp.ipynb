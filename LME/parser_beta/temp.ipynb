{
 "cells": [
  {
   "cell_type": "code",
   "execution_count": 1,
   "metadata": {},
   "outputs": [],
   "source": [
    "import pandas as pd\n",
    "import numpy as np\n",
    "import requests\n",
    "from datetime import date, datetime\n"
   ]
  },
  {
   "cell_type": "code",
   "execution_count": 2,
   "metadata": {},
   "outputs": [],
   "source": [
    "url = 'https://www.westmetall.com/en/markdaten.php?action=table&field=LME_Al_cash'"
   ]
  },
  {
   "cell_type": "code",
   "execution_count": 3,
   "metadata": {},
   "outputs": [],
   "source": [
    "responce = requests.get(url=url)"
   ]
  },
  {
   "cell_type": "code",
   "execution_count": 7,
   "metadata": {},
   "outputs": [
    {
     "name": "stderr",
     "output_type": "stream",
     "text": [
      "/var/folders/hp/79qzs1rx74qgjz43pgfcb1340000gn/T/ipykernel_6809/674423051.py:1: FutureWarning: Passing literal html to 'read_html' is deprecated and will be removed in a future version. To read from a literal string, wrap it in a 'StringIO' object.\n",
      "  len(pd.read_html(responce.text))\n"
     ]
    },
    {
     "data": {
      "text/plain": [
       "16"
      ]
     },
     "execution_count": 7,
     "metadata": {},
     "output_type": "execute_result"
    }
   ],
   "source": [
    "len(pd.read_html(responce.text))"
   ]
  },
  {
   "cell_type": "code",
   "execution_count": 5,
   "metadata": {},
   "outputs": [
    {
     "name": "stderr",
     "output_type": "stream",
     "text": [
      "/var/folders/hp/79qzs1rx74qgjz43pgfcb1340000gn/T/ipykernel_6809/3953017053.py:1: FutureWarning: Passing literal html to 'read_html' is deprecated and will be removed in a future version. To read from a literal string, wrap it in a 'StringIO' object.\n",
      "  pd.read_html(responce.text)[0]\n"
     ]
    },
    {
     "data": {
      "text/html": [
       "<div>\n",
       "<style scoped>\n",
       "    .dataframe tbody tr th:only-of-type {\n",
       "        vertical-align: middle;\n",
       "    }\n",
       "\n",
       "    .dataframe tbody tr th {\n",
       "        vertical-align: top;\n",
       "    }\n",
       "\n",
       "    .dataframe thead th {\n",
       "        text-align: right;\n",
       "    }\n",
       "</style>\n",
       "<table border=\"1\" class=\"dataframe\">\n",
       "  <thead>\n",
       "    <tr style=\"text-align: right;\">\n",
       "      <th></th>\n",
       "      <th>date</th>\n",
       "      <th>LME Aluminium Cash-Settlement</th>\n",
       "      <th>LME Aluminium 3-month</th>\n",
       "      <th>LME Aluminium stock</th>\n",
       "    </tr>\n",
       "  </thead>\n",
       "  <tbody>\n",
       "    <tr>\n",
       "      <th>0</th>\n",
       "      <td>06. October 2023</td>\n",
       "      <td>2208.00</td>\n",
       "      <td>2239.00</td>\n",
       "      <td>497650</td>\n",
       "    </tr>\n",
       "    <tr>\n",
       "      <th>1</th>\n",
       "      <td>05. October 2023</td>\n",
       "      <td>2195.50</td>\n",
       "      <td>2233.00</td>\n",
       "      <td>500850</td>\n",
       "    </tr>\n",
       "    <tr>\n",
       "      <th>2</th>\n",
       "      <td>04. October 2023</td>\n",
       "      <td>2231.00</td>\n",
       "      <td>2271.00</td>\n",
       "      <td>502850</td>\n",
       "    </tr>\n",
       "    <tr>\n",
       "      <th>3</th>\n",
       "      <td>03. October 2023</td>\n",
       "      <td>2257.00</td>\n",
       "      <td>2294.00</td>\n",
       "      <td>504850</td>\n",
       "    </tr>\n",
       "    <tr>\n",
       "      <th>4</th>\n",
       "      <td>02. October 2023</td>\n",
       "      <td>2286.50</td>\n",
       "      <td>2317.00</td>\n",
       "      <td>486775</td>\n",
       "    </tr>\n",
       "    <tr>\n",
       "      <th>...</th>\n",
       "      <td>...</td>\n",
       "      <td>...</td>\n",
       "      <td>...</td>\n",
       "      <td>...</td>\n",
       "    </tr>\n",
       "    <tr>\n",
       "      <th>197</th>\n",
       "      <td>09. January 2023</td>\n",
       "      <td>2336.50</td>\n",
       "      <td>2370.00</td>\n",
       "      <td>422075</td>\n",
       "    </tr>\n",
       "    <tr>\n",
       "      <th>198</th>\n",
       "      <td>06. January 2023</td>\n",
       "      <td>2242.50</td>\n",
       "      <td>2275.00</td>\n",
       "      <td>428525</td>\n",
       "    </tr>\n",
       "    <tr>\n",
       "      <th>199</th>\n",
       "      <td>05. January 2023</td>\n",
       "      <td>2270.00</td>\n",
       "      <td>2304.00</td>\n",
       "      <td>436500</td>\n",
       "    </tr>\n",
       "    <tr>\n",
       "      <th>200</th>\n",
       "      <td>04. January 2023</td>\n",
       "      <td>2250.00</td>\n",
       "      <td>2287.00</td>\n",
       "      <td>442425</td>\n",
       "    </tr>\n",
       "    <tr>\n",
       "      <th>201</th>\n",
       "      <td>03. January 2023</td>\n",
       "      <td>2337.50</td>\n",
       "      <td>2369.00</td>\n",
       "      <td>447250</td>\n",
       "    </tr>\n",
       "  </tbody>\n",
       "</table>\n",
       "<p>202 rows × 4 columns</p>\n",
       "</div>"
      ],
      "text/plain": [
       "                 date LME Aluminium Cash-Settlement LME Aluminium 3-month  \\\n",
       "0    06. October 2023                       2208.00               2239.00   \n",
       "1    05. October 2023                       2195.50               2233.00   \n",
       "2    04. October 2023                       2231.00               2271.00   \n",
       "3    03. October 2023                       2257.00               2294.00   \n",
       "4    02. October 2023                       2286.50               2317.00   \n",
       "..                ...                           ...                   ...   \n",
       "197  09. January 2023                       2336.50               2370.00   \n",
       "198  06. January 2023                       2242.50               2275.00   \n",
       "199  05. January 2023                       2270.00               2304.00   \n",
       "200  04. January 2023                       2250.00               2287.00   \n",
       "201  03. January 2023                       2337.50               2369.00   \n",
       "\n",
       "    LME Aluminium stock  \n",
       "0                497650  \n",
       "1                500850  \n",
       "2                502850  \n",
       "3                504850  \n",
       "4                486775  \n",
       "..                  ...  \n",
       "197              422075  \n",
       "198              428525  \n",
       "199              436500  \n",
       "200              442425  \n",
       "201              447250  \n",
       "\n",
       "[202 rows x 4 columns]"
      ]
     },
     "execution_count": 5,
     "metadata": {},
     "output_type": "execute_result"
    }
   ],
   "source": [
    "pd.read_html(responce.text)[0]"
   ]
  },
  {
   "cell_type": "code",
   "execution_count": null,
   "metadata": {},
   "outputs": [],
   "source": [
    ":method: GET\n",
    ":scheme: https\n",
    ":authority: www.lme.com\n",
    ":path: /api/trading-data/metal-block?datasourceIds=1b72897c-6a30-480c-a74a-cfc2faaaff16&datasourceIds=fc09fcde-6438-4834-9221-98da9ed54eea&datasourceIds=b411edcc-fc99-4da8-ba18-da82b8a5dad4&datasourceIds=6326cb5f-0770-4ba6-a3b4-871ecf0566f7&datasourceIds=14f25c1d-fd36-459d-a228-e088180bfb75&datasourceIds=1dcd0785-8af8-4df3-aae0-084e9a686654&datasourceIds=4b9fe162-6e23-4566-ba72-6f798c10c605&datasourceIds=e7c48262-7026-401e-8e12-3311783bf629\n",
    "Cookie: SC_ANALYTICS_GLOBAL_COOKIE=17e39e9fb7284aeb9a3b2acd6e5ef550|True; ai_session=v9gSooxIrzDEwfQN7OI/Hj|1696749471127|1696749498746; _ga=GA1.2.1905386367.1692928530; _ga_K7LTMQKVQ8=GS1.2.1696749471.33.0.1696749474.0.0.0; _gid=GA1.2.2117894617.1696749471; OptanonConsent=isGpcEnabled=0&datestamp=Sun+Oct+08+2023+12%3A17%3A51+GMT%2B0500+(%D0%95%D0%BA%D0%B0%D1%82%D0%B5%D1%80%D0%B8%D0%BD%D0%B1%D1%83%D1%80%D0%B3%2C+%D1%81%D1%82%D0%B0%D0%BD%D0%B4%D0%B0%D1%80%D1%82%D0%BD%D0%BE%D0%B5+%D0%B2%D1%80%D0%B5%D0%BC%D1%8F)&version=6.19.0&isIABGlobal=false&hosts=&landingPath=NotLandingPage&groups=C0001%3A1%2CC0003%3A1%2CC0002%3A1%2CC0004%3A1&geolocation=RU%3BSVE&AwaitingReconsent=false; _gat_UA-197696809-1=1; _hjAbsoluteSessionInProgress=0; _hjIncludedInSessionSample_2713621=0; _hjSessionUser_2713621=eyJpZCI6ImNhYTYyMzVlLTg1MTUtNTM4ZC1iZGJmLWVmZTAyYjkwMjFjYiIsImNyZWF0ZWQiOjE2OTI5Mjg1MzA0MTYsImV4aXN0aW5nIjp0cnVlfQ==; _hjSession_2713621=eyJpZCI6IjhjY2Y4ODk2LTE2N2EtNDVlMi05NTQ4LTFjZTRmY2Y3ZDE3YSIsImNyZWF0ZWQiOjE2OTY3NDk0NzEyOTYsImluU2FtcGxlIjpmYWxzZSwic2Vzc2lvbml6ZXJCZXRhRW5hYmxlZCI6ZmFsc2V9; s_cc=true; __cf_bm=bK0szykIHDqZ3F42a2IOhlhrIOMwT0Zjqhh6CFHFgLI-1696749471-0-AeNJunxlLOp9xdyfIfK0OXYRpsuic8ZRh78zHKHl9Qw97yymmMqGhZ4KxJfFOVplvkeNe6eO7SJThwTwA8xBlPo=; ASP.NET_SessionId=p3jr2za1llqckaejozdytzk3; shell#lang=en; AMCV_DD0356406298B0640A495CB8%40AdobeOrg=179643557%7CMCIDTS%7C19638%7CMCMID%7C16992543679285738915009814657013146479%7CvVersion%7C5.5.0; OptanonAlertBoxClosed=2023-08-25T01:55:29.895Z; ai_user=kNc4mu4yDxtpq6FwsztCLs|2023-08-25T01:55:25.093Z\n",
    "Accept: */*\n",
    "Sec-Fetch-Site: same-origin\n",
    "Accept-Language: ru\n",
    "Accept-Encoding: gzip, deflate, br\n",
    "Sec-Fetch-Mode: cors\n",
    "Host: www.lme.com\n",
    "User-Agent: Mozilla/5.0 (Macintosh; Intel Mac OS X 10_15_7) AppleWebKit/605.1.15 (KHTML, like Gecko) Version/17.0 Safari/605.1.15\n",
    "Referer: https://www.lme.com/Metals/Non-ferrous\n",
    "Connection: keep-alive\n",
    "Sec-Fetch-Dest: empty\n",
    "request-id: |8784e21b66a64b6f87b7282af56ce53c.6c4ce9040eeb41c9\n",
    "traceparent: 00-8784e21b66a64b6f87b7282af56ce53c-6c4ce9040eeb41c9-01\n"
   ]
  },
  {
   "cell_type": "code",
   "execution_count": null,
   "metadata": {},
   "outputs": [],
   "source": [
    "https://www.lme.com/api/trading-data/metal-block?datasourceIds=1b72897c-6a30-480c-a74a-cfc2faaaff16&datasourceIds=fc09fcde-6438-4834-9221-98da9ed54eea&datasourceIds=b411edcc-fc99-4da8-ba18-da82b8a5dad4&datasourceIds=6326cb5f-0770-4ba6-a3b4-871ecf0566f7&datasourceIds=14f25c1d-fd36-459d-a228-e088180bfb75&datasourceIds=1dcd0785-8af8-4df3-aae0-084e9a686654&datasourceIds=4b9fe162-6e23-4566-ba72-6f798c10c605&datasourceIds=e7c48262-7026-401e-8e12-3311783bf629"
   ]
  },
  {
   "cell_type": "code",
   "execution_count": 10,
   "metadata": {},
   "outputs": [],
   "source": [
    "url_2 = 'https://www.lme.com/api/trading-data/metal-block?datasourceIds=1b72897c-6a30-480c-a74a-cfc2faaaff16&datasourceIds=fc09fcde-6438-4834-9221-98da9ed54eea&datasourceIds=b411edcc-fc99-4da8-ba18-da82b8a5dad4&datasourceIds=6326cb5f-0770-4ba6-a3b4-871ecf0566f7&datasourceIds=14f25c1d-fd36-459d-a228-e088180bfb75&datasourceIds=1dcd0785-8af8-4df3-aae0-084e9a686654&datasourceIds=4b9fe162-6e23-4566-ba72-6f798c10c605&datasourceIds=e7c48262-7026-401e-8e12-3311783bf629'"
   ]
  },
  {
   "cell_type": "code",
   "execution_count": 11,
   "metadata": {},
   "outputs": [],
   "source": [
    "responce_2 = requests.get(url=url_2)"
   ]
  },
  {
   "cell_type": "code",
   "execution_count": 13,
   "metadata": {},
   "outputs": [
    {
     "data": {
      "text/plain": [
       "'<!DOCTYPE html><html lang=\"en-US\"><head><title>Just a moment...</title><meta http-equiv=\"Content-Type\" content=\"text/html; charset=UTF-8\"><meta http-equiv=\"X-UA-Compatible\" content=\"IE=Edge\"><meta name=\"robots\" content=\"noindex,nofollow\"><meta name=\"viewport\" content=\"width=device-width,initial-scale=1\"><link href=\"/cdn-cgi/styles/challenges.css\" rel=\"stylesheet\"></head><body class=\"no-js\"><div class=\"main-wrapper\" role=\"main\"><div class=\"main-content\"><noscript><div id=\"challenge-error-title\"><div class=\"h2\"><span class=\"icon-wrapper\"><div class=\"heading-icon warning-icon\"></div></span><span id=\"challenge-error-text\">Enable JavaScript and cookies to continue</span></div></div></noscript></div></div><script>(function(){window._cf_chl_opt={cvId: \\'2\\',cZone: \"www.lme.com\",cType: \\'managed\\',cNounce: \\'20533\\',cRay: \\'812c9e7cfc4904a3\\',cHash: \\'b03c052885e4265\\',cUPMDTk: \"\\\\/api\\\\/trading-data\\\\/metal-block?datasourceIds=1b72897c-6a30-480c-a74a-cfc2faaaff16&datasourceIds=fc09fcde-6438-4834-9221-98da9ed54eea&datasourceIds=b411edcc-fc99-4da8-ba18-da82b8a5dad4&datasourceIds=6326cb5f-0770-4ba6-a3b4-871ecf0566f7&datasourceIds=14f25c1d-fd36-459d-a228-e088180bfb75&datasourceIds=1dcd0785-8af8-4df3-aae0-084e9a686654&datasourceIds=4b9fe162-6e23-4566-ba72-6f798c10c605&datasourceIds=e7c48262-7026-401e-8e12-3311783bf629&__cf_chl_tk=afEUykMswPENoYz2QXQ4FXmAscqx_5TbmjHSYziBtcw-1696749603-0-gaNycGzNDns\",cFPWv: \\'g\\',cTTimeMs: \\'1000\\',cMTimeMs: \\'0\\',cTplV: 5,cTplB: \\'cf\\',cK: \"visitor-time\",fa: \"\\\\/api\\\\/trading-data\\\\/metal-block?datasourceIds=1b72897c-6a30-480c-a74a-cfc2faaaff16&datasourceIds=fc09fcde-6438-4834-9221-98da9ed54eea&datasourceIds=b411edcc-fc99-4da8-ba18-da82b8a5dad4&datasourceIds=6326cb5f-0770-4ba6-a3b4-871ecf0566f7&datasourceIds=14f25c1d-fd36-459d-a228-e088180bfb75&datasourceIds=1dcd0785-8af8-4df3-aae0-084e9a686654&datasourceIds=4b9fe162-6e23-4566-ba72-6f798c10c605&datasourceIds=e7c48262-7026-401e-8e12-3311783bf629&__cf_chl_f_tk=afEUykMswPENoYz2QXQ4FXmAscqx_5TbmjHSYziBtcw-1696749603-0-gaNycGzNDns\",md: \"XtWRhCcfJ3jjwvJZPPFOoVoI23ulYBB1u7WiyFC9.Mg-1696749603-0-Abc4QplgXwrZcFFuurTIAOY31PAlJCXQu3LInbvmfV3Fts6D3vt4pYo4W1g4UaS54Nw5Ki2pLY38geMG6ybG_YT3QoeA-etJAYA0Ej7qZNHNX1X0otTWL6cLTIOsPDgQFyQOyTw22Jc0yLK71wgzX-kR1RYlCiwipUUPQIXj_T99djG6Awh8hiJKA50cWrGKHG6UTzsjssYHceUdYdhZwL-7AgPnUVWNPgb2jNiHu_w1MrflfiuAXa3A0OJLMoGgy3U4qJeZYrU1__2kHVHNLXOKE-1VbZqOQg3zeV7eWSov0T7ELhbXdRxIv8bibCRYKNdZptB1j4MVz9Li69AqPz7BlKyJpffptfgVNJo4HuCD9LaqzD3dkRNNsW2h1UmQ2FMFDT602sHD5OeuiqD0z71y7RBNAxDTQSW_hXkjfFt8V9ZabJWVaKmYex9uOSHGaRYttiCmjA_nVzXRS-mIfwA4B0IO9vfPCJpjBbMZxT9H8-FJ146CyZc5UMn8JD_1ZNVRDD07WCgEXaba3TkLZfVVv8YGql3sG1fEJ1ePd0loj-8W2hbQg4KUPbnCY7tC6refnoCrXJXRiFZRS6VBk5-D3xbFRTbT7xFMECDNj867jHV1Dr_VnAmYzBFaHxPcIbYPyZrct-Qarv-JKPzN-kwWu2YFue6Am2q6NO7XyrAfHQGoM9T-6x186QBlhBjWWDR7v2ZvHbtYrOKed-5-WWrrdnIlzZM8QvWmeHwljuJ36ISG9BibykedXa4Md7ryT413tAu0Ayr1j4TDgEbvRu0oIvB2wct6DScKrBqZs4h49eSc8dFqV74mcNn6ewISklMbwNPxOUmKjKBZuKUR02PXbhxdqtBE2idOOGQm1mBacpDbZjUtbkpqf3dTyUjKRxU4RZMtYEutCbxxTZcy1zg1PUHYjqwnj8dngoLrUfWQc_KKSpLaFKa3pVKMi5YS3i7hlkjJ7T3k00lE6YdFPhZ0st0BdHfwEinIsWJ-sdOBjp7yqXHlxi_Zzdv3TAk-u3wRy-NwF7HTIf8B518OVWnXerSgsudHG42lbe1pdeWt3d030vQlwuH_2f4lbMfEae03AOikvrjdVR3aqpY9liYRuqnODbie6SNyyKejuc964Hf0o8g444pMZueVQ4PD-zYVofS6ia5DLEczgW9aa6drUPB0DLqiHlFb8ikglKw0lY-pUsrYfvm9lb3AarqX38rdXyECbQMOfaNVisid8dHYogcMdTC_ua8oZO3C1dHD01fr6EFsZYAzvKNaT1dCLuavd2Ij6wLJhcNuYTGdRKdwRAHxG65DCcyOEW0Dn0ZrXIxhCNC5z0-t9fwddwJgbvdryTWL3lnHAZ_wHNGovQW75TORGPSxF7-HMlw9Q4bPGQqigh8NwKrDrT4Sue60Mon8mmR3HlRmGpkRYw9A_UCBxNbWSeD-BDkzCh7R7kjZobsVj2V9bJHCT-Kgod2i3I9w9IM4lfF53WwMcShUwGHpeGCSKVFSEB-S0NQHJLskqcYi4ty8JE8l5xdRc9cLsdksOKIf4CqGc6dCQ2UBtx_bZ_NnYpk_jKBE861zp8DXy2Zr2jxs0T5lybBWADp_FAo-5U0E1cxrtC93OT-oBIIjQELs0sUpbnWV-NWPwcg3hXEvbUDJmggYSuLBg1DxVaOK3O2ujWzUHFtiXibQ0HbYCmoxCwLdSxuSQXxsUvojOj_72MQhJ_NQAS7XOTmJ7JWZ-ZnpbwY48JhXxAysXi50qWoIJaNlTEW6Pijf7dLqe3P2GITFOWE1GVRcyQ98thWi7HiF-S1HkCzQDdqg2MS-k1zTa49aLlF3OWEG1lhh7cyU6XFCmmTeppPbWvafFr3qID-YcZ9WVYi9bQJki07h7uaLw12qxXaLRZJ6dVLqo-zBt5evadOcn1k1Dwb8HFjIOzSclIKJHG5b89XPrVa_WWU3mvd7-Z58x2twz1BnA7bDEq2ZZoIHihl4ENRH2VpIn1I2F4w3hEFRRHM0ByaTzoW0uSZG4Npz1QsCj9jHRdwi2Ld1Li25YKvhAoQ52t421g0I4jMxMFpmrY_kYtjpMgH9HiP_9PkfwmkG5s_tdH8yPe__ULd6giELjXetxXOtMGuMhqBb-zeCxZilx6Ts6u8ofW-pm7ROXOpovdydIVuWPrfWC2rS-tTXqUi1EudRPTiwTysV2SP_QK3nTDHy24l5Iwq9buHUN-rpbsZxUu6jWKyM7m_5rUy1XETBo3mM1RFOtuNq5fZsFPOb9irk5X08LbbBgwP32NkwP7Y5NwfeR1QqPhFRlyaWa4okZUg6JqA7pUWO9EVrriOapQlaMAqQI4Uaa9MTnNbftie9HN_wDZ78bNxnVGwsezi5TRxfk1GDx9Kfox2CCsyaAWmMXyF4L13BQkp_GOY1y0P-V-IhAw8HHiR8HSwlGxexzHyDpNv4kCYbc7rh3d6J4MsVc1tg04z6tyvhyxIFr5B4Pvoc-r7ARDQT1zzQgOd4I8d2AUQ-pBpbaewn91AGoK98hiJEhoIAnLaV6HgnnS1xxedBnDd5-uE-p4VPjKFfWEwtVfoJYIVHmfSNb7VoPlpmxVdJCSdcRCx5Mcs9wqCFd2M0RnJbkEzQfwtqOccWapa61rl5q_URElx4HcOUME22DjPdJEAXc2KeMIVLL299jxP39lTnUCIE7QHvk5J-Z5jsjeaZn5iIgfEkbs8_ef2m6ZKUcp9frYjx7CfIqDZVdwgz2PzBYwNqXWTvbfvuLb0vSXas0SP-TaLHJLmoc1Shv9JimASoWjKfmXuklMWOYPIByoT2Vh4PUpxAR7el2qHuIJSwkAhjsiWhM5qz1jBn7YAR5NSbA3sPBBlHg496JOISXgIZ5vmhwbyaSCDCK3kwcbTjmIZfILfc2v7GfAjbKSxRdcd-fGQRLOlGlIF3A3T6fqrL8ksHMNULvl8SwTu0eY8bC_KFD4pAzFBUojAO008Gnt1lcKR2Unt9dhl0zS5Mz9o4xMJ4n3477fQTbVzG2ewD0LNo41IVQFPbdBJqyhqSu-EkpEkbtKBuKKA92SUnX4IpMt-eeNa0R3HyR9sMrD41NnNLOXchvBd-A3zF4TAQkZMOBiPSOiJsGfEDsYTSOuHZlLp2xQzXGW8osXIgnpHcDaXhb9uCrnInuP_EwOgBnF3JFqE3nXlSAAXWdB6rlCL51K3N3prIdZX-A4h0Aff3dxrFTQm16tyMFjJ9mfsZdH_5ZcQFughQY5bfWnckaz7-DLkG_UfAMIk3AXBb_1zsLH4VxLydtLe47qh2RBbOIrUW8YqsvOayj9i6mM6mx9bmmhjOlT9wlXiwomHe0MzZsTXrwyhV0ReaO0OsdPFdncHOsqKNsQmFstWyd489bJifralyKlSMHG7wfWkhfURuCMbI_6QBFbV9JoKRHrfbj4GdemQvHCydYqfikHzWXjFlVR59H5d-L83N36YibbA05tQvcIzgOxA-_p42ZUdjKkK5FhhbIuXRcxLFcXraI_nBhPXIJ70WyjfGhyrmaKlWeAE29vC1M7vbFp3HtAOAAJXmiEqDO6YEOMeIQqWicz4gTMSmeXUstCJPg6Tf_cYqWvufSjhxQVgwHY1Cc0pvX1_DlwtRRRnlQ_hMx3zoTqb6wRnEha0DyG_6AA\",cRq: {ru: \\'aHR0cHM6Ly93d3cubG1lLmNvbS9hcGkvdHJhZGluZy1kYXRhL21ldGFsLWJsb2NrP2RhdGFzb3VyY2VJZHM9MWI3Mjg5N2MtNmEzMC00ODBjLWE3NGEtY2ZjMmZhYWFmZjE2JmRhdGFzb3VyY2VJZHM9ZmMwOWZjZGUtNjQzOC00ODM0LTkyMjEtOThkYTllZDU0ZWVhJmRhdGFzb3VyY2VJZHM9YjQxMWVkY2MtZmM5OS00ZGE4LWJhMTgtZGE4MmI4YTVkYWQ0JmRhdGFzb3VyY2VJZHM9NjMyNmNiNWYtMDc3MC00YmE2LWEzYjQtODcxZWNmMDU2NmY3JmRhdGFzb3VyY2VJZHM9MTRmMjVjMWQtZmQzNi00NTlkLWEyMjgtZTA4ODE4MGJmYjc1JmRhdGFzb3VyY2VJZHM9MWRjZDA3ODUtOGFmOC00ZGYzLWFhZTAtMDg0ZTlhNjg2NjU0JmRhdGFzb3VyY2VJZHM9NGI5ZmUxNjItNmUyMy00NTY2LWJhNzItNmY3OThjMTBjNjA1JmRhdGFzb3VyY2VJZHM9ZTdjNDgyNjItNzAyNi00MDFlLThlMTItMzMxMTc4M2JmNjI5\\',ra: \\'cHl0aG9uLXJlcXVlc3RzLzIuMzEuMA==\\',rm: \\'R0VU\\',d: \\'RFzJ2GrbfwZMnfLgx0OwijmA56CVFkzAbRbZn0qVt3cVMF532t31YuOxTjMF2hbyarM6p6XjNLYfMamHFlJ/CKtC21OEYw1+XGnsawNykSXkk7rOYsJKfH3JtabGbGLkgasxZbR8KNMZnvhkEmOnMZH9c97mYYEfViGdCFeiOoeSGETIM7TlfyV43YcufLDSV+DJrgbHPvoEfyubxOz6e6S7oyMxwR07IAuJJvuI5c9V97GlTBaTaXJyyzAjICuwTS1LJW18dOifAEYeoEyUWIc9dPRycH6lNGAMnkk55IRKNlR8bMpyjfOhiEOufgRCLFdKgS0AvywBCzVp1G5+sNzr9gi13/Q539dq/jtRIGy2n0iINcANoxbTcS235UM4uXtZV2k6FqpvYPn0jWZrCuvrhMnTAPkhfw/Oeq7FGxc0MR1IeFCLOPCm3RVVUq8JMKbifqZnua+nrE85tTCXuyWLocfstFB/LzgsDhSfnO9whw0/oQHCIbpRS7N+e/e+jbkdKQ9bhfZ+lG8j4MNNEJeNDy8q9Vj6VVqJtaGFUIQ=\\',t: \\'MTY5Njc0OTYwMy4zNjMwMDA=\\',cT: Math.floor(Date.now() / 1000),m: \\'/dBY5/cfINO/JXJVmJQGNGwv83bAZvzWBTsyPOHgOJM=\\',i1: \\'zHX3yo5amEONpxYP8L+hAg==\\',i2: \\'c6CJzoEKDD6/hl7nW4yN9w==\\',zh: \\'gMkw8UkSeodSh9EZzMbFEU4ZXRdWgAVtNanUB8eKseY=\\',uh: \\'YE9XOpG5TeHmhA1zfs5mxC8CrRZzq2a/+r+OU7dliYQ=\\',hh: \\'AmGcA2/cptq9SPS7zwY2m0R9ataC0mjycC23ficsb0g=\\',}};var cpo = document.createElement(\\'script\\');cpo.src = \\'/cdn-cgi/challenge-platform/h/g/orchestrate/chl_page/v1?ray=812c9e7cfc4904a3\\';window._cf_chl_opt.cOgUHash = location.hash === \\'\\' && location.href.indexOf(\\'#\\') !== -1 ? \\'#\\' : location.hash;window._cf_chl_opt.cOgUQuery = location.search === \\'\\' && location.href.slice(0, location.href.length - window._cf_chl_opt.cOgUHash.length).indexOf(\\'?\\') !== -1 ? \\'?\\' : location.search;if (window.history && window.history.replaceState) {var ogU = location.pathname + window._cf_chl_opt.cOgUQuery + window._cf_chl_opt.cOgUHash;history.replaceState(null, null, \"\\\\/api\\\\/trading-data\\\\/metal-block?datasourceIds=1b72897c-6a30-480c-a74a-cfc2faaaff16&datasourceIds=fc09fcde-6438-4834-9221-98da9ed54eea&datasourceIds=b411edcc-fc99-4da8-ba18-da82b8a5dad4&datasourceIds=6326cb5f-0770-4ba6-a3b4-871ecf0566f7&datasourceIds=14f25c1d-fd36-459d-a228-e088180bfb75&datasourceIds=1dcd0785-8af8-4df3-aae0-084e9a686654&datasourceIds=4b9fe162-6e23-4566-ba72-6f798c10c605&datasourceIds=e7c48262-7026-401e-8e12-3311783bf629&__cf_chl_rt_tk=afEUykMswPENoYz2QXQ4FXmAscqx_5TbmjHSYziBtcw-1696749603-0-gaNycGzNDns\" + window._cf_chl_opt.cOgUHash);cpo.onload = function() {history.replaceState(null, null, ogU);}}document.getElementsByTagName(\\'head\\')[0].appendChild(cpo);}());</script></body></html>'"
      ]
     },
     "execution_count": 13,
     "metadata": {},
     "output_type": "execute_result"
    }
   ],
   "source": [
    "responce_2.text"
   ]
  },
  {
   "cell_type": "code",
   "execution_count": null,
   "metadata": {},
   "outputs": [],
   "source": []
  }
 ],
 "metadata": {
  "kernelspec": {
   "display_name": "Python 3",
   "language": "python",
   "name": "python3"
  },
  "language_info": {
   "codemirror_mode": {
    "name": "ipython",
    "version": 3
   },
   "file_extension": ".py",
   "mimetype": "text/x-python",
   "name": "python",
   "nbconvert_exporter": "python",
   "pygments_lexer": "ipython3",
   "version": "3.12.0"
  },
  "orig_nbformat": 4
 },
 "nbformat": 4,
 "nbformat_minor": 2
}
