{
 "cells": [
  {
   "cell_type": "code",
   "execution_count": 51,
   "metadata": {},
   "outputs": [],
   "source": [
    "from datetime import date\n",
    "from pyhtml2pdf import converter, compressor\n",
    "from PyPDF2 import PdfMerger\n",
    "\n",
    "file_name = date.today().strftime('%d.%m.%Y')\n",
    "metall_name = ['Aluminium', 'Copper', 'Lead', 'Nickel', 'Zinc']\n",
    "\n",
    "for metall in metall_name:\n",
    "    converter.convert(\n",
    "        source=f'https://www.lme.com/en/Metals/Non-ferrous/LME-{metall}#Trading+day+summary',\n",
    "        target=f'/Users/hotdonkey/Documents/GitHub/data_science_learning/code/LME/parser_beta/data/lme_daily_pdf/{metall}_temp.pdf',\n",
    "        print_options={'pageRanges': '1'}\n",
    "    )\n"
   ]
  },
  {
   "cell_type": "code",
   "execution_count": 60,
   "metadata": {},
   "outputs": [],
   "source": [
    "from selenium import webdriver\n",
    "\n",
    "DRIVER = 'chromedriver'\n",
    "driver = webdriver.Chrome(DRIVER)\n",
    "driver.get('https://www.lme.com/en/Metals/Non-ferrous')\n",
    "screenshot = driver.save_screenshot('my_screenshot.png')\n",
    "driver.quit()"
   ]
  },
  {
   "cell_type": "code",
   "execution_count": null,
   "metadata": {},
   "outputs": [],
   "source": []
  }
 ],
 "metadata": {
  "kernelspec": {
   "display_name": "Python 3",
   "language": "python",
   "name": "python3"
  },
  "language_info": {
   "codemirror_mode": {
    "name": "ipython",
    "version": 3
   },
   "file_extension": ".py",
   "mimetype": "text/x-python",
   "name": "python",
   "nbconvert_exporter": "python",
   "pygments_lexer": "ipython3",
   "version": "3.11.0 (v3.11.0:deaf509e8f, Oct 24 2022, 14:43:23) [Clang 13.0.0 (clang-1300.0.29.30)]"
  },
  "orig_nbformat": 4,
  "vscode": {
   "interpreter": {
    "hash": "1a1af0ee75eeea9e2e1ee996c87e7a2b11a0bebd85af04bb136d915cefc0abce"
   }
  }
 },
 "nbformat": 4,
 "nbformat_minor": 2
}
