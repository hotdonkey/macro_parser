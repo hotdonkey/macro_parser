{
 "cells": [
  {
   "cell_type": "code",
   "execution_count": 5,
   "metadata": {},
   "outputs": [],
   "source": [
    "import pandas as pd\n",
    "import requests\n",
    "from selenium import webdriver\n",
    "from selenium.webdriver.support.ui import Select\n",
    "from selenium.webdriver.common.by import By"
   ]
  },
  {
   "cell_type": "code",
   "execution_count": 9,
   "metadata": {},
   "outputs": [
    {
     "ename": "NoSuchElementException",
     "evalue": "Message: no such element: Unable to locate element: {\"method\":\"xpath\",\"selector\":\"//*[@id=\"inputPeriod:vrstaInner\"]\"}\n  (Session info: chrome=108.0.5359.124)\nStacktrace:\n0   chromedriver                        0x0000000102f80f38 chromedriver + 4910904\n1   chromedriver                        0x0000000102f00a03 chromedriver + 4385283\n2   chromedriver                        0x0000000102b45747 chromedriver + 472903\n3   chromedriver                        0x0000000102b8a34c chromedriver + 754508\n4   chromedriver                        0x0000000102b8a5a1 chromedriver + 755105\n5   chromedriver                        0x0000000102bcde94 chromedriver + 1031828\n6   chromedriver                        0x0000000102bb013d chromedriver + 909629\n7   chromedriver                        0x0000000102bcb28e chromedriver + 1020558\n8   chromedriver                        0x0000000102bafee3 chromedriver + 909027\n9   chromedriver                        0x0000000102b7a30c chromedriver + 688908\n10  chromedriver                        0x0000000102b7b88e chromedriver + 694414\n11  chromedriver                        0x0000000102f4e1de chromedriver + 4702686\n12  chromedriver                        0x0000000102f52b19 chromedriver + 4721433\n13  chromedriver                        0x0000000102f5a28e chromedriver + 4752014\n14  chromedriver                        0x0000000102f5391a chromedriver + 4725018\n15  chromedriver                        0x0000000102f27b02 chromedriver + 4545282\n16  chromedriver                        0x0000000102f72888 chromedriver + 4851848\n17  chromedriver                        0x0000000102f72a05 chromedriver + 4852229\n18  chromedriver                        0x0000000102f88e5f chromedriver + 4943455\n19  libsystem_pthread.dylib             0x00007ff81dcd1259 _pthread_start + 125\n20  libsystem_pthread.dylib             0x00007ff81dcccc7b thread_start + 15\n",
     "output_type": "error",
     "traceback": [
      "\u001b[0;31m---------------------------------------------------------------------------\u001b[0m",
      "\u001b[0;31mNoSuchElementException\u001b[0m                    Traceback (most recent call last)",
      "Cell \u001b[0;32mIn[9], line 3\u001b[0m\n\u001b[1;32m      1\u001b[0m driver \u001b[39m=\u001b[39m webdriver\u001b[39m.\u001b[39mChrome()\n\u001b[1;32m      2\u001b[0m driver\u001b[39m.\u001b[39mget(\u001b[39m'\u001b[39m\u001b[39mhttps://www.nbs.rs/en/finansijsko_trziste/medjubankarsko-devizno-trziste/kursna-lista/za-period/index.html\u001b[39m\u001b[39m'\u001b[39m)\n\u001b[0;32m----> 3\u001b[0m select \u001b[39m=\u001b[39m Select(driver\u001b[39m.\u001b[39;49mfind_element(By\u001b[39m.\u001b[39;49mXPATH,\u001b[39m'\u001b[39;49m\u001b[39m//*[@id=\u001b[39;49m\u001b[39m\"\u001b[39;49m\u001b[39minputPeriod:vrstaInner\u001b[39;49m\u001b[39m\"\u001b[39;49m\u001b[39m]\u001b[39;49m\u001b[39m'\u001b[39;49m))\n\u001b[1;32m      4\u001b[0m select\u001b[39m.\u001b[39mselect_by_visible_text(\u001b[39m'\u001b[39m\u001b[39mMiddle Exchange Rate\u001b[39m\u001b[39m'\u001b[39m)\n",
      "File \u001b[0;32m/Library/Frameworks/Python.framework/Versions/3.11/lib/python3.11/site-packages/selenium/webdriver/remote/webdriver.py:861\u001b[0m, in \u001b[0;36mWebDriver.find_element\u001b[0;34m(self, by, value)\u001b[0m\n\u001b[1;32m    858\u001b[0m     by \u001b[39m=\u001b[39m By\u001b[39m.\u001b[39mCSS_SELECTOR\n\u001b[1;32m    859\u001b[0m     value \u001b[39m=\u001b[39m \u001b[39m'\u001b[39m\u001b[39m[name=\u001b[39m\u001b[39m\"\u001b[39m\u001b[39m%s\u001b[39;00m\u001b[39m\"\u001b[39m\u001b[39m]\u001b[39m\u001b[39m'\u001b[39m \u001b[39m%\u001b[39m value\n\u001b[0;32m--> 861\u001b[0m \u001b[39mreturn\u001b[39;00m \u001b[39mself\u001b[39;49m\u001b[39m.\u001b[39;49mexecute(Command\u001b[39m.\u001b[39;49mFIND_ELEMENT, {\u001b[39m\"\u001b[39;49m\u001b[39musing\u001b[39;49m\u001b[39m\"\u001b[39;49m: by, \u001b[39m\"\u001b[39;49m\u001b[39mvalue\u001b[39;49m\u001b[39m\"\u001b[39;49m: value})[\u001b[39m\"\u001b[39m\u001b[39mvalue\u001b[39m\u001b[39m\"\u001b[39m]\n",
      "File \u001b[0;32m/Library/Frameworks/Python.framework/Versions/3.11/lib/python3.11/site-packages/selenium/webdriver/remote/webdriver.py:444\u001b[0m, in \u001b[0;36mWebDriver.execute\u001b[0;34m(self, driver_command, params)\u001b[0m\n\u001b[1;32m    442\u001b[0m response \u001b[39m=\u001b[39m \u001b[39mself\u001b[39m\u001b[39m.\u001b[39mcommand_executor\u001b[39m.\u001b[39mexecute(driver_command, params)\n\u001b[1;32m    443\u001b[0m \u001b[39mif\u001b[39;00m response:\n\u001b[0;32m--> 444\u001b[0m     \u001b[39mself\u001b[39;49m\u001b[39m.\u001b[39;49merror_handler\u001b[39m.\u001b[39;49mcheck_response(response)\n\u001b[1;32m    445\u001b[0m     response[\u001b[39m\"\u001b[39m\u001b[39mvalue\u001b[39m\u001b[39m\"\u001b[39m] \u001b[39m=\u001b[39m \u001b[39mself\u001b[39m\u001b[39m.\u001b[39m_unwrap_value(response\u001b[39m.\u001b[39mget(\u001b[39m\"\u001b[39m\u001b[39mvalue\u001b[39m\u001b[39m\"\u001b[39m, \u001b[39mNone\u001b[39;00m))\n\u001b[1;32m    446\u001b[0m     \u001b[39mreturn\u001b[39;00m response\n",
      "File \u001b[0;32m/Library/Frameworks/Python.framework/Versions/3.11/lib/python3.11/site-packages/selenium/webdriver/remote/errorhandler.py:249\u001b[0m, in \u001b[0;36mErrorHandler.check_response\u001b[0;34m(self, response)\u001b[0m\n\u001b[1;32m    247\u001b[0m         alert_text \u001b[39m=\u001b[39m value[\u001b[39m\"\u001b[39m\u001b[39malert\u001b[39m\u001b[39m\"\u001b[39m]\u001b[39m.\u001b[39mget(\u001b[39m\"\u001b[39m\u001b[39mtext\u001b[39m\u001b[39m\"\u001b[39m)\n\u001b[1;32m    248\u001b[0m     \u001b[39mraise\u001b[39;00m exception_class(message, screen, stacktrace, alert_text)  \u001b[39m# type: ignore[call-arg]  # mypy is not smart enough here\u001b[39;00m\n\u001b[0;32m--> 249\u001b[0m \u001b[39mraise\u001b[39;00m exception_class(message, screen, stacktrace)\n",
      "\u001b[0;31mNoSuchElementException\u001b[0m: Message: no such element: Unable to locate element: {\"method\":\"xpath\",\"selector\":\"//*[@id=\"inputPeriod:vrstaInner\"]\"}\n  (Session info: chrome=108.0.5359.124)\nStacktrace:\n0   chromedriver                        0x0000000102f80f38 chromedriver + 4910904\n1   chromedriver                        0x0000000102f00a03 chromedriver + 4385283\n2   chromedriver                        0x0000000102b45747 chromedriver + 472903\n3   chromedriver                        0x0000000102b8a34c chromedriver + 754508\n4   chromedriver                        0x0000000102b8a5a1 chromedriver + 755105\n5   chromedriver                        0x0000000102bcde94 chromedriver + 1031828\n6   chromedriver                        0x0000000102bb013d chromedriver + 909629\n7   chromedriver                        0x0000000102bcb28e chromedriver + 1020558\n8   chromedriver                        0x0000000102bafee3 chromedriver + 909027\n9   chromedriver                        0x0000000102b7a30c chromedriver + 688908\n10  chromedriver                        0x0000000102b7b88e chromedriver + 694414\n11  chromedriver                        0x0000000102f4e1de chromedriver + 4702686\n12  chromedriver                        0x0000000102f52b19 chromedriver + 4721433\n13  chromedriver                        0x0000000102f5a28e chromedriver + 4752014\n14  chromedriver                        0x0000000102f5391a chromedriver + 4725018\n15  chromedriver                        0x0000000102f27b02 chromedriver + 4545282\n16  chromedriver                        0x0000000102f72888 chromedriver + 4851848\n17  chromedriver                        0x0000000102f72a05 chromedriver + 4852229\n18  chromedriver                        0x0000000102f88e5f chromedriver + 4943455\n19  libsystem_pthread.dylib             0x00007ff81dcd1259 _pthread_start + 125\n20  libsystem_pthread.dylib             0x00007ff81dcccc7b thread_start + 15\n"
     ]
    }
   ],
   "source": [
    "driver = webdriver.Chrome()\n",
    "driver.get('https://www.nbs.rs/en/finansijsko_trziste/medjubankarsko-devizno-trziste/kursna-lista/za-period/index.html')\n",
    "select = Select(driver.find_element(By.XPATH,'//*[@id=\"inputPeriod:vrstaInner\"]'))\n",
    "select.select_by_visible_text('Middle Exchange Rate')"
   ]
  },
  {
   "cell_type": "code",
   "execution_count": null,
   "metadata": {},
   "outputs": [],
   "source": []
  }
 ],
 "metadata": {
  "kernelspec": {
   "display_name": "Python 3",
   "language": "python",
   "name": "python3"
  },
  "language_info": {
   "codemirror_mode": {
    "name": "ipython",
    "version": 3
   },
   "file_extension": ".py",
   "mimetype": "text/x-python",
   "name": "python",
   "nbconvert_exporter": "python",
   "pygments_lexer": "ipython3",
   "version": "3.11.0"
  },
  "orig_nbformat": 4,
  "vscode": {
   "interpreter": {
    "hash": "1a1af0ee75eeea9e2e1ee996c87e7a2b11a0bebd85af04bb136d915cefc0abce"
   }
  }
 },
 "nbformat": 4,
 "nbformat_minor": 2
}
