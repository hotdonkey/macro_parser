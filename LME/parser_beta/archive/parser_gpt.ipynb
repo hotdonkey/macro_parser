{
 "cells": [
  {
   "cell_type": "code",
   "execution_count": 2,
   "metadata": {},
   "outputs": [
    {
     "ename": "TimeoutException",
     "evalue": "Message: \nStacktrace:\n0   chromedriver                        0x0000000100731428 chromedriver + 4899880\n1   chromedriver                        0x00000001006aea23 chromedriver + 4364835\n2   chromedriver                        0x00000001002f8bf6 chromedriver + 474102\n3   chromedriver                        0x000000010033c4f0 chromedriver + 750832\n4   chromedriver                        0x000000010033c751 chromedriver + 751441\n5   chromedriver                        0x0000000100380834 chromedriver + 1030196\n6   chromedriver                        0x000000010036258d chromedriver + 906637\n7   chromedriver                        0x000000010037db5b chromedriver + 1018715\n8   chromedriver                        0x0000000100362333 chromedriver + 906035\n9   chromedriver                        0x000000010032c55f chromedriver + 685407\n10  chromedriver                        0x000000010032da7e chromedriver + 690814\n11  chromedriver                        0x00000001006fe79e chromedriver + 4691870\n12  chromedriver                        0x0000000100703961 chromedriver + 4712801\n13  chromedriver                        0x000000010070a2ff chromedriver + 4739839\n14  chromedriver                        0x000000010070485a chromedriver + 4716634\n15  chromedriver                        0x00000001006d6fce chromedriver + 4530126\n16  chromedriver                        0x00000001007245c8 chromedriver + 4847048\n17  chromedriver                        0x0000000100724747 chromedriver + 4847431\n18  chromedriver                        0x000000010073987f chromedriver + 4933759\n19  libsystem_pthread.dylib             0x00007ff80451b1d3 _pthread_start + 125\n20  libsystem_pthread.dylib             0x00007ff804516bd3 thread_start + 15\n",
     "output_type": "error",
     "traceback": [
      "\u001b[0;31m---------------------------------------------------------------------------\u001b[0m",
      "\u001b[0;31mTimeoutException\u001b[0m                          Traceback (most recent call last)",
      "Cell \u001b[0;32mIn[2], line 22\u001b[0m\n\u001b[1;32m     20\u001b[0m \u001b[39m# Найдите таблицу с помощью ожидания, чтобы дождаться ее загрузки\u001b[39;00m\n\u001b[1;32m     21\u001b[0m table_locator \u001b[39m=\u001b[39m (By\u001b[39m.\u001b[39mCSS_SELECTOR, \u001b[39m'\u001b[39m\u001b[39mtable.table.table-striped\u001b[39m\u001b[39m'\u001b[39m)\n\u001b[0;32m---> 22\u001b[0m table \u001b[39m=\u001b[39m WebDriverWait(driver, \u001b[39m10\u001b[39;49m)\u001b[39m.\u001b[39;49muntil(EC\u001b[39m.\u001b[39;49mpresence_of_element_located(table_locator))\n\u001b[1;32m     24\u001b[0m \u001b[39m# Извлеките HTML-код таблицы и распарсите его с помощью BeautifulSoup\u001b[39;00m\n\u001b[1;32m     25\u001b[0m html \u001b[39m=\u001b[39m table\u001b[39m.\u001b[39mget_attribute(\u001b[39m'\u001b[39m\u001b[39minnerHTML\u001b[39m\u001b[39m'\u001b[39m)\n",
      "File \u001b[0;32m~/opt/anaconda3/envs/ds/lib/python3.11/site-packages/selenium/webdriver/support/wait.py:95\u001b[0m, in \u001b[0;36mWebDriverWait.until\u001b[0;34m(self, method, message)\u001b[0m\n\u001b[1;32m     93\u001b[0m     \u001b[39mif\u001b[39;00m time\u001b[39m.\u001b[39mmonotonic() \u001b[39m>\u001b[39m end_time:\n\u001b[1;32m     94\u001b[0m         \u001b[39mbreak\u001b[39;00m\n\u001b[0;32m---> 95\u001b[0m \u001b[39mraise\u001b[39;00m TimeoutException(message, screen, stacktrace)\n",
      "\u001b[0;31mTimeoutException\u001b[0m: Message: \nStacktrace:\n0   chromedriver                        0x0000000100731428 chromedriver + 4899880\n1   chromedriver                        0x00000001006aea23 chromedriver + 4364835\n2   chromedriver                        0x00000001002f8bf6 chromedriver + 474102\n3   chromedriver                        0x000000010033c4f0 chromedriver + 750832\n4   chromedriver                        0x000000010033c751 chromedriver + 751441\n5   chromedriver                        0x0000000100380834 chromedriver + 1030196\n6   chromedriver                        0x000000010036258d chromedriver + 906637\n7   chromedriver                        0x000000010037db5b chromedriver + 1018715\n8   chromedriver                        0x0000000100362333 chromedriver + 906035\n9   chromedriver                        0x000000010032c55f chromedriver + 685407\n10  chromedriver                        0x000000010032da7e chromedriver + 690814\n11  chromedriver                        0x00000001006fe79e chromedriver + 4691870\n12  chromedriver                        0x0000000100703961 chromedriver + 4712801\n13  chromedriver                        0x000000010070a2ff chromedriver + 4739839\n14  chromedriver                        0x000000010070485a chromedriver + 4716634\n15  chromedriver                        0x00000001006d6fce chromedriver + 4530126\n16  chromedriver                        0x00000001007245c8 chromedriver + 4847048\n17  chromedriver                        0x0000000100724747 chromedriver + 4847431\n18  chromedriver                        0x000000010073987f chromedriver + 4933759\n19  libsystem_pthread.dylib             0x00007ff80451b1d3 _pthread_start + 125\n20  libsystem_pthread.dylib             0x00007ff804516bd3 thread_start + 15\n"
     ]
    }
   ],
   "source": [
    "from selenium import webdriver\n",
    "from selenium.webdriver.chrome.service import Service\n",
    "from selenium.webdriver.common.by import By\n",
    "from selenium.webdriver.support.ui import WebDriverWait\n",
    "from selenium.webdriver.support import expected_conditions as EC\n",
    "from bs4 import BeautifulSoup\n",
    "\n",
    "url = 'https://www.lme.com/Metals/Non-ferrous#tabIndex=1'\n",
    "\n",
    "# Установите путь к драйверу Chrome\n",
    "DRIVER_PATH = '/path/to/chromedriver'\n",
    "\n",
    "# Запустите веб-драйвер Chrome\n",
    "service = Service(DRIVER_PATH)\n",
    "driver = webdriver.Chrome(service=service)\n",
    "\n",
    "# Перейдите на страницу\n",
    "driver.get(url)\n",
    "\n",
    "# Найдите таблицу с помощью ожидания, чтобы дождаться ее загрузки\n",
    "table_locator = (By.CSS_SELECTOR, 'table.table.table-striped')\n",
    "table = WebDriverWait(driver, 10).until(EC.presence_of_element_located(table_locator))\n",
    "\n",
    "# Извлеките HTML-код таблицы и распарсите его с помощью BeautifulSoup\n",
    "html = table.get_attribute('innerHTML')\n",
    "soup = BeautifulSoup(html, 'html.parser')\n",
    "\n",
    "# Извлеките данные из таблицы\n",
    "for row in soup.find_all('tr'):\n",
    "    for cell in row.find_all('td'):\n",
    "        print(cell.text.strip(), end='\\t')\n",
    "    print()\n",
    "\n",
    "# Закройте веб-драйвер\n",
    "driver.quit()\n"
   ]
  },
  {
   "cell_type": "code",
   "execution_count": null,
   "metadata": {},
   "outputs": [],
   "source": []
  }
 ],
 "metadata": {
  "kernelspec": {
   "display_name": "ds",
   "language": "python",
   "name": "python3"
  },
  "language_info": {
   "codemirror_mode": {
    "name": "ipython",
    "version": 3
   },
   "file_extension": ".py",
   "mimetype": "text/x-python",
   "name": "python",
   "nbconvert_exporter": "python",
   "pygments_lexer": "ipython3",
   "version": "3.11.0"
  },
  "orig_nbformat": 4
 },
 "nbformat": 4,
 "nbformat_minor": 2
}
