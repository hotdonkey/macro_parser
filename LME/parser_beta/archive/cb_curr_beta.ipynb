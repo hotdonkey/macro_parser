{
 "cells": [
  {
   "cell_type": "code",
   "execution_count": 4,
   "metadata": {},
   "outputs": [],
   "source": [
    "import pandas as pd\n",
    "import numpy as np\n",
    "from datetime import date\n",
    "\n",
    "\n",
    "def cb_curr():\n",
    "    day = date.today()\n",
    "    today = day.strftime('%d/%m/%Y')\n",
    "\n",
    "    dict_of_currencies = {\n",
    "        'R01235': 'USD',\n",
    "        'R01239': 'EUR',\n",
    "        'R01010': 'Australian_Dollar',\n",
    "        'R01375': 'China_Yuan',\n",
    "        'R01035': 'British_Pound',\n",
    "        'R01335': 'Kazakhstan_Tenge',\n",
    "        'R01815': 'Japanese_Yen',\n",
    "        'R01775': 'Swiss_Franc'\n",
    "    }\n",
    "\n",
    "    list_of_currencies = [x for x in dict_of_currencies.keys()]\n",
    "\n",
    "    URL_list = []\n",
    "    for currency in list_of_currencies:\n",
    "        URL = f'http://www.cbr.ru/scripts/XML_dynamic.asp?date_req1={today}&date_req2={today}&VAL_NM_RQ={currency}'\n",
    "        URL_list.append(URL)\n",
    "\n",
    "    currency_df = pd.read_excel(\n",
    "        '/Users/hotdonkey/Documents/GitHub/data_science_learning/code/LME/parser_beta/data/cb_curr.xlsx', index_col=0)\n",
    "\n",
    "    for url_element in URL_list:\n",
    "        response_df = pd.read_xml(url_element)\n",
    "        response_df['Date'] = pd.to_datetime(\n",
    "            response_df['Date'], dayfirst=True)\n",
    "        response_df['Value'] = response_df['Value'].apply(\n",
    "            lambda x: x.replace(',', '.'))\n",
    "        response_df['Value'] = response_df['Value'].apply(pd.to_numeric)\n",
    "        response_df = response_df.replace(dict_of_currencies)\n",
    "        currency_df = pd.concat(\n",
    "            [currency_df, response_df], axis=0, ignore_index=True)\n",
    "        currency_df.drop_duplicates(inplace=True)\n",
    "\n",
    "    with pd.ExcelWriter(\n",
    "            \"/Users/hotdonkey/Documents/GitHub/data_science_learning/code/LME/parser_beta/data/cb_curr.xlsx\") as writer:\n",
    "        currency_df.to_excel(writer, sheet_name='curr')\n",
    "\n",
    "    return currency_df\n",
    "\n",
    "\n",
    "if __name__ == '__main__':\n",
    "    cb_curr()\n"
   ]
  },
  {
   "cell_type": "code",
   "execution_count": null,
   "metadata": {},
   "outputs": [],
   "source": []
  }
 ],
 "metadata": {
  "kernelspec": {
   "display_name": "Python 3",
   "language": "python",
   "name": "python3"
  },
  "language_info": {
   "codemirror_mode": {
    "name": "ipython",
    "version": 3
   },
   "file_extension": ".py",
   "mimetype": "text/x-python",
   "name": "python",
   "nbconvert_exporter": "python",
   "pygments_lexer": "ipython3",
   "version": "3.11.0 (v3.11.0:deaf509e8f, Oct 24 2022, 14:43:23) [Clang 13.0.0 (clang-1300.0.29.30)]"
  },
  "orig_nbformat": 4,
  "vscode": {
   "interpreter": {
    "hash": "1a1af0ee75eeea9e2e1ee996c87e7a2b11a0bebd85af04bb136d915cefc0abce"
   }
  }
 },
 "nbformat": 4,
 "nbformat_minor": 2
}
