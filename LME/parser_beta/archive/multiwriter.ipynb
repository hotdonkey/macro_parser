{
 "cells": [
  {
   "cell_type": "code",
   "execution_count": 3,
   "metadata": {},
   "outputs": [],
   "source": [
    "import pandas as pd"
   ]
  },
  {
   "cell_type": "code",
   "execution_count": 4,
   "metadata": {},
   "outputs": [],
   "source": [
    "lme = pd.read_excel(\"./data/LME_db_new.xlsx\", index_col=0)\n",
    "kitko = pd.read_excel(\"./data/kitko_db.xlsx\", index_col=0)\n",
    "lbma = pd.read_excel(\"./data/lbme_kitco_subs.xlsx\", index_col=0)\n",
    "nbk = pd.read_excel(\"./data/nbk_tenge.xlsx\", index_col=0)\n",
    "shmet = pd.read_excel(\"./data/shmet_historical.xlsx\", index_col=0)\n",
    "westmetall = pd.read_excel(\"./data/LME_westmetall_db.xlsx\", index_col=0)\n"
   ]
  },
  {
   "cell_type": "code",
   "execution_count": 12,
   "metadata": {},
   "outputs": [],
   "source": [
    "def writer():\n",
    "    # Открываем все необходимые фреймы\n",
    "    lme = pd.read_excel(\"./data/LME_db_new.xlsx\", index_col=0)\n",
    "    kitko = pd.read_excel(\"./data/kitko_db.xlsx\", index_col=0)\n",
    "    lbma = pd.read_excel(\"./data/lbme_kitco_subs.xlsx\", index_col=0)\n",
    "    nbk = pd.read_excel(\"./data/nbk_tenge.xlsx\", index_col=0)\n",
    "    shmet = pd.read_excel(\"./data/shmet_historical.xlsx\", index_col=0)\n",
    "    westmetall = pd.read_excel(\"./data/LME_westmetall_db.xlsx\", index_col=0)\n",
    "\n",
    "    with pd.ExcelWriter(\n",
    "        \"./data/multiple_dataframes.xlsx\",\n",
    "            date_format=\"YYYY-MM-DD\",\n",
    "            datetime_format=\"YYYY-MM-DD\", engine=\"xlsxwriter\") as writer:\n",
    "        lme.to_excel(writer, sheet_name=\"LME_non_ferrous\", index=False)\n",
    "        kitko.to_excel(writer, sheet_name=\"KITCO\", index=False)\n",
    "        lbma.to_excel(writer, sheet_name=\"LBMA\", index=False)\n",
    "        nbk.to_excel(writer, sheet_name=\"nbk_tenge\", index=False)\n",
    "        shmet.to_excel(writer, sheet_name=\"SHMET\", index=False)\n",
    "        westmetall.to_excel(writer, sheet_name=\"LME_westmetall\", index=False)\n"
   ]
  },
  {
   "cell_type": "code",
   "execution_count": 13,
   "metadata": {},
   "outputs": [],
   "source": [
    "writer()"
   ]
  },
  {
   "cell_type": "code",
   "execution_count": null,
   "metadata": {},
   "outputs": [],
   "source": []
  }
 ],
 "metadata": {
  "kernelspec": {
   "display_name": "Python 3",
   "language": "python",
   "name": "python3"
  },
  "language_info": {
   "codemirror_mode": {
    "name": "ipython",
    "version": 3
   },
   "file_extension": ".py",
   "mimetype": "text/x-python",
   "name": "python",
   "nbconvert_exporter": "python",
   "pygments_lexer": "ipython3",
   "version": "3.11.7"
  }
 },
 "nbformat": 4,
 "nbformat_minor": 2
}
