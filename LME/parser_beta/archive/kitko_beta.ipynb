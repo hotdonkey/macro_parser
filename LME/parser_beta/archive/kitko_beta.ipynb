{
 "cells": [
  {
   "cell_type": "code",
   "execution_count": 1,
   "metadata": {},
   "outputs": [],
   "source": [
    "import pandas as pd\n",
    "import requests\n",
    "import numpy as np\n",
    "\n",
    "\n",
    "def kitco_db():\n",
    "    url = 'https://www.kitco.com/gold.londonfix.html'\n",
    "    response = requests.get(url, headers={'User-Agent': 'Mozilla/5.0'})\n",
    "\n",
    "    kitco_response = pd.read_html(response.text)\n",
    "    kitco_df = pd.read_excel(\n",
    "        '/Users/hotdonkey/Documents/GitHub/data_science_learning/code/LME/parser_beta/data/kitko_db.xlsx', index_col=0)\n",
    "\n",
    "    kitco_day = kitco_response[1]\n",
    "    kitco_day.drop([1, 4, 6], axis=1, inplace=True)\n",
    "    kitco_day.columns = kitco_day.iloc[0]\n",
    "    kitco_day.drop([0, 1, 2], axis=0, inplace=True)\n",
    "    \n",
    "    \n",
    "    kitco_day['Date'] = pd.to_datetime(kitco_day['Date'])\n",
    "    kitco_day = kitco_day.replace({'-': np.nan})\n",
    "    kitco_day = kitco_day.sort_values(by=['Date'])\n",
    "    kitco_day = kitco_day.reset_index(drop=True)\n",
    "    kitco_day[['Gold', 'Silver', 'Platinum', 'Palladium']] = kitco_day[[\n",
    "        'Gold', 'Silver', 'Platinum', 'Palladium']].apply(pd.to_numeric)\n",
    "\n",
    "    kitco_day.drop_duplicates(inplace=True)\n",
    "\n",
    "    kitco_day.to_excel(\n",
    "        '/Users/hotdonkey/Documents/GitHub/data_science_learning/code/LME/parser_beta/data/kitko_db.xlsx', sheet_name='kitco_metall')\n",
    "    return kitco_day\n",
    "\n",
    "if __name__ == '__main__':\n",
    "    kitco_db()\n"
   ]
  },
  {
   "cell_type": "code",
   "execution_count": null,
   "metadata": {},
   "outputs": [],
   "source": []
  }
 ],
 "metadata": {
  "kernelspec": {
   "display_name": "Python 3",
   "language": "python",
   "name": "python3"
  },
  "language_info": {
   "codemirror_mode": {
    "name": "ipython",
    "version": 3
   },
   "file_extension": ".py",
   "mimetype": "text/x-python",
   "name": "python",
   "nbconvert_exporter": "python",
   "pygments_lexer": "ipython3",
   "version": "3.11.0"
  },
  "orig_nbformat": 4,
  "vscode": {
   "interpreter": {
    "hash": "1a1af0ee75eeea9e2e1ee996c87e7a2b11a0bebd85af04bb136d915cefc0abce"
   }
  }
 },
 "nbformat": 4,
 "nbformat_minor": 2
}
