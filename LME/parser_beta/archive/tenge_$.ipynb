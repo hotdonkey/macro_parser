{
 "cells": [
  {
   "cell_type": "code",
   "execution_count": 39,
   "metadata": {},
   "outputs": [],
   "source": [
    "import pandas as pd\n",
    "import requests\n",
    "from datetime import date"
   ]
  },
  {
   "cell_type": "code",
   "execution_count": 45,
   "metadata": {},
   "outputs": [],
   "source": [
    "year = date.today().year\n",
    "\n",
    "upper_bound = f'01.01.{year}'\n",
    "lower_bound = f'31.12.{year}'\n",
    "\n",
    "url = f'https://nationalbank.kz/ru/exchangerates/ezhednevnye-oficialnye-rynochnye-kursy-valyut\\\n",
    "    /report?rates%5B%5D=5&beginDate={upper_bound}&endDate={lower_bound}'\n"
   ]
  },
  {
   "cell_type": "code",
   "execution_count": 46,
   "metadata": {},
   "outputs": [
    {
     "data": {
      "text/plain": [
       "2023"
      ]
     },
     "execution_count": 46,
     "metadata": {},
     "output_type": "execute_result"
    }
   ],
   "source": [
    "year"
   ]
  },
  {
   "cell_type": "code",
   "execution_count": 26,
   "metadata": {},
   "outputs": [],
   "source": [
    "page = requests.get(url=url)"
   ]
  },
  {
   "cell_type": "code",
   "execution_count": 27,
   "metadata": {},
   "outputs": [],
   "source": [
    "temp_df = pd.read_html(page.text)"
   ]
  },
  {
   "cell_type": "code",
   "execution_count": 28,
   "metadata": {},
   "outputs": [],
   "source": [
    "df =temp_df[0]"
   ]
  },
  {
   "cell_type": "code",
   "execution_count": 30,
   "metadata": {},
   "outputs": [],
   "source": [
    "df['Unnamed: 0'] = pd.to_datetime(df['Unnamed: 0'], dayfirst=)"
   ]
  },
  {
   "cell_type": "code",
   "execution_count": 37,
   "metadata": {},
   "outputs": [],
   "source": [
    "#df.to_excel('/Users/hotdonkey/Documents/GitHub/data_science_learning/code/LME/parser_beta/data/nbk_tenge.xlsx', sheet_name='tenge')"
   ]
  },
  {
   "cell_type": "code",
   "execution_count": 38,
   "metadata": {},
   "outputs": [],
   "source": [
    "def nbk_tenge():\n",
    "    upper_bound = '01.01.2023'\n",
    "    lower_bound = '31.12.2023'\n",
    "\n",
    "    url = f'https://nationalbank.kz/ru/exchangerates/ezhednevnye-oficialnye-rynochnye-kursy-valyut\\\n",
    "        /report?rates%5B%5D=5&beginDate={upper_bound}&endDate={lower_bound}'\n",
    "        \n",
    "    page = requests.get(url=url)\n",
    "    temp_df = pd.read_html(page.text)\n",
    "    df =temp_df[0]\n",
    "    df['Unnamed: 0'] = pd.to_datetime(df['Unnamed: 0'], dayfirst=True)\n",
    "    \n",
    "    with pd.ExcelWriter(\n",
    "            '/Users/hotdonkey/Documents/GitHub/data_science_learning/code/LME/parser_beta/data/nbk_tenge.xlsx') as writer:\n",
    "        df.to_excel(writer, sheet_name='tenge')\n",
    "    return df"
   ]
  },
  {
   "cell_type": "code",
   "execution_count": null,
   "metadata": {},
   "outputs": [],
   "source": []
  }
 ],
 "metadata": {
  "kernelspec": {
   "display_name": "Python 3",
   "language": "python",
   "name": "python3"
  },
  "language_info": {
   "codemirror_mode": {
    "name": "ipython",
    "version": 3
   },
   "file_extension": ".py",
   "mimetype": "text/x-python",
   "name": "python",
   "nbconvert_exporter": "python",
   "pygments_lexer": "ipython3",
   "version": "3.11.0"
  },
  "orig_nbformat": 4,
  "vscode": {
   "interpreter": {
    "hash": "1a1af0ee75eeea9e2e1ee996c87e7a2b11a0bebd85af04bb136d915cefc0abce"
   }
  }
 },
 "nbformat": 4,
 "nbformat_minor": 2
}
