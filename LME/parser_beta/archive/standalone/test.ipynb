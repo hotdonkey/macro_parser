{
 "cells": [
  {
   "cell_type": "code",
   "execution_count": 1,
   "metadata": {},
   "outputs": [],
   "source": [
    "import pandas as pd"
   ]
  },
  {
   "cell_type": "code",
   "execution_count": 4,
   "metadata": {},
   "outputs": [],
   "source": [
    "data = pd.read_excel('cb_curr.xlsx', index_col=0)"
   ]
  },
  {
   "cell_type": "code",
   "execution_count": 5,
   "metadata": {},
   "outputs": [
    {
     "data": {
      "text/html": [
       "<div><div id=2910dba5-cd9f-40b4-ba65-035985ea8bb1 style=\"display:none; background-color:#9D6CFF; color:white; width:200px; height:30px; padding-left:5px; border-radius:4px; flex-direction:row; justify-content:space-around; align-items:center;\" onmouseover=\"this.style.backgroundColor='#BA9BF8'\" onmouseout=\"this.style.backgroundColor='#9D6CFF'\" onclick=\"window.commands?.execute('create-mitosheet-from-dataframe-output');\">See Full Dataframe in Mito</div> <script> if (window.commands?.hasCommand('create-mitosheet-from-dataframe-output')) document.getElementById('2910dba5-cd9f-40b4-ba65-035985ea8bb1').style.display = 'flex' </script> <table border=\"1\" class=\"dataframe\">\n",
       "  <thead>\n",
       "    <tr style=\"text-align: right;\">\n",
       "      <th></th>\n",
       "      <th>Date</th>\n",
       "      <th>Id</th>\n",
       "      <th>Nominal</th>\n",
       "      <th>Value</th>\n",
       "    </tr>\n",
       "  </thead>\n",
       "  <tbody>\n",
       "    <tr>\n",
       "      <th>0</th>\n",
       "      <td>2022-12-28</td>\n",
       "      <td>USD</td>\n",
       "      <td>1</td>\n",
       "      <td>69.9346</td>\n",
       "    </tr>\n",
       "    <tr>\n",
       "      <th>1</th>\n",
       "      <td>2022-12-28</td>\n",
       "      <td>EUR</td>\n",
       "      <td>1</td>\n",
       "      <td>74.1829</td>\n",
       "    </tr>\n",
       "    <tr>\n",
       "      <th>2</th>\n",
       "      <td>2022-12-28</td>\n",
       "      <td>Australian_Dollar</td>\n",
       "      <td>1</td>\n",
       "      <td>46.7163</td>\n",
       "    </tr>\n",
       "    <tr>\n",
       "      <th>3</th>\n",
       "      <td>2022-12-28</td>\n",
       "      <td>China_Yuan</td>\n",
       "      <td>10</td>\n",
       "      <td>99.4575</td>\n",
       "    </tr>\n",
       "    <tr>\n",
       "      <th>4</th>\n",
       "      <td>2022-12-28</td>\n",
       "      <td>British_Pound</td>\n",
       "      <td>1</td>\n",
       "      <td>84.1313</td>\n",
       "    </tr>\n",
       "    <tr>\n",
       "      <th>...</th>\n",
       "      <td>...</td>\n",
       "      <td>...</td>\n",
       "      <td>...</td>\n",
       "      <td>...</td>\n",
       "    </tr>\n",
       "    <tr>\n",
       "      <th>395</th>\n",
       "      <td>2023-03-17</td>\n",
       "      <td>China_Yuan</td>\n",
       "      <td>1</td>\n",
       "      <td>11.0485</td>\n",
       "    </tr>\n",
       "    <tr>\n",
       "      <th>396</th>\n",
       "      <td>2023-03-17</td>\n",
       "      <td>British_Pound</td>\n",
       "      <td>1</td>\n",
       "      <td>91.9053</td>\n",
       "    </tr>\n",
       "    <tr>\n",
       "      <th>397</th>\n",
       "      <td>2023-03-17</td>\n",
       "      <td>Kazakhstan_Tenge</td>\n",
       "      <td>100</td>\n",
       "      <td>16.4396</td>\n",
       "    </tr>\n",
       "    <tr>\n",
       "      <th>398</th>\n",
       "      <td>2023-03-17</td>\n",
       "      <td>Japanese_Yen</td>\n",
       "      <td>100</td>\n",
       "      <td>57.6458</td>\n",
       "    </tr>\n",
       "    <tr>\n",
       "      <th>399</th>\n",
       "      <td>2023-03-17</td>\n",
       "      <td>Swiss_Franc</td>\n",
       "      <td>1</td>\n",
       "      <td>82.4266</td>\n",
       "    </tr>\n",
       "  </tbody>\n",
       "</table></div>"
      ],
      "text/plain": [
       "          Date                 Id  Nominal    Value\n",
       "0   2022-12-28                USD        1  69.9346\n",
       "1   2022-12-28                EUR        1  74.1829\n",
       "2   2022-12-28  Australian_Dollar        1  46.7163\n",
       "3   2022-12-28         China_Yuan       10  99.4575\n",
       "4   2022-12-28      British_Pound        1  84.1313\n",
       "..         ...                ...      ...      ...\n",
       "395 2023-03-17         China_Yuan        1  11.0485\n",
       "396 2023-03-17      British_Pound        1  91.9053\n",
       "397 2023-03-17   Kazakhstan_Tenge      100  16.4396\n",
       "398 2023-03-17       Japanese_Yen      100  57.6458\n",
       "399 2023-03-17        Swiss_Franc        1  82.4266\n",
       "\n",
       "[400 rows x 4 columns]"
      ]
     },
     "execution_count": 5,
     "metadata": {},
     "output_type": "execute_result"
    }
   ],
   "source": [
    "data"
   ]
  },
  {
   "cell_type": "code",
   "execution_count": null,
   "metadata": {},
   "outputs": [],
   "source": []
  }
 ],
 "metadata": {
  "kernelspec": {
   "display_name": "ds",
   "language": "python",
   "name": "python3"
  },
  "language_info": {
   "codemirror_mode": {
    "name": "ipython",
    "version": 3
   },
   "file_extension": ".py",
   "mimetype": "text/x-python",
   "name": "python",
   "nbconvert_exporter": "python",
   "pygments_lexer": "ipython3",
   "version": "3.11.0"
  },
  "orig_nbformat": 4
 },
 "nbformat": 4,
 "nbformat_minor": 2
}
