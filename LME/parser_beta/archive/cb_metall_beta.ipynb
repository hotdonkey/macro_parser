{
 "cells": [
  {
   "cell_type": "code",
   "execution_count": 5,
   "metadata": {},
   "outputs": [],
   "source": [
    "import pandas as pd\n",
    "import numpy as np\n",
    "from datetime import date\n",
    "\n",
    "\n",
    "def cb_metall():\n",
    "    day = date.today()\n",
    "    today = day.strftime('%d/%m/%Y')\n",
    "\n",
    "    metall_dict = {\n",
    "        1: 'gold',\n",
    "        2: 'silver',\n",
    "        3: 'platinum',\n",
    "        4: 'palladium'\n",
    "    }\n",
    "\n",
    "    URL = f'http://www.cbr.ru/scripts/xml_metall.asp?date_req1={today}&date_req2={today}'\n",
    "\n",
    "    metall_df = pd.read_excel(\n",
    "        '/Users/hotdonkey/Documents/GitHub/data_science_learning/code/LME/parser_beta/data/cb_metall.xlsx', index_col=0)\n",
    "\n",
    "    response_df = pd.read_xml(URL)\n",
    "    response_df.drop(columns='Buy', axis=1, inplace=True)\n",
    "    response_df['Date'] = pd.to_datetime(\n",
    "        response_df['Date'], dayfirst=True)\n",
    "    response_df['Sell'] = response_df['Sell'].apply(\n",
    "        lambda x: x.replace(',', '.'))\n",
    "    response_df['Sell'] = response_df['Sell'].apply(pd.to_numeric)\n",
    "    response_df = response_df.replace(metall_dict)\n",
    "\n",
    "    metall_df = pd.concat([metall_df, response_df], axis=0, ignore_index=True)\n",
    "    metall_df.drop_duplicates(inplace=True)\n",
    "\n",
    "    with pd.ExcelWriter(\n",
    "            '/Users/hotdonkey/Documents/GitHub/data_science_learning/code/LME/parser_beta/data/cb_metall.xlsx',\n",
    "            date_format='YYYY-MM-DD',\n",
    "            datetime_format='YYYY-MM-DD') as writer:\n",
    "        metall_df.to_excel(writer, sheet_name='cb_metall')\n",
    "\n",
    "    return metall_df\n",
    "\n",
    "\n",
    "if __name__ == '__main__':\n",
    "    cb_metall()\n"
   ]
  },
  {
   "cell_type": "code",
   "execution_count": null,
   "metadata": {},
   "outputs": [],
   "source": []
  }
 ],
 "metadata": {
  "kernelspec": {
   "display_name": "Python 3",
   "language": "python",
   "name": "python3"
  },
  "language_info": {
   "codemirror_mode": {
    "name": "ipython",
    "version": 3
   },
   "file_extension": ".py",
   "mimetype": "text/x-python",
   "name": "python",
   "nbconvert_exporter": "python",
   "pygments_lexer": "ipython3",
   "version": "3.11.0 (v3.11.0:deaf509e8f, Oct 24 2022, 14:43:23) [Clang 13.0.0 (clang-1300.0.29.30)]"
  },
  "orig_nbformat": 4,
  "vscode": {
   "interpreter": {
    "hash": "1a1af0ee75eeea9e2e1ee996c87e7a2b11a0bebd85af04bb136d915cefc0abce"
   }
  }
 },
 "nbformat": 4,
 "nbformat_minor": 2
}
