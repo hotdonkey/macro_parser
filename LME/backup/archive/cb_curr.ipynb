{
 "cells": [
  {
   "cell_type": "code",
   "execution_count": 111,
   "metadata": {},
   "outputs": [],
   "source": [
    "import pandas as pd\n",
    "import requests\n",
    "from datetime import date\n",
    "\n",
    "# URL = 'http://www.cbr.ru/scripts/XML_dynamic.asp?date_req1=01/10/2022&date_req2=31/12/2022&VAL_NM_RQ=R01235 '\n",
    "\n",
    "day = date.today()\n",
    "today = day.strftime('%d/%m/%Y')\n",
    "\n",
    "URL = f'http://www.cbr.ru/scripts/XML_dynamic.asp?date_req1={today}&date_req2={today}&VAL_NM_RQ=R01235 '\n",
    "\n",
    "headers = {\n",
    "    'user-agent': 'Mozilla/5.0 (Windows NT 10.0; Win64; x64) AppleWebKit/537.36 (KHTML, like Gecko) Chrome/107.0.0.0 Safari/537.36'\n",
    "}\n",
    "\n",
    "dict_of_currencies = {\n",
    "    'R01235': 'USD',\n",
    "    'R01239': 'EUR',\n",
    "    'R01010': 'Australian_Dollar',\n",
    "    'R01375': 'China_Yuan',\n",
    "    'R01035': 'British_Pound',\n",
    "    'R01335': 'Kazakhstan_Tenge',\n",
    "    'R01815': 'Japanese_Yen',\n",
    "    'R01775': 'Swiss_Franc'\n",
    "}\n",
    "\n",
    "list_of_currencies = [dict_of_currencies.keys()]\n",
    "\n",
    "response = requests.get(URL, headers=headers)\n"
   ]
  },
  {
   "cell_type": "code",
   "execution_count": 112,
   "metadata": {},
   "outputs": [],
   "source": [
    "# Block of transformation\n",
    "usd_df = pd.read_xml(URL)\n",
    "usd_df['Date'] = pd.to_datetime(usd_df['Date'], dayfirst=True)\n",
    "usd_df['Value'] = usd_df['Value'].apply(lambda x: x.replace(',', '.'))\n",
    "usd_df['Value'] = usd_df['Value'].apply(pd.to_numeric)\n",
    "usd_df = usd_df.replace(dict_of_currencies)\n"
   ]
  },
  {
   "cell_type": "code",
   "execution_count": 113,
   "metadata": {},
   "outputs": [
    {
     "data": {
      "text/html": [
       "<div>\n",
       "<style scoped>\n",
       "    .dataframe tbody tr th:only-of-type {\n",
       "        vertical-align: middle;\n",
       "    }\n",
       "\n",
       "    .dataframe tbody tr th {\n",
       "        vertical-align: top;\n",
       "    }\n",
       "\n",
       "    .dataframe thead th {\n",
       "        text-align: right;\n",
       "    }\n",
       "</style>\n",
       "<table border=\"1\" class=\"dataframe\">\n",
       "  <thead>\n",
       "    <tr style=\"text-align: right;\">\n",
       "      <th></th>\n",
       "      <th>Date</th>\n",
       "      <th>Id</th>\n",
       "      <th>Nominal</th>\n",
       "      <th>Value</th>\n",
       "    </tr>\n",
       "  </thead>\n",
       "  <tbody>\n",
       "    <tr>\n",
       "      <th>0</th>\n",
       "      <td>2022-12-28</td>\n",
       "      <td>USD</td>\n",
       "      <td>1</td>\n",
       "      <td>69.9346</td>\n",
       "    </tr>\n",
       "  </tbody>\n",
       "</table>\n",
       "</div>"
      ],
      "text/plain": [
       "        Date   Id  Nominal    Value\n",
       "0 2022-12-28  USD        1  69.9346"
      ]
     },
     "execution_count": 113,
     "metadata": {},
     "output_type": "execute_result"
    }
   ],
   "source": [
    "usd_df"
   ]
  },
  {
   "cell_type": "code",
   "execution_count": null,
   "metadata": {},
   "outputs": [],
   "source": []
  }
 ],
 "metadata": {
  "kernelspec": {
   "display_name": "Python 3",
   "language": "python",
   "name": "python3"
  },
  "language_info": {
   "codemirror_mode": {
    "name": "ipython",
    "version": 3
   },
   "file_extension": ".py",
   "mimetype": "text/x-python",
   "name": "python",
   "nbconvert_exporter": "python",
   "pygments_lexer": "ipython3",
   "version": "3.11.0"
  },
  "orig_nbformat": 4,
  "vscode": {
   "interpreter": {
    "hash": "1a1af0ee75eeea9e2e1ee996c87e7a2b11a0bebd85af04bb136d915cefc0abce"
   }
  }
 },
 "nbformat": 4,
 "nbformat_minor": 2
}
