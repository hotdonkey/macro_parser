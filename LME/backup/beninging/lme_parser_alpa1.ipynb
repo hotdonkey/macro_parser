{
 "cells": [
  {
   "cell_type": "code",
   "execution_count": 1,
   "metadata": {},
   "outputs": [],
   "source": [
    "import pandas as pd\n",
    "import requests\n",
    "\n",
    "\n",
    "url_aluminium  = 'https://www.lme.com/api/trading-data/day-delayed?datasourceId=1a0ef0b6-3ee6-4e44-a415-7a313d5bd771'\n",
    "url_copper = 'https://www.lme.com/api/trading-data/day-delayed?datasourceId=762a3883-b0e1-4c18-b34b-fe97a1f2d3a5'\n",
    "url_lead = 'https://www.lme.com/api/trading-data/day-delayed?datasourceId=bc443de6-0bdd-4464-8845-9504f528b0c6'\n",
    "url_nikel = 'https://www.lme.com/api/trading-data/day-delayed?datasourceId=acadf037-c13f-42f2-b42a-cac9a8179940'\n",
    "url_zink = 'https://www.lme.com/api/trading-data/day-delayed?datasourceId=c389e2b0-c4a3-46a0-96ca-69cacbe90ee4'\n",
    "\n",
    "req_list = {'aluminium':url_aluminium, 'copper':url_copper, 'lead':url_lead, 'nikel':url_nikel, 'zink':url_zink}\n",
    "day_dict = {'date':[],'aluminium':[],'copper':[],'lead':[],'nikel':[],'zink':[],}\n",
    "\n",
    "for metal, url in req_list.items():\n",
    "    req = requests.get(url).json()\n",
    "    metal_dict = req['Rows'][0]\n",
    "    day_dict[metal] = float(metal_dict['Values'][1])\n",
    "    day_dict['date'] = metal_dict['BusinessDateTime']"
   ]
  },
  {
   "cell_type": "code",
   "execution_count": 2,
   "metadata": {},
   "outputs": [],
   "source": [
    "#Создание строки содержащей дневные данные\n",
    "\n",
    "dict_ = dict(day_dict)\n",
    "day_string = pd.DataFrame([dict_])\n",
    "day_string.date = pd.to_datetime(day_string.date)"
   ]
  },
  {
   "cell_type": "code",
   "execution_count": 3,
   "metadata": {},
   "outputs": [
    {
     "data": {
      "text/html": [
       "<div>\n",
       "<style scoped>\n",
       "    .dataframe tbody tr th:only-of-type {\n",
       "        vertical-align: middle;\n",
       "    }\n",
       "\n",
       "    .dataframe tbody tr th {\n",
       "        vertical-align: top;\n",
       "    }\n",
       "\n",
       "    .dataframe thead th {\n",
       "        text-align: right;\n",
       "    }\n",
       "</style>\n",
       "<table border=\"1\" class=\"dataframe\">\n",
       "  <thead>\n",
       "    <tr style=\"text-align: right;\">\n",
       "      <th></th>\n",
       "      <th>date</th>\n",
       "      <th>aluminium</th>\n",
       "      <th>copper</th>\n",
       "      <th>lead</th>\n",
       "      <th>nikel</th>\n",
       "      <th>zink</th>\n",
       "    </tr>\n",
       "  </thead>\n",
       "  <tbody>\n",
       "    <tr>\n",
       "      <th>0</th>\n",
       "      <td>2022-12-09</td>\n",
       "      <td>2453.5</td>\n",
       "      <td>8490.5</td>\n",
       "      <td>2207.0</td>\n",
       "      <td>29850.0</td>\n",
       "      <td>3247.0</td>\n",
       "    </tr>\n",
       "  </tbody>\n",
       "</table>\n",
       "</div>"
      ],
      "text/plain": [
       "        date  aluminium  copper    lead    nikel    zink\n",
       "0 2022-12-09     2453.5  8490.5  2207.0  29850.0  3247.0"
      ]
     },
     "execution_count": 3,
     "metadata": {},
     "output_type": "execute_result"
    }
   ],
   "source": [
    "day_string"
   ]
  },
  {
   "cell_type": "code",
   "execution_count": 24,
   "metadata": {},
   "outputs": [],
   "source": [
    "\n",
    "lme_db = pd.read_excel('LME_db.xlsx', index_col=0)\n",
    "lme_db = pd.concat([lme_db, day_string], axis=0)\n",
    "#lme_db.drop_duplicates(inplace=True)\n"
   ]
  },
  {
   "cell_type": "code",
   "execution_count": 25,
   "metadata": {},
   "outputs": [
    {
     "name": "stderr",
     "output_type": "stream",
     "text": [
      "/var/folders/18/xwlc5znx4tz1pcrtznkl3fch0000gn/T/ipykernel_5006/2234398401.py:3: FutureWarning: save is not part of the public API, usage can give unexpected results and will be removed in a future version\n",
      "  writer.save()\n"
     ]
    }
   ],
   "source": [
    "writer = pd.ExcelWriter('LME_db.xlsx') # write dataframe to excel \n",
    "lme_db.to_excel(writer) # save the excel \n",
    "writer.save()\n"
   ]
  },
  {
   "cell_type": "code",
   "execution_count": 93,
   "metadata": {},
   "outputs": [
    {
     "data": {
      "text/html": [
       "<div>\n",
       "<style scoped>\n",
       "    .dataframe tbody tr th:only-of-type {\n",
       "        vertical-align: middle;\n",
       "    }\n",
       "\n",
       "    .dataframe tbody tr th {\n",
       "        vertical-align: top;\n",
       "    }\n",
       "\n",
       "    .dataframe thead th {\n",
       "        text-align: right;\n",
       "    }\n",
       "</style>\n",
       "<table border=\"1\" class=\"dataframe\">\n",
       "  <thead>\n",
       "    <tr style=\"text-align: right;\">\n",
       "      <th></th>\n",
       "      <th>date</th>\n",
       "      <th>aluminium</th>\n",
       "      <th>copper</th>\n",
       "      <th>lead</th>\n",
       "      <th>nikel</th>\n",
       "      <th>zink</th>\n",
       "    </tr>\n",
       "  </thead>\n",
       "  <tbody>\n",
       "    <tr>\n",
       "      <th>0</th>\n",
       "      <td>2022-12-07</td>\n",
       "      <td>2450.5</td>\n",
       "      <td>8334.0</td>\n",
       "      <td>2206.0</td>\n",
       "      <td>28725.0</td>\n",
       "      <td>3140.0</td>\n",
       "    </tr>\n",
       "  </tbody>\n",
       "</table>\n",
       "</div>"
      ],
      "text/plain": [
       "        date  aluminium  copper    lead    nikel    zink\n",
       "0 2022-12-07     2450.5  8334.0  2206.0  28725.0  3140.0"
      ]
     },
     "execution_count": 93,
     "metadata": {},
     "output_type": "execute_result"
    }
   ],
   "source": [
    "day_string"
   ]
  },
  {
   "cell_type": "code",
   "execution_count": 94,
   "metadata": {},
   "outputs": [
    {
     "name": "stderr",
     "output_type": "stream",
     "text": [
      "/var/folders/18/xwlc5znx4tz1pcrtznkl3fch0000gn/T/ipykernel_2782/891667500.py:2: FutureWarning: The frame.append method is deprecated and will be removed from pandas in a future version. Use pandas.concat instead.\n",
      "  lme_db = lme_db.append(day_string)\n"
     ]
    }
   ],
   "source": [
    "lme_db = lme_db.append(day_string)"
   ]
  },
  {
   "cell_type": "code",
   "execution_count": 136,
   "metadata": {},
   "outputs": [],
   "source": [
    "#lme_df = pd.read_csv('/Users/hotdonkey/Documents/GitHub/data_science_learning/code/data/lme_df.csv',sep=';')\n",
    "#lme_df = pd.concat([lme_df,lme_db],axis=0)\n",
    "#lme_df.to_csv('/Users/hotdonkey/Documents/GitHub/data_science_learning/code/data/lme_df.csv')"
   ]
  },
  {
   "cell_type": "code",
   "execution_count": 129,
   "metadata": {},
   "outputs": [
    {
     "data": {
      "text/html": [
       "<div>\n",
       "<style scoped>\n",
       "    .dataframe tbody tr th:only-of-type {\n",
       "        vertical-align: middle;\n",
       "    }\n",
       "\n",
       "    .dataframe tbody tr th {\n",
       "        vertical-align: top;\n",
       "    }\n",
       "\n",
       "    .dataframe thead th {\n",
       "        text-align: right;\n",
       "    }\n",
       "</style>\n",
       "<table border=\"1\" class=\"dataframe\">\n",
       "  <thead>\n",
       "    <tr style=\"text-align: right;\">\n",
       "      <th></th>\n",
       "      <th>date</th>\n",
       "      <th>aluminium</th>\n",
       "      <th>copper</th>\n",
       "      <th>lead</th>\n",
       "      <th>nikel</th>\n",
       "      <th>zink</th>\n",
       "    </tr>\n",
       "  </thead>\n",
       "  <tbody>\n",
       "    <tr>\n",
       "      <th>0</th>\n",
       "      <td>2022-12-07</td>\n",
       "      <td>2450.5</td>\n",
       "      <td>8334.0</td>\n",
       "      <td>2206.0</td>\n",
       "      <td>28725.0</td>\n",
       "      <td>3140.0</td>\n",
       "    </tr>\n",
       "  </tbody>\n",
       "</table>\n",
       "</div>"
      ],
      "text/plain": [
       "        date  aluminium  copper    lead    nikel    zink\n",
       "0 2022-12-07     2450.5  8334.0  2206.0  28725.0  3140.0"
      ]
     },
     "execution_count": 129,
     "metadata": {},
     "output_type": "execute_result"
    }
   ],
   "source": [
    "lme_df"
   ]
  },
  {
   "cell_type": "code",
   "execution_count": 137,
   "metadata": {},
   "outputs": [],
   "source": [
    "lme_df = pd.read_csv('/Users/hotdonkey/Documents/GitHub/data_science_learning/code/data/lme_df.csv',sep=',')\n",
    "lme_df = pd.concat([lme_df,lme_db],axis=0)\n",
    "lme_df.to_csv('/Users/hotdonkey/Documents/GitHub/data_science_learning/code/data/lme_df.csv')"
   ]
  },
  {
   "cell_type": "code",
   "execution_count": 138,
   "metadata": {},
   "outputs": [
    {
     "data": {
      "text/html": [
       "<div>\n",
       "<style scoped>\n",
       "    .dataframe tbody tr th:only-of-type {\n",
       "        vertical-align: middle;\n",
       "    }\n",
       "\n",
       "    .dataframe tbody tr th {\n",
       "        vertical-align: top;\n",
       "    }\n",
       "\n",
       "    .dataframe thead th {\n",
       "        text-align: right;\n",
       "    }\n",
       "</style>\n",
       "<table border=\"1\" class=\"dataframe\">\n",
       "  <thead>\n",
       "    <tr style=\"text-align: right;\">\n",
       "      <th></th>\n",
       "      <th>Unnamed: 0</th>\n",
       "      <th>,Unnamed: 0.1,Unnamed: 0,date,aluminium,copper,lead,nikel,zink</th>\n",
       "      <th>date</th>\n",
       "      <th>aluminium</th>\n",
       "      <th>copper</th>\n",
       "      <th>lead</th>\n",
       "      <th>nikel</th>\n",
       "      <th>zink</th>\n",
       "    </tr>\n",
       "  </thead>\n",
       "  <tbody>\n",
       "    <tr>\n",
       "      <th>0</th>\n",
       "      <td>0.0</td>\n",
       "      <td>0,0.0,0.0,2022-12-07,2450.5,8334.0,2206.0,2872...</td>\n",
       "      <td>NaN</td>\n",
       "      <td>NaN</td>\n",
       "      <td>NaN</td>\n",
       "      <td>NaN</td>\n",
       "      <td>NaN</td>\n",
       "      <td>NaN</td>\n",
       "    </tr>\n",
       "    <tr>\n",
       "      <th>1</th>\n",
       "      <td>1.0</td>\n",
       "      <td>1,0.0,,2022-12-07 00:00:00,2450.5,8334.0,2206....</td>\n",
       "      <td>NaN</td>\n",
       "      <td>NaN</td>\n",
       "      <td>NaN</td>\n",
       "      <td>NaN</td>\n",
       "      <td>NaN</td>\n",
       "      <td>NaN</td>\n",
       "    </tr>\n",
       "    <tr>\n",
       "      <th>2</th>\n",
       "      <td>2.0</td>\n",
       "      <td>0,,,2022-12-07 00:00:00,2450.5,8334.0,2206.0,2...</td>\n",
       "      <td>NaN</td>\n",
       "      <td>NaN</td>\n",
       "      <td>NaN</td>\n",
       "      <td>NaN</td>\n",
       "      <td>NaN</td>\n",
       "      <td>NaN</td>\n",
       "    </tr>\n",
       "    <tr>\n",
       "      <th>3</th>\n",
       "      <td>0.0</td>\n",
       "      <td>NaN</td>\n",
       "      <td>2022-12-07</td>\n",
       "      <td>2450.5</td>\n",
       "      <td>8334.0</td>\n",
       "      <td>2206.0</td>\n",
       "      <td>28725.0</td>\n",
       "      <td>3140.0</td>\n",
       "    </tr>\n",
       "    <tr>\n",
       "      <th>0</th>\n",
       "      <td>NaN</td>\n",
       "      <td>NaN</td>\n",
       "      <td>2022-12-07 00:00:00</td>\n",
       "      <td>2450.5</td>\n",
       "      <td>8334.0</td>\n",
       "      <td>2206.0</td>\n",
       "      <td>28725.0</td>\n",
       "      <td>3140.0</td>\n",
       "    </tr>\n",
       "  </tbody>\n",
       "</table>\n",
       "</div>"
      ],
      "text/plain": [
       "   Unnamed: 0 ,Unnamed: 0.1,Unnamed: 0,date,aluminium,copper,lead,nikel,zink  \\\n",
       "0         0.0  0,0.0,0.0,2022-12-07,2450.5,8334.0,2206.0,2872...               \n",
       "1         1.0  1,0.0,,2022-12-07 00:00:00,2450.5,8334.0,2206....               \n",
       "2         2.0  0,,,2022-12-07 00:00:00,2450.5,8334.0,2206.0,2...               \n",
       "3         0.0                                                NaN               \n",
       "0         NaN                                                NaN               \n",
       "\n",
       "                  date  aluminium  copper    lead    nikel    zink  \n",
       "0                  NaN        NaN     NaN     NaN      NaN     NaN  \n",
       "1                  NaN        NaN     NaN     NaN      NaN     NaN  \n",
       "2                  NaN        NaN     NaN     NaN      NaN     NaN  \n",
       "3           2022-12-07     2450.5  8334.0  2206.0  28725.0  3140.0  \n",
       "0  2022-12-07 00:00:00     2450.5  8334.0  2206.0  28725.0  3140.0  "
      ]
     },
     "execution_count": 138,
     "metadata": {},
     "output_type": "execute_result"
    }
   ],
   "source": [
    "lme_df"
   ]
  },
  {
   "cell_type": "code",
   "execution_count": null,
   "metadata": {},
   "outputs": [],
   "source": []
  }
 ],
 "metadata": {
  "kernelspec": {
   "display_name": "Python 3",
   "language": "python",
   "name": "python3"
  },
  "language_info": {
   "codemirror_mode": {
    "name": "ipython",
    "version": 3
   },
   "file_extension": ".py",
   "mimetype": "text/x-python",
   "name": "python",
   "nbconvert_exporter": "python",
   "pygments_lexer": "ipython3",
   "version": "3.11.0"
  },
  "orig_nbformat": 4,
  "vscode": {
   "interpreter": {
    "hash": "aee8b7b246df8f9039afb4144a1f6fd8d2ca17a180786b69acc140d282b71a49"
   }
  }
 },
 "nbformat": 4,
 "nbformat_minor": 2
}
