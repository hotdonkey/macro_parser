{
 "cells": [
  {
   "cell_type": "code",
   "execution_count": 10,
   "metadata": {},
   "outputs": [
    {
     "name": "stderr",
     "output_type": "stream",
     "text": [
      "/var/folders/18/xwlc5znx4tz1pcrtznkl3fch0000gn/T/ipykernel_10676/3681726902.py:41: FutureWarning: save is not part of the public API, usage can give unexpected results and will be removed in a future version\n",
      "  writer.save()\n"
     ]
    }
   ],
   "source": [
    "import pandas as pd\n",
    "import requests\n",
    "\n",
    "def lme_db_addition():\n",
    "    \n",
    "    def get_day_info():\n",
    "        \n",
    "        #URL API for every metall, place into the var\n",
    "        url_aluminium  = 'https://www.lme.com/api/trading-data/day-delayed?datasourceId=1a0ef0b6-3ee6-4e44-a415-7a313d5bd771'\n",
    "        url_copper = 'https://www.lme.com/api/trading-data/day-delayed?datasourceId=762a3883-b0e1-4c18-b34b-fe97a1f2d3a5'\n",
    "        url_lead = 'https://www.lme.com/api/trading-data/day-delayed?datasourceId=bc443de6-0bdd-4464-8845-9504f528b0c6'\n",
    "        url_nikel = 'https://www.lme.com/api/trading-data/day-delayed?datasourceId=acadf037-c13f-42f2-b42a-cac9a8179940'\n",
    "        url_zink = 'https://www.lme.com/api/trading-data/day-delayed?datasourceId=c389e2b0-c4a3-46a0-96ca-69cacbe90ee4'\n",
    "        \n",
    "        #List for iterations\n",
    "        req_list = {'aluminium':url_aluminium, 'copper':url_copper, 'lead':url_lead, 'nikel':url_nikel, 'zink':url_zink}\n",
    "        #Empty dict for final row-stage\n",
    "        day_dict = {'date':[],'aluminium':[],'copper':[],'lead':[],'nikel':[],'zink':[],}\n",
    "        \n",
    "        #Getting json from api's requests and taking the info (in our case OFFER price for a date)\n",
    "        for metal, url in req_list.items():\n",
    "            req = requests.get(url).json()\n",
    "            metal_dict = req['Rows'][0]\n",
    "            day_dict[metal] = float(metal_dict['Values'][1])\n",
    "            day_dict['date'] = metal_dict['BusinessDateTime']\n",
    "        \n",
    "        #Transform dict from previous stage into the row\n",
    "        dict_ = dict(day_dict)  \n",
    "        day_row = pd.DataFrame([dict_])\n",
    "        day_row.date = pd.to_datetime(day_row.date)\n",
    "        \n",
    "        return day_row #This is our row for implimentation into the main base\n",
    "    \n",
    "    #Opening main base, add a row, check for dupp, saving and closing\n",
    "    lme_db = pd.read_excel('LME_db.xlsx', index_col=0)\n",
    "    day_row = get_day_info()\n",
    "    lme_db = pd.concat([lme_db, day_row], axis=0, ignore_index=True)\n",
    "    lme_db.drop_duplicates(inplace=True)\n",
    "    \n",
    "    writer = pd.ExcelWriter('LME_db.xlsx')\n",
    "    lme_db.to_excel(writer)\n",
    "    writer.save()\n",
    "    \n",
    "    return lme_db\n",
    "\n",
    "lme_db = lme_db_addition()"
   ]
  },
  {
   "cell_type": "code",
   "execution_count": null,
   "metadata": {},
   "outputs": [],
   "source": []
  }
 ],
 "metadata": {
  "kernelspec": {
   "display_name": "Python 3",
   "language": "python",
   "name": "python3"
  },
  "language_info": {
   "codemirror_mode": {
    "name": "ipython",
    "version": 3
   },
   "file_extension": ".py",
   "mimetype": "text/x-python",
   "name": "python",
   "nbconvert_exporter": "python",
   "pygments_lexer": "ipython3",
   "version": "3.11.0 (v3.11.0:deaf509e8f, Oct 24 2022, 14:43:23) [Clang 13.0.0 (clang-1300.0.29.30)]"
  },
  "orig_nbformat": 4,
  "vscode": {
   "interpreter": {
    "hash": "aee8b7b246df8f9039afb4144a1f6fd8d2ca17a180786b69acc140d282b71a49"
   }
  }
 },
 "nbformat": 4,
 "nbformat_minor": 2
}
